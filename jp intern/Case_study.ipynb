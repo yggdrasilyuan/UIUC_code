{
 "cells": [
  {
   "cell_type": "code",
   "execution_count": 1,
   "metadata": {},
   "outputs": [
    {
     "name": "stdout",
     "output_type": "stream",
     "text": [
      "The expected value of the stock price after 1 minutes is: 100.017\n",
      "The expected value of the stock price after 10 minutes is: 99.982\n",
      "The expected value of the stock price after 60 minutes is: 99.986\n",
      "The expected value of the stock price after 44640 minutes is: 104.2124\n"
     ]
    }
   ],
   "source": [
    "import numpy as np\n",
    "\n",
    "np.random.seed(0)  # for reproducibility\n",
    "\n",
    "n_simulations = 10000  # the number of simulations to run\n",
    "n_minutes = [1,10,60,44640]  # the time we're interested in\n",
    "initial_price = 100  # initial stock price\n",
    "\n",
    "def monte_carlo(initial_price,n_minutes,n_simulations):\n",
    "    # each step is either +1 or -1\n",
    "    steps = np.random.choice([-1, 1], size=(n_simulations, n_minutes))\n",
    "\n",
    "    # cumulative sum along the row axis\n",
    "    paths = np.cumsum(steps, axis=1)\n",
    "\n",
    "    # Add the initial price to the paths\n",
    "    paths += initial_price\n",
    "\n",
    "    # calculate the expected (mean) final price\n",
    "    expected_final_price = paths[:, -1].mean()\n",
    "\n",
    "    return expected_final_price\n",
    "   \n",
    "    # steps\n",
    "for n_minute in n_minutes:\n",
    "    expected_final_price = monte_carlo(initial_price,n_minute,n_simulations)\n",
    "    print(f\"The expected value of the stock price after {n_minute} minutes is: {expected_final_price}\")\n"
   ]
  },
  {
   "cell_type": "code",
   "execution_count": null,
   "metadata": {},
   "outputs": [],
   "source": [
    "paths[:, -1]"
   ]
  }
 ],
 "metadata": {
  "kernelspec": {
   "display_name": "practicum",
   "language": "python",
   "name": "python3"
  },
  "language_info": {
   "codemirror_mode": {
    "name": "ipython",
    "version": 3
   },
   "file_extension": ".py",
   "mimetype": "text/x-python",
   "name": "python",
   "nbconvert_exporter": "python",
   "pygments_lexer": "ipython3",
   "version": "3.7.9"
  },
  "orig_nbformat": 4
 },
 "nbformat": 4,
 "nbformat_minor": 2
}
