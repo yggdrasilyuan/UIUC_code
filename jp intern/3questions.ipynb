{
 "cells": [
  {
   "attachments": {},
   "cell_type": "markdown",
   "metadata": {},
   "source": [
    "## Question 1"
   ]
  },
  {
   "cell_type": "code",
   "execution_count": 6,
   "metadata": {},
   "outputs": [
    {
     "data": {
      "text/plain": [
       "'Sadaadw'"
      ]
     },
     "execution_count": 6,
     "metadata": {},
     "output_type": "execute_result"
    }
   ],
   "source": [
    "def capitalizer(txt):\n",
    "    return txt.capitalize()##.title()也可以\n",
    "\n",
    "i=\"sadaAdw\"\n",
    "\n",
    "capitalizer(i)\n"
   ]
  },
  {
   "attachments": {},
   "cell_type": "markdown",
   "metadata": {},
   "source": [
    "## Question 2"
   ]
  },
  {
   "cell_type": "code",
   "execution_count": 6,
   "metadata": {},
   "outputs": [
    {
     "data": {
      "text/plain": [
       "3"
      ]
     },
     "execution_count": 6,
     "metadata": {},
     "output_type": "execute_result"
    }
   ],
   "source": [
    "def fib(n):\n",
    "    if (n<=1): return n\n",
    "    p1=0\n",
    "    p2=1\n",
    "    for i in range(n-1):\n",
    "        temp=p1+p2\n",
    "        p1=p2\n",
    "        p2=temp\n",
    "\n",
    "    return p2\n",
    "\n",
    "fib(4) "
   ]
  },
  {
   "cell_type": "code",
   "execution_count": 10,
   "metadata": {},
   "outputs": [
    {
     "data": {
      "text/plain": [
       "3"
      ]
     },
     "execution_count": 10,
     "metadata": {},
     "output_type": "execute_result"
    }
   ],
   "source": [
    "def fib(n):\n",
    "    if (n<=1): return n\n",
    "    return fib(n-1)+fib(n-2)\n",
    "\n",
    "fib(4)\n"
   ]
  },
  {
   "attachments": {},
   "cell_type": "markdown",
   "metadata": {},
   "source": [
    "## Question 3"
   ]
  },
  {
   "cell_type": "code",
   "execution_count": 11,
   "metadata": {},
   "outputs": [
    {
     "name": "stdout",
     "output_type": "stream",
     "text": [
      "65\n"
     ]
    }
   ],
   "source": [
    "num_string = '123456789'  # 给定的数字字符串\n",
    "total_sum = 0  # 用于存储计算结果的变量\n",
    "for i in range(len(num_string)):\n",
    "    if i % 2 != 0:  # 如果是第二个数字\n",
    "        total_sum += int(num_string[i]) * 2  # 将其乘以2并加入总和\n",
    "    else:\n",
    "        total_sum += int(num_string[i])  # 如果是第一个数字，则直接加入总和\n",
    "print(total_sum)  # 输出计算结果\n",
    "\n"
   ]
  },
  {
   "cell_type": "code",
   "execution_count": 12,
   "metadata": {},
   "outputs": [
    {
     "name": "stdout",
     "output_type": "stream",
     "text": [
      "操作后的结果为： 21\n"
     ]
    }
   ],
   "source": [
    "num = input(\"请输入要进行操作的数：\")\n",
    "result = 0\n",
    "for i in range(len(num)):\n",
    "    digit = int(num[len(num) - 1 - i])\n",
    "    if (i + 1) % 2 == 0:  # 判断是否为偶数位（即2，4，6，8位置）\n",
    "        digit *= 2\n",
    "        if digit > 9:  # 如果乘以2后结果大于9，拆成两个数字相加\n",
    "            digit = digit // 10 + digit % 10\n",
    "    result += digit\n",
    "print(\"操作后的结果为：\", result)\n"
   ]
  }
 ],
 "metadata": {
  "kernelspec": {
   "display_name": "practicum",
   "language": "python",
   "name": "python3"
  },
  "language_info": {
   "codemirror_mode": {
    "name": "ipython",
    "version": 3
   },
   "file_extension": ".py",
   "mimetype": "text/x-python",
   "name": "python",
   "nbconvert_exporter": "python",
   "pygments_lexer": "ipython3",
   "version": "3.7.9"
  },
  "orig_nbformat": 4
 },
 "nbformat": 4,
 "nbformat_minor": 2
}
