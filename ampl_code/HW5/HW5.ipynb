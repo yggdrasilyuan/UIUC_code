{
 "cells": [
  {
   "cell_type": "markdown",
   "metadata": {},
   "source": [
    "# HW5\n",
    "```\n",
    "author: Zeyuan Pan\n",
    "```"
   ]
  },
  {
   "cell_type": "code",
   "execution_count": 2,
   "metadata": {},
   "outputs": [
    {
     "data": {
      "text/html": [
       "<div>\n",
       "<style scoped>\n",
       "    .dataframe tbody tr th:only-of-type {\n",
       "        vertical-align: middle;\n",
       "    }\n",
       "\n",
       "    .dataframe tbody tr th {\n",
       "        vertical-align: top;\n",
       "    }\n",
       "\n",
       "    .dataframe thead th {\n",
       "        text-align: right;\n",
       "    }\n",
       "</style>\n",
       "<table border=\"1\" class=\"dataframe\">\n",
       "  <thead>\n",
       "    <tr style=\"text-align: right;\">\n",
       "      <th></th>\n",
       "      <th>Year</th>\n",
       "      <th>Stock</th>\n",
       "      <th>Treasury Bond</th>\n",
       "      <th>Money Market</th>\n",
       "      <th>NASDAQ</th>\n",
       "    </tr>\n",
       "  </thead>\n",
       "  <tbody>\n",
       "    <tr>\n",
       "      <th>0</th>\n",
       "      <td>1961</td>\n",
       "      <td>26.81</td>\n",
       "      <td>2.20</td>\n",
       "      <td>2.33</td>\n",
       "      <td>31.664780</td>\n",
       "    </tr>\n",
       "    <tr>\n",
       "      <th>1</th>\n",
       "      <td>1962</td>\n",
       "      <td>-8.78</td>\n",
       "      <td>5.72</td>\n",
       "      <td>2.93</td>\n",
       "      <td>-15.024354</td>\n",
       "    </tr>\n",
       "    <tr>\n",
       "      <th>2</th>\n",
       "      <td>1963</td>\n",
       "      <td>22.69</td>\n",
       "      <td>1.79</td>\n",
       "      <td>3.38</td>\n",
       "      <td>20.445586</td>\n",
       "    </tr>\n",
       "    <tr>\n",
       "      <th>3</th>\n",
       "      <td>1964</td>\n",
       "      <td>16.36</td>\n",
       "      <td>3.71</td>\n",
       "      <td>3.85</td>\n",
       "      <td>23.118500</td>\n",
       "    </tr>\n",
       "    <tr>\n",
       "      <th>4</th>\n",
       "      <td>1965</td>\n",
       "      <td>12.36</td>\n",
       "      <td>0.93</td>\n",
       "      <td>4.32</td>\n",
       "      <td>17.152602</td>\n",
       "    </tr>\n",
       "  </tbody>\n",
       "</table>\n",
       "</div>"
      ],
      "text/plain": [
       "   Year  Stock  Treasury Bond  Money Market     NASDAQ\n",
       "0  1961  26.81           2.20          2.33  31.664780\n",
       "1  1962  -8.78           5.72          2.93 -15.024354\n",
       "2  1963  22.69           1.79          3.38  20.445586\n",
       "3  1964  16.36           3.71          3.85  23.118500\n",
       "4  1965  12.36           0.93          4.32  17.152602"
      ]
     },
     "execution_count": 2,
     "metadata": {},
     "output_type": "execute_result"
    }
   ],
   "source": [
    "import pandas as pd\n",
    "import numpy as np\n",
    "from gurobipy import *\n",
    "\n",
    "df=pd.read_excel(\"./DataforHomework5.xlsx\")\n",
    "df.head()"
   ]
  },
  {
   "cell_type": "code",
   "execution_count": 18,
   "metadata": {},
   "outputs": [
    {
     "name": "stdout",
     "output_type": "stream",
     "text": [
      "asset names: Stock 12.044186046511628\n",
      "asset names: Treasury Bond 7.792325581395349\n",
      "asset names: Money Market 6.323023255813954\n",
      "asset names: NASDAQ 12.899098246658248\n"
     ]
    }
   ],
   "source": [
    "#q1.1 mean\n",
    "asset=[\"Stock\",\"Treasury Bond\",\"Money Market\",\"NASDAQ\"]\n",
    "for i in asset:\n",
    "    print(f\"asset names:\",i,df[i].mean())"
   ]
  },
  {
   "cell_type": "code",
   "execution_count": 94,
   "metadata": {},
   "outputs": [
    {
     "data": {
      "text/html": [
       "<div>\n",
       "<style scoped>\n",
       "    .dataframe tbody tr th:only-of-type {\n",
       "        vertical-align: middle;\n",
       "    }\n",
       "\n",
       "    .dataframe tbody tr th {\n",
       "        vertical-align: top;\n",
       "    }\n",
       "\n",
       "    .dataframe thead th {\n",
       "        text-align: right;\n",
       "    }\n",
       "</style>\n",
       "<table border=\"1\" class=\"dataframe\">\n",
       "  <thead>\n",
       "    <tr style=\"text-align: right;\">\n",
       "      <th></th>\n",
       "      <th>Stock</th>\n",
       "      <th>Treasury Bond</th>\n",
       "      <th>Money Market</th>\n",
       "      <th>NASDAQ</th>\n",
       "    </tr>\n",
       "  </thead>\n",
       "  <tbody>\n",
       "    <tr>\n",
       "      <th>Stock</th>\n",
       "      <td>277.316982</td>\n",
       "      <td>37.947286</td>\n",
       "      <td>2.044243</td>\n",
       "      <td>348.843452</td>\n",
       "    </tr>\n",
       "    <tr>\n",
       "      <th>Treasury Bond</th>\n",
       "      <td>37.947286</td>\n",
       "      <td>112.124204</td>\n",
       "      <td>-2.391886</td>\n",
       "      <td>-6.347138</td>\n",
       "    </tr>\n",
       "    <tr>\n",
       "      <th>Money Market</th>\n",
       "      <td>2.044243</td>\n",
       "      <td>-2.391886</td>\n",
       "      <td>11.540049</td>\n",
       "      <td>-4.290331</td>\n",
       "    </tr>\n",
       "    <tr>\n",
       "      <th>NASDAQ</th>\n",
       "      <td>348.843452</td>\n",
       "      <td>-6.347138</td>\n",
       "      <td>-4.290331</td>\n",
       "      <td>634.345309</td>\n",
       "    </tr>\n",
       "  </tbody>\n",
       "</table>\n",
       "</div>"
      ],
      "text/plain": [
       "                    Stock  Treasury Bond  Money Market      NASDAQ\n",
       "Stock          277.316982      37.947286      2.044243  348.843452\n",
       "Treasury Bond   37.947286     112.124204     -2.391886   -6.347138\n",
       "Money Market     2.044243      -2.391886     11.540049   -4.290331\n",
       "NASDAQ         348.843452      -6.347138     -4.290331  634.345309"
      ]
     },
     "execution_count": 94,
     "metadata": {},
     "output_type": "execute_result"
    }
   ],
   "source": [
    "#q1.2 covariance matrix\n",
    "data=df[asset]\n",
    "# data.head()\n",
    "data.cov() * (len(data)-1)/len(data)"
   ]
  },
  {
   "cell_type": "code",
   "execution_count": 87,
   "metadata": {},
   "outputs": [
    {
     "data": {
      "text/plain": [
       "26.81"
      ]
     },
     "execution_count": 87,
     "metadata": {},
     "output_type": "execute_result"
    }
   ],
   "source": [
    "data1=np.array(data)\n",
    "data1[0][0]"
   ]
  },
  {
   "cell_type": "markdown",
   "metadata": {},
   "source": [
    "### Question 2\n",
    "\n",
    "the non-linear model could be like the formula below:\n"
   ]
  },
  {
   "cell_type": "code",
   "execution_count": 96,
   "metadata": {},
   "outputs": [
    {
     "data": {
      "text/plain": [
       "array([[277.31698248,  37.94728561,   2.04424316, 348.84345198],\n",
       "       [ 37.94728561, 112.12420389,  -2.3918861 ,  -6.34713811],\n",
       "       [  2.04424316,  -2.3918861 ,  11.540049  ,  -4.29033052],\n",
       "       [348.84345198,  -6.34713811,  -4.29033052, 634.34530917]])"
      ]
     },
     "execution_count": 96,
     "metadata": {},
     "output_type": "execute_result"
    }
   ],
   "source": [
    "\n",
    "np.array(data.cov() * (len(data)-1)/len(data))"
   ]
  },
  {
   "cell_type": "code",
   "execution_count": 97,
   "metadata": {},
   "outputs": [
    {
     "name": "stdout",
     "output_type": "stream",
     "text": [
      "Gurobi Optimizer version 9.5.0 build v9.5.0rc5 (win64)\n",
      "Thread count: 8 physical cores, 16 logical processors, using up to 16 threads\n",
      "Optimize a model with 1 rows, 4 columns and 4 nonzeros\n",
      "Model fingerprint: 0x680d8d91\n",
      "Model has 10 quadratic objective terms\n",
      "Coefficient statistics:\n",
      "  Matrix range     [3e-02, 1e-01]\n",
      "  Objective range  [0e+00, 0e+00]\n",
      "  QObjective range [8e+00, 1e+03]\n",
      "  Bounds range     [0e+00, 0e+00]\n",
      "  RHS range        [1e+00, 1e+00]\n",
      "Presolve time: 0.00s\n",
      "Presolved: 1 rows, 4 columns, 4 nonzeros\n",
      "Presolved model has 10 quadratic objective terms\n",
      "Ordering time: 0.00s\n",
      "\n",
      "Barrier statistics:\n",
      " Free vars  : 3\n",
      " AA' NZ     : 6.000e+00\n",
      " Factor NZ  : 1.000e+01\n",
      " Factor Ops : 3.000e+01 (less than 1 second per iteration)\n",
      " Threads    : 1\n",
      "\n",
      "                  Objective                Residual\n",
      "Iter       Primal          Dual         Primal    Dual     Compl     Time\n",
      "   0   6.51193240e+05 -6.51193240e+05  2.27e+03 1.99e-04  1.08e+06     0s\n",
      "   1   8.24164158e+04 -1.11923805e+05  4.27e+01 3.74e-06  6.31e+04     0s\n",
      "   2   2.03922033e+04 -3.50666185e+04  1.50e+00 1.31e-07  1.46e+04     0s\n",
      "   3   8.54134259e+03  1.66506025e+03  5.64e-03 4.94e-10  1.72e+03     0s\n",
      "   4   7.04001252e+03  6.17476844e+03  5.64e-09 1.78e-15  2.16e+02     0s\n",
      "   5   6.97176736e+03  6.93588682e+03  3.91e-14 1.78e-13  8.97e+00     0s\n",
      "   6   6.96765722e+03  6.96577398e+03  3.20e-14 1.42e-14  4.71e-01     0s\n",
      "   7   6.96743705e+03  6.96733170e+03  8.38e-13 1.36e-14  2.63e-02     0s\n",
      "   8   6.96743598e+03  6.96743587e+03  6.13e-14 1.44e-13  2.58e-05     0s\n",
      "   9   6.96743598e+03  6.96743598e+03  3.16e-13 7.11e-15  2.59e-08     0s\n",
      "  10   6.96743598e+03  6.96743598e+03  4.26e-13 2.96e-13  2.59e-11     0s\n",
      "\n",
      "Barrier solved model in 10 iterations and 0.02 seconds (0.00 work units)\n",
      "Optimal objective 6.96743598e+03\n",
      "\n",
      "Asset 1 weight: 0.007\n",
      "Asset 2 weight: 0.132\n",
      "Asset 3 weight: 0.816\n",
      "Asset 4 weight: 0.045\n",
      "Objective Value (Maximized Sharpe Ratio's Numerator): 1.1980\n"
     ]
    }
   ],
   "source": [
    "\n",
    "# 定义数据\n",
    "returns= [0.12044186046511628,  0.07792325581395349, 0.06323023255813954, 0.12899098246658248]  # 预期收益率\n",
    "covariance_matrix = [[277.31698248,  37.94728561,   2.04424316, 348.84345198],\n",
    "       [ 37.94728561, 112.12420389,  -2.3918861 ,  -6.34713811],\n",
    "       [  2.04424316,  -2.3918861 ,  11.540049  ,  -4.29033052],\n",
    "       [348.84345198,  -6.34713811,  -4.29033052, 634.34530917]]\n",
    "risk_free_rate = 0.03  # 无风险利率\n",
    "\n",
    "m = Model()\n",
    "\n",
    "# Define decision variables\n",
    "x = m.addVars(4, lb=0, vtype=GRB.CONTINUOUS,name=\"x\")  \n",
    "\n",
    "# Constraints\n",
    "temp=0\n",
    "obj_expr=0\n",
    "for i in range(4):\n",
    "    temp+=x[i]*(returns[i]-risk_free_rate)\n",
    "\n",
    "m.addConstr(temp == 1)\n",
    "\n",
    "for i in range(4):\n",
    "    for j in range(4):\n",
    "        obj_expr += x[i] * covariance_matrix[i][j] * x[j]\n",
    "\n",
    "\n",
    "m.setObjective(obj_expr, GRB.MINIMIZE)\n",
    "\n",
    "\n",
    "# Solve\n",
    "m.optimize()\n",
    "flag=0\n",
    "obj_expr1=0\n",
    "for i in range(4):\n",
    "   flag+=x[i].x\n",
    "\n",
    "for i in range(4):\n",
    "    for j in range(4):\n",
    "        obj_expr1+= x[i].x * covariance_matrix[i][j] * x[j].x\n",
    "\n",
    "# Output results\n",
    "for i in range(4):\n",
    "    print(f\"Asset {i+1} weight: {x[i].x/flag:.3f}\")\n",
    "\n",
    "print(f\"Objective Value (Maximized Sharpe Ratio's Numerator): {100/np.sqrt(obj_expr1):.4f}\")"
   ]
  },
  {
   "cell_type": "code",
   "execution_count": 111,
   "metadata": {},
   "outputs": [],
   "source": [
    "# data1"
   ]
  },
  {
   "cell_type": "code",
   "execution_count": 110,
   "metadata": {},
   "outputs": [
    {
     "name": "stdout",
     "output_type": "stream",
     "text": [
      "Gurobi Optimizer version 9.5.0 build v9.5.0rc5 (win64)\n",
      "Thread count: 8 physical cores, 16 logical processors, using up to 16 threads\n",
      "Optimize a model with 45 rows, 90 columns and 266 nonzeros\n",
      "Model fingerprint: 0xce9f9804\n",
      "Coefficient statistics:\n",
      "  Matrix range     [5e-04, 1e+00]\n",
      "  Objective range  [1e+00, 1e+00]\n",
      "  Bounds range     [1e+00, 1e+00]\n",
      "  RHS range        [9e-02, 1e+00]\n",
      "Presolve removed 7 rows and 14 columns\n",
      "Presolve time: 0.01s\n",
      "Presolved: 38 rows, 76 columns, 224 nonzeros\n",
      "\n",
      "Iteration    Objective       Primal Inf.    Dual Inf.      Time\n",
      "       0    1.6393023e-01   1.042060e+00   0.000000e+00      0s\n",
      "      39    2.6937657e+00   0.000000e+00   0.000000e+00      0s\n",
      "\n",
      "Solved in 39 iterations and 0.01 seconds (0.00 work units)\n",
      "Optimal objective  2.693765702e+00\n",
      "Asset 1 weight: 0.334\n",
      "Asset 2 weight: 0.354\n",
      "Asset 3 weight: 0.274\n",
      "Asset 4 weight: 0.037\n"
     ]
    },
    {
     "data": {
      "text/plain": [
       "-2.0816681711721685e-17"
      ]
     },
     "execution_count": 110,
     "metadata": {},
     "output_type": "execute_result"
    }
   ],
   "source": [
    "m = Model(\"Portfolio MAD\")\n",
    "\n",
    "y=m.addVars(len(data1),lb=0,vtype=GRB.CONTINUOUS)\n",
    "z=m.addVars(len(data1),lb=0,vtype=GRB.CONTINUOUS)\n",
    "x=m.addVars(len(returns),lb=0,ub=1,vtype=GRB.CONTINUOUS)\n",
    "\n",
    "data1 *=0.01\n",
    "for t in range(len(data1)):\n",
    "    expr = quicksum((data1[t][i]-returns[i])*x[i] for i in range(len(returns)))\n",
    "    m.addConstr(y[t] - z[t] == expr)\n",
    "\n",
    "\n",
    "m.addConstr(quicksum(returns[i]*x[i] for i in  range(len(returns)))>=0.09)\n",
    "m.addConstr(quicksum(x[i] for i in  range(len(returns)))==1)\n",
    "\n",
    "m.setObjective(quicksum(y[t]+z[t] for t in range(len(data1))), GRB.MINIMIZE)\n",
    "\n",
    "m.optimize()\n",
    "if m.status == GRB.Status.OPTIMAL:\n",
    "    for i in range(len(returns)):\n",
    "        print(f\"Asset {i+1} weight: {x[i].x:.3f}\")\n",
    "\n",
    "((data1 - returns)  @ np.array([x[i].x for i in range(len(returns))])).sum()"
   ]
  },
  {
   "cell_type": "code",
   "execution_count": null,
   "metadata": {},
   "outputs": [],
   "source": []
  }
 ],
 "metadata": {
  "kernelspec": {
   "display_name": "practicum",
   "language": "python",
   "name": "python3"
  },
  "language_info": {
   "codemirror_mode": {
    "name": "ipython",
    "version": 3
   },
   "file_extension": ".py",
   "mimetype": "text/x-python",
   "name": "python",
   "nbconvert_exporter": "python",
   "pygments_lexer": "ipython3",
   "version": "3.7.9"
  },
  "orig_nbformat": 4
 },
 "nbformat": 4,
 "nbformat_minor": 2
}
