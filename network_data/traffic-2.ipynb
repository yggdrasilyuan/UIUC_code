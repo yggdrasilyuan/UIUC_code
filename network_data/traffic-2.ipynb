{
 "cells": [
  {
   "cell_type": "markdown",
   "metadata": {},
   "source": [
    "# Scenario 2\n",
    "\n",
    "Check Scenario 1 for most of the implementation details. Here, we only need to add one new constraint of the form: $$x_it_i\\leq x_it_j, ~~~\\forall i\\neq j.$$"
   ]
  },
  {
   "cell_type": "code",
   "execution_count": 1,
   "metadata": {},
   "outputs": [
    {
     "name": "stdout",
     "output_type": "stream",
     "text": [
      "Using license file C:\\Users\\yggdrasilyuan\\gurobi.lic\n",
      "Academic license - for non-commercial use only - expires 2023-10-05\n",
      "Changed value of parameter NonConvex to 2\n",
      "   Prev: -1  Min: -1  Max: 2  Default: -1\n"
     ]
    },
    {
     "data": {
      "text/plain": [
       "<gurobi.Constr *Awaiting Model Update*>"
      ]
     },
     "execution_count": 1,
     "metadata": {},
     "output_type": "execute_result"
    }
   ],
   "source": [
    "from gurobipy import *\n",
    "nPaths=3\n",
    "nVehicles=100\n",
    "model=Model(\"democracy\")\n",
    "model.Params.NonConvex=2\n",
    "\n",
    "x=model.addVars(nPaths, vtype=GRB.INTEGER)\n",
    "t=model.addVars(nPaths, vtype=GRB.CONTINUOUS)\n",
    "\n",
    "obj=t[0]*x[0]+t[1]*x[1]+t[2]*x[2]\n",
    "model.setObjective(obj)\n",
    "\n",
    "model.addConstr(x[0]+x[1]+x[2]==nVehicles)\n",
    "model.addConstr(t[0]==(x[0]+x[2])/100+3)\n",
    "model.addConstr(t[1]==(x[1]+x[2])/100+3)\n",
    "model.addConstr(t[2]==(x[0]+x[1]+2*x[2])/100+2.25)"
   ]
  },
  {
   "cell_type": "markdown",
   "metadata": {},
   "source": [
    "### New constraints\n",
    "-----\n",
    "\n",
    "These are the newly added path selection constraints."
   ]
  },
  {
   "cell_type": "code",
   "execution_count": 2,
   "metadata": {},
   "outputs": [],
   "source": [
    "#from itertools import combinations\n",
    "#for (i,j) in combinations(range(nPaths),2):\n",
    "#    model.addConstr(x[i]*t[i]<=x[i]*t[j])\n",
    "    \n",
    "for i in range(nPaths):\n",
    "    for j in range(nPaths):\n",
    "        if i!=j:\n",
    "            model.addConstr(x[i]*t[i]<=x[i]*t[j])"
   ]
  },
  {
   "cell_type": "code",
   "execution_count": 3,
   "metadata": {},
   "outputs": [
    {
     "name": "stdout",
     "output_type": "stream",
     "text": [
      "Gurobi Optimizer version 9.1.0 build v9.1.0rc0 (win64)\n",
      "Thread count: 4 physical cores, 8 logical processors, using up to 8 threads\n",
      "Optimize a model with 4 rows, 6 columns and 13 nonzeros\n",
      "Model fingerprint: 0xbc7007d6\n",
      "Model has 3 quadratic objective terms\n",
      "Model has 6 quadratic constraints\n",
      "Variable types: 3 continuous, 3 integer (0 binary)\n",
      "Coefficient statistics:\n",
      "  Matrix range     [1e-02, 1e+00]\n",
      "  QMatrix range    [1e+00, 1e+00]\n",
      "  Objective range  [0e+00, 0e+00]\n",
      "  QObjective range [2e+00, 2e+00]\n",
      "  Bounds range     [0e+00, 0e+00]\n",
      "  RHS range        [2e+00, 1e+02]\n",
      "Presolve time: 0.01s\n",
      "Presolved: 29 rows, 16 columns, 70 nonzeros\n",
      "Presolved model has 9 bilinear constraint(s)\n",
      "Variable types: 13 continuous, 3 integer (0 binary)\n",
      "\n",
      "Root relaxation: objective 3.000000e+02, 11 iterations, 0.00 seconds\n",
      "\n",
      "    Nodes    |    Current Node    |     Objective Bounds      |     Work\n",
      " Expl Unexpl |  Obj  Depth IntInf | Incumbent    BestBd   Gap | It/Node Time\n",
      "\n",
      "     0     0  300.00000    0    2          -  300.00000      -     -    0s\n",
      "     0     0  300.00000    0    4          -  300.00000      -     -    0s\n",
      "     0     0  312.50000    0    9          -  312.50000      -     -    0s\n",
      "H    0     0                     375.0000000  312.50000  16.7%     -    0s\n",
      "     0     0  331.56566    0   12  375.00000  331.56566  11.6%     -    0s\n",
      "     0     0  331.56566    0   10  375.00000  331.56566  11.6%     -    0s\n",
      "     0     0  340.39500    0   10  375.00000  340.39500  9.23%     -    0s\n",
      "     0     0  340.53000    0   10  375.00000  340.53000  9.19%     -    0s\n",
      "     0     0  340.59000    0    8  375.00000  340.59000  9.18%     -    0s\n",
      "     0     0  340.62000    0    9  375.00000  340.62000  9.17%     -    0s\n",
      "     0     0  340.62500    0    8  375.00000  340.62500  9.17%     -    0s\n",
      "     0     0  340.63000    0    5  375.00000  340.63000  9.17%     -    0s\n",
      "     0     0  354.67341    0    9  375.00000  354.67341  5.42%     -    0s\n",
      "     0     1  354.67341    0    9  375.00000  354.67341  5.42%     -    0s\n",
      "\n",
      "Cutting planes:\n",
      "  RLT: 5\n",
      "\n",
      "Explored 13 nodes (57 simplex iterations) in 0.09 seconds\n",
      "Thread count was 8 (of 8 available processors)\n",
      "\n",
      "Solution count 1: 375 \n",
      "\n",
      "Optimal solution found (tolerance 1.00e-04)\n",
      "Best objective 3.750000000000e+02, best bound 3.749900000000e+02, gap 0.0027%\n"
     ]
    }
   ],
   "source": [
    "model.optimize()"
   ]
  },
  {
   "cell_type": "code",
   "execution_count": 4,
   "metadata": {},
   "outputs": [
    {
     "name": "stdout",
     "output_type": "stream",
     "text": [
      "Path\t\tTime\tVehicles\n",
      "-----------------------------------\n",
      "Path 1: \t3.75\t25.0\n",
      "Path 2: \t3.75\t25.0\n",
      "Path 3: \t3.75\t50.0\n"
     ]
    }
   ],
   "source": [
    "print(\"Path\\t\\tTime\\tVehicles\")\n",
    "print(\"-\"*35)\n",
    "for i in range(nPaths):\n",
    "    print(\"Path \"+str(i+1)+\": \\t\"+str(round(t[i].X,2))+\"\\t\"+str(round(x[i].X,2)))"
   ]
  },
  {
   "cell_type": "markdown",
   "metadata": {},
   "source": [
    "Wow. Interestingly, the average time has **increased**. By allowing people full freedom on which streets to use, the overall system efficiency has dropped..."
   ]
  },
  {
   "cell_type": "code",
   "execution_count": null,
   "metadata": {},
   "outputs": [],
   "source": []
  }
 ],
 "metadata": {
  "kernelspec": {
   "display_name": "Python 3",
   "language": "python",
   "name": "python3"
  },
  "language_info": {
   "codemirror_mode": {
    "name": "ipython",
    "version": 3
   },
   "file_extension": ".py",
   "mimetype": "text/x-python",
   "name": "python",
   "nbconvert_exporter": "python",
   "pygments_lexer": "ipython3",
   "version": "3.7.9"
  }
 },
 "nbformat": 4,
 "nbformat_minor": 2
}
