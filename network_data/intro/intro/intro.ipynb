{
 "cells": [
  {
   "cell_type": "markdown",
   "metadata": {},
   "source": [
    "# Lecture 2 -- Introduction to `networkx`"
   ]
  },
  {
   "cell_type": "markdown",
   "metadata": {},
   "source": [
    "In this notebook, we show some of the very fundamental operations you can perform using [networkx](https://networkx.github.io). This is meant as a very rough tutorial to how to perform basic operations, including:\n",
    "* creating a network\n",
    "* adding/removing nodes and edges\n",
    "* visualizing a network\n",
    "* obtaining lists of neighbors of nodes and neighbors of set of nodes"
   ]
  },
  {
   "cell_type": "markdown",
   "metadata": {},
   "source": [
    "## Step 1: importing the necessary packages\n",
    "Namely, here we need `networkx` (for all of our network analysis needs) and `matplotlib.pyplot` (for visualization purposes)."
   ]
  },
  {
   "cell_type": "code",
   "execution_count": 1,
   "metadata": {},
   "outputs": [],
   "source": [
    "import networkx as nx\n",
    "import matplotlib.pyplot as plt"
   ]
  },
  {
   "cell_type": "markdown",
   "metadata": {},
   "source": [
    "## Step 2: creating a network\n",
    "You may create your own graphs and populate them (see `H1` or `H2`), or read them through a file (see `G`). Your networks can be undirected (`H1`), directed (`H2`), or weighted (`G`); `H1` and `H2` are unweighted (we may add weights/attributes later, see `H2`)."
   ]
  },
  {
   "cell_type": "code",
   "execution_count": 2,
   "metadata": {},
   "outputs": [],
   "source": [
    "H1=nx.Graph() # creates an undirected graph\n",
    "H1.add_edge(1,2)\n",
    "H1.add_edge(2,3)\n",
    "H1.add_node(4) # You could number nodes.\n",
    "H1.add_node(\"Orkun\") # You could name your nodes \"anything\"\n",
    "H1.add_edge(\"Urbana, IL\", \"Chicago, IL\")"
   ]
  },
  {
   "cell_type": "code",
   "execution_count": 3,
   "metadata": {},
   "outputs": [],
   "source": [
    "H2=nx.DiGraph() # creates a directed graph.\n",
    "H2.add_nodes_from(range(20)) # You could add nodes from a list.\n",
    "#print(H2.nodes())\n",
    "\n",
    "from itertools import combinations\n",
    "import random\n",
    "H2.add_edges_from([(i,j) for (i,j) in combinations(H2.nodes(),2) if random.random()<0.2]) # You could add edges from a list."
   ]
  },
  {
   "cell_type": "code",
   "execution_count": 4,
   "metadata": {},
   "outputs": [
    {
     "name": "stdout",
     "output_type": "stream",
     "text": [
      "1 2 {'weight': 6.0}\n",
      "1 3 {'weight': 4.0}\n",
      "2 6 {'weight': 7.0}\n",
      "3 4 {'weight': 4.0}\n",
      "3 12 {'weight': 4.0}\n",
      "6 5 {'weight': 10.0}\n",
      "6 8 {'weight': 15.0}\n",
      "4 5 {'weight': 2.0}\n",
      "4 11 {'weight': 7.0}\n",
      "12 11 {'weight': 14.0}\n",
      "12 13 {'weight': 3.0}\n",
      "5 9 {'weight': 10.0}\n",
      "11 10 {'weight': 12.0}\n",
      "11 14 {'weight': 14.0}\n",
      "9 8 {'weight': 15.0}\n",
      "9 10 {'weight': 6.0}\n",
      "8 7 {'weight': 6.0}\n",
      "8 16 {'weight': 11.0}\n",
      "7 18 {'weight': 2.0}\n",
      "18 16 {'weight': 3.0}\n",
      "18 20 {'weight': 4.0}\n",
      "16 10 {'weight': 20.0}\n",
      "16 17 {'weight': 9.0}\n",
      "10 15 {'weight': 14.0}\n",
      "10 17 {'weight': 16.0}\n",
      "15 14 {'weight': 12.0}\n",
      "15 19 {'weight': 4.0}\n",
      "15 22 {'weight': 9.0}\n",
      "17 19 {'weight': 7.0}\n",
      "14 23 {'weight': 9.0}\n",
      "13 24 {'weight': 18.0}\n",
      "24 21 {'weight': 12.0}\n",
      "24 23 {'weight': 4.0}\n",
      "23 22 {'weight': 12.0}\n",
      "19 20 {'weight': 10.0}\n",
      "22 20 {'weight': 8.0}\n",
      "22 21 {'weight': 4.0}\n",
      "20 21 {'weight': 8.0}\n"
     ]
    }
   ],
   "source": [
    "G=nx.read_weighted_edgelist(\"./instances/SiouxFalls.txt\") ## requires that you have an Instances folder with the Sioux Falls network text file in it.\n",
    "for (i,j,d) in G.edges(data=True): \n",
    "    print(i,j,d)"
   ]
  },
  {
   "cell_type": "code",
   "execution_count": 7,
   "metadata": {},
   "outputs": [
    {
     "name": "stdout",
     "output_type": "stream",
     "text": [
      "0 3 {'my_attribute': 0.46}\n",
      "0 5 {'my_attribute': 0.18}\n",
      "0 6 {'my_attribute': 0.75}\n",
      "0 13 {'my_attribute': 0.1}\n",
      "0 18 {'my_attribute': 0.85}\n",
      "0 9 {'my_attribute': 0.94}\n",
      "1 6 {'my_attribute': 0.56}\n",
      "1 15 {'my_attribute': 0.93}\n",
      "1 16 {'my_attribute': 0.8}\n",
      "2 9 {'my_attribute': 0.83}\n",
      "2 13 {'my_attribute': 0.75}\n",
      "2 19 {'my_attribute': 0.81}\n",
      "3 5 {'my_attribute': 0.74}\n",
      "3 6 {'my_attribute': 0.07}\n",
      "3 12 {'my_attribute': 0.98}\n",
      "3 17 {'my_attribute': 0.85}\n",
      "4 8 {'my_attribute': 0.02}\n",
      "4 11 {'my_attribute': 0.36}\n",
      "4 13 {'my_attribute': 0.27}\n",
      "4 14 {'my_attribute': 0.15}\n",
      "4 17 {'my_attribute': 0.71}\n",
      "5 7 {'my_attribute': 0.77}\n",
      "5 14 {'my_attribute': 0.58}\n",
      "6 17 {'my_attribute': 0.79}\n",
      "7 10 {'my_attribute': 0.74}\n",
      "7 16 {'my_attribute': 0.14}\n",
      "8 13 {'my_attribute': 0.98}\n",
      "8 15 {'my_attribute': 0.92}\n",
      "8 17 {'my_attribute': 0.45}\n",
      "9 11 {'my_attribute': 0.67}\n",
      "9 15 {'my_attribute': 0.34}\n",
      "9 17 {'my_attribute': 0.72}\n",
      "9 19 {'my_attribute': 0.56}\n",
      "10 11 {'my_attribute': 0.49}\n",
      "10 14 {'my_attribute': 0.5}\n",
      "10 15 {'my_attribute': 0.22}\n",
      "12 15 {'my_attribute': 0.89}\n",
      "12 16 {'my_attribute': 0.46}\n",
      "15 19 {'my_attribute': 0.37}\n",
      "16 17 {'my_attribute': 0.24}\n",
      "-----\n",
      "Node 0 has attribute {}\n",
      "Node 0 is adjacent to 3 with an edge with attribute 0.46\n",
      "Node 0 is adjacent to 5 with an edge with attribute 0.18\n",
      "Node 0 is adjacent to 6 with an edge with attribute 0.75\n",
      "Node 0 is adjacent to 9 with an edge with attribute 5.00\n",
      "Node 0 is adjacent to 13 with an edge with attribute 0.10\n",
      "Node 0 is adjacent to 18 with an edge with attribute 0.85\n",
      "-----\n",
      "-----\n",
      "Node 1 has attribute {}\n",
      "Node 1 is adjacent to 6 with an edge with attribute 0.56\n",
      "Node 1 is adjacent to 15 with an edge with attribute 0.93\n",
      "Node 1 is adjacent to 16 with an edge with attribute 0.80\n",
      "-----\n",
      "-----\n",
      "Node 2 has attribute {}\n",
      "Node 2 is adjacent to 9 with an edge with attribute 0.83\n",
      "Node 2 is adjacent to 13 with an edge with attribute 0.75\n",
      "Node 2 is adjacent to 19 with an edge with attribute 0.81\n",
      "-----\n",
      "-----\n",
      "Node 3 has attribute {'color': 'red'}\n",
      "Node 3 is adjacent to 5 with an edge with attribute 0.74\n",
      "Node 3 is adjacent to 6 with an edge with attribute 0.07\n",
      "Node 3 is adjacent to 12 with an edge with attribute 0.98\n",
      "Node 3 is adjacent to 17 with an edge with attribute 0.85\n",
      "-----\n",
      "-----\n",
      "Node 4 has attribute {}\n",
      "Node 4 is adjacent to 8 with an edge with attribute 0.02\n",
      "Node 4 is adjacent to 11 with an edge with attribute 0.36\n",
      "Node 4 is adjacent to 13 with an edge with attribute 0.27\n",
      "Node 4 is adjacent to 14 with an edge with attribute 0.15\n",
      "Node 4 is adjacent to 17 with an edge with attribute 0.71\n",
      "-----\n",
      "-----\n",
      "Node 5 has attribute {}\n",
      "Node 5 is adjacent to 7 with an edge with attribute 0.77\n",
      "Node 5 is adjacent to 14 with an edge with attribute 0.58\n",
      "-----\n",
      "-----\n",
      "Node 6 has attribute {}\n",
      "Node 6 is adjacent to 17 with an edge with attribute 0.79\n",
      "-----\n",
      "-----\n",
      "Node 7 has attribute {}\n",
      "Node 7 is adjacent to 10 with an edge with attribute 0.74\n",
      "Node 7 is adjacent to 16 with an edge with attribute 0.14\n",
      "-----\n",
      "-----\n",
      "Node 8 has attribute {}\n",
      "Node 8 is adjacent to 13 with an edge with attribute 0.98\n",
      "Node 8 is adjacent to 15 with an edge with attribute 0.92\n",
      "Node 8 is adjacent to 17 with an edge with attribute 0.45\n",
      "-----\n",
      "-----\n",
      "Node 9 has attribute {}\n",
      "Node 9 is adjacent to 11 with an edge with attribute 0.67\n",
      "Node 9 is adjacent to 15 with an edge with attribute 0.34\n",
      "Node 9 is adjacent to 17 with an edge with attribute 0.72\n",
      "Node 9 is adjacent to 19 with an edge with attribute 0.56\n",
      "-----\n",
      "-----\n",
      "Node 10 has attribute {}\n",
      "Node 10 is adjacent to 11 with an edge with attribute 0.49\n",
      "Node 10 is adjacent to 14 with an edge with attribute 0.50\n",
      "Node 10 is adjacent to 15 with an edge with attribute 0.22\n",
      "-----\n",
      "-----\n",
      "Node 11 has attribute {}\n",
      "-----\n",
      "-----\n",
      "Node 12 has attribute {}\n",
      "Node 12 is adjacent to 15 with an edge with attribute 0.89\n",
      "Node 12 is adjacent to 16 with an edge with attribute 0.46\n",
      "-----\n",
      "-----\n",
      "Node 13 has attribute {}\n",
      "-----\n",
      "-----\n",
      "Node 14 has attribute {}\n",
      "-----\n",
      "-----\n",
      "Node 15 has attribute {}\n",
      "Node 15 is adjacent to 19 with an edge with attribute 0.37\n",
      "-----\n",
      "-----\n",
      "Node 16 has attribute {}\n",
      "Node 16 is adjacent to 17 with an edge with attribute 0.24\n",
      "-----\n",
      "-----\n",
      "Node 17 has attribute {}\n",
      "-----\n",
      "-----\n",
      "Node 18 has attribute {}\n",
      "-----\n",
      "-----\n",
      "Node 19 has attribute {}\n",
      "-----\n"
     ]
    }
   ],
   "source": [
    "# We could add weights/attributes to the edges or nodes of a network, even if they weren't generated to be weighted.\n",
    "\n",
    "H2.add_edge(0,9) # making sure that this edge exists, if it were not added earlier.\n",
    "for (i,j,d) in H2.edges(data=True):\n",
    "    d['my_attribute']=round(random.random(),2) # here we populate each edge with a random attribute value between 0 and 1\n",
    "for (i,j,d) in H2.edges(data=True):\n",
    "    print(i,j,d)\n",
    "    \n",
    "H2.edges[(0,9)]['my_attribute']=5 # we can also add/edit an attribute like this\n",
    "H2.nodes[3]['color']='red' # similarly for nodes\n",
    "\n",
    "for (i,d) in H2.nodes(data=True):\n",
    "    print(\"-----\")\n",
    "    print(\"Node %s has attribute %s\" %(i,str(d)))\n",
    "    for j in H2.nodes():\n",
    "        if (i,j) in H2.edges():\n",
    "            print(\"Node %s is adjacent to %s with an edge with attribute %3.2f\"%(i,j,H2.edges[(i,j)]['my_attribute']))\n",
    "    print(\"-----\")"
   ]
  },
  {
   "cell_type": "code",
   "execution_count": null,
   "metadata": {
    "scrolled": true
   },
   "outputs": [],
   "source": [
    "# We could query certain netwok details easily.\n",
    "print(H2.number_of_nodes(), H2.number_of_edges())\n",
    "\n",
    "print(\"Edges:\", H2.edges())\n",
    "print(\"Nodes:\", H2.nodes())\n",
    "\n",
    "# We could even check \"degrees\" -- number of neighbors -- in a tuple (node, degree).\n",
    "print(list(G.degree()))\n",
    "\n",
    "# If interested in a specific node, then:\n",
    "print(\"Node 5 has degree \"+str(G.degree(\"5\")))"
   ]
  },
  {
   "cell_type": "markdown",
   "metadata": {},
   "source": [
    "## Step 3: visualization\n",
    "We now move to visualization. Networkx provides some automatic visualization algorithms."
   ]
  },
  {
   "cell_type": "code",
   "execution_count": null,
   "metadata": {
    "scrolled": true
   },
   "outputs": [],
   "source": [
    "# Uncomment at will. In Jupyter, only draw one network at a time; otherwise, they will all be plotted on the same window.\n",
    "#nx.draw(G)\n",
    "#nx.draw(H1, with_labels=True)\n",
    "nx.draw(H2)"
   ]
  },
  {
   "cell_type": "code",
   "execution_count": null,
   "metadata": {},
   "outputs": [],
   "source": [
    "plt.show() ## Only needed if running outside Jupyter."
   ]
  },
  {
   "cell_type": "markdown",
   "metadata": {},
   "source": [
    "Networkx offers the possibility to play with some known benchmark networks, such as the Les Misérables, the karate club, or the dolphins network (among many, many others). Additionally, we may have different options for positioning the nodes, as well as color layouts, sizes, etc.\n",
    "\n",
    "Traditional positioning for the nodes includes: (i) **spring layout** (the most commonly used); (ii) **spectral_layout** (places nodes based on the Laplacian eigenvectors, particularly useful for *clustering*); (iii) **circular layout** (all nodes are placed on a circle); (iv) **random layout** (self-explanatory, all nodes are put at random places in space). Uncomment and see what each of them does."
   ]
  },
  {
   "cell_type": "code",
   "execution_count": null,
   "metadata": {},
   "outputs": [],
   "source": [
    "K1=nx.les_miserables_graph()\n",
    "\n",
    "pos=nx.spring_layout(K1)\n",
    "#pos=nx.spectral_layout(K1)\n",
    "#pos=nx.circular_layout(K1)\n",
    "#pos=nx.random_layout(K1)\n",
    "\n",
    "nx.draw_networkx_nodes(K1, pos, node_color='r', node_size=100) ## default node size is 300\n",
    "nx.draw_networkx_edges(K1, pos, edge_color='b', width=0.5) ## default edge width is 1\n",
    "labels=nx.draw_networkx_labels(K1, pos, font_size=5, font_color='g') ## sorry for the weird coloring! You may use the defaul 'k' (black) color\n",
    "\n",
    "plt.savefig(\"LesMis.eps\", dpi=300, bbox_inches='tight')"
   ]
  },
  {
   "cell_type": "markdown",
   "metadata": {},
   "source": [
    "You may also print specific nodes in a different color. For example, here we paint 10 random nodes black."
   ]
  },
  {
   "cell_type": "code",
   "execution_count": null,
   "metadata": {},
   "outputs": [],
   "source": [
    "import random\n",
    "randomNodes=random.choices(list(K1.nodes()),k=3)\n",
    "\n",
    "nx.draw_networkx_nodes(K1, pos, node_color='r', node_size=100) ## default node size is 300\n",
    "nx.draw_networkx_nodes(K1, pos, nodelist=randomNodes, node_color='k') ## painting random nodes black.\n",
    "nx.draw_networkx_edges(K1, pos, edge_color='b', width=4) ## default edge width is 1\n",
    "labels=nx.draw_networkx_labels(K1, pos, font_size=5, font_color='g') ## sorry for the weird coloring! You may use the defaul 'k' (black) color\n",
    "\n",
    "plt.savefig(\"LesMis_random_nodes.eps\", dpi=300, bbox_inches='tight')"
   ]
  },
  {
   "cell_type": "markdown",
   "metadata": {},
   "source": [
    "Potentially, you can pick a specific node. Say, Jean Valjean? And maybe paint whoever interacts with Valjean yellow?"
   ]
  },
  {
   "cell_type": "code",
   "execution_count": null,
   "metadata": {},
   "outputs": [],
   "source": [
    "specificNode=\"Valjean\"\n",
    "#specificNode=u\"Valjean\" # Could also write as u\"Valjean\"\n",
    "\n",
    "nx.draw_networkx_nodes(K1, pos, node_color='r', node_size=100) ## default node size is 300\n",
    "nx.draw_networkx_nodes(K1, pos, nodelist=[i for i in K1.neighbors(specificNode)], node_size=100, node_color='y') ## painting the neighbors of Valjean yellow.\n",
    "nx.draw_networkx_edges(K1, pos, edge_color='b', width=4) ## default edge width is 1\n",
    "labels=nx.draw_networkx_labels(K1, pos, font_size=5, font_color='g') ## sorry for the weird coloring! You may use the defaul 'k' (black) color\n",
    "\n",
    "plt.savefig(\"Valjean_friends.eps\", dpi=300, bbox_inches='tight')"
   ]
  },
  {
   "cell_type": "markdown",
   "metadata": {},
   "source": [
    "As we just saw, we can find all neighbors of a node using the `Graph.neighbors(node)` functionality. We can also get all neighbors by using `Graph[node]`: that said, this functionality will return a dictionary along with the weights of the edges that connect the node to their neighbors if any."
   ]
  },
  {
   "cell_type": "code",
   "execution_count": null,
   "metadata": {},
   "outputs": [],
   "source": [
    "myNeighbors=K1.neighbors(specificNode) # returns a dictionary -- need a list to print\n",
    "print(list(myNeighbors))\n",
    "\n",
    "print(K1['Valjean'])"
   ]
  },
  {
   "cell_type": "markdown",
   "metadata": {},
   "source": [
    " ## Final notes\n",
    " Check the [documentation](https://networkx.org/documentation/stable/) ([here](https://networkx.org/documentation/stable/_downloads/networkx_reference.pdf) in pdf format) as well as their [Github page](https://github.com/networkx/networkx).\n",
    "\n",
    "Also, never forget to cite them if you use them! \n",
    "\n",
    "Aric A. Hagberg, Daniel A. Schult and Pieter J. Swart, “Exploring network structure, dynamics, and function using NetworkX”, in Proceedings of the 7th Python in Science Conference (SciPy2008), Gäel Varoquaux, Travis Vaught, and Jarrod Millman (Eds), (Pasadena, CA USA), pp. 11–15, Aug 2008\n",
    "\n",
    "Or in **bibtex** form: [.bib file](http://conference.scipy.org/proceedings/SciPy2008/paper_2/reference.bib)\n",
    "\n"
   ]
  },
  {
   "cell_type": "code",
   "execution_count": null,
   "metadata": {},
   "outputs": [],
   "source": []
  }
 ],
 "metadata": {
  "kernelspec": {
   "display_name": "Python 3",
   "language": "python",
   "name": "python3"
  },
  "language_info": {
   "codemirror_mode": {
    "name": "ipython",
    "version": 3
   },
   "file_extension": ".py",
   "mimetype": "text/x-python",
   "name": "python",
   "nbconvert_exporter": "python",
   "pygments_lexer": "ipython3",
   "version": "3.8.8"
  }
 },
 "nbformat": 4,
 "nbformat_minor": 2
}
