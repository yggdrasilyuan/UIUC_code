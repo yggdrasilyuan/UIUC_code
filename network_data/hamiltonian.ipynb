{
 "cells": [
  {
   "cell_type": "markdown",
   "metadata": {},
   "source": [
    "## DNA sequencing\n",
    "### Lecture 2 example (unfilled)"
   ]
  },
  {
   "cell_type": "markdown",
   "metadata": {},
   "source": [
    "During Lecture 2, we also saw the DNA sequencing problem as a **Hamiltonian** path problem. Let's try to resolve the same problem using this formulation now!"
   ]
  },
  {
   "cell_type": "code",
   "execution_count": 1,
   "metadata": {},
   "outputs": [],
   "source": [
    "subsequences = ['CAT' , 'ATT' , 'ATG', 'TAT' , 'TTG', 'TGC', 'TGT' , 'GTA']"
   ]
  },
  {
   "cell_type": "markdown",
   "metadata": {},
   "source": [
    "Once again, we write a code that produces the graph (as discussed in class for the Hamiltonian problem now)."
   ]
  },
  {
   "cell_type": "code",
   "execution_count": 2,
   "metadata": {},
   "outputs": [
    {
     "data": {
      "image/png": "[encoded data removed]",
      "text/plain": [
       "<Figure size 432x288 with 1 Axes>"
      ]
     },
     "metadata": {},
     "output_type": "display_data"
    }
   ],
   "source": [
    "import networkx as nx\n",
    "import matplotlib.pyplot as plt\n",
    "from itertools import combinations\n",
    "\n",
    "def construct_graph_from(sub):\n",
    "    G = nx.DiGraph()\n",
    "    \n",
    "    #################\n",
    "    ### Fill this ###\n",
    "    ################# \n",
    "    \n",
    "    return G\n",
    "\n",
    "G = construct_graph_from(subsequences) \n",
    "pos=nx.spring_layout(G) ## <- We can change this to other types of layouts, try some out yourselves\n",
    "nx.draw_networkx(G,pos)\n",
    "nx.draw_networkx_labels(G,pos)\n",
    "plt.show()"
   ]
  },
  {
   "cell_type": "markdown",
   "metadata": {},
   "source": [
    "Now, we write a code to find a **Hamiltonian path**. Networkx has a function *hamiltonian_path(graph)* that we would love to use. However, it only applies to a very spcific set of graphs: [tournament graphs](https://en.wikipedia.org/wiki/Tournament_%28graph_theory%29). Is our graph a tournament graph?"
   ]
  },
  {
   "cell_type": "code",
   "execution_count": null,
   "metadata": {},
   "outputs": [],
   "source": [
    "from networkx.algorithms import tournament\n",
    "tournament.is_tournament(G)"
   ]
  },
  {
   "cell_type": "markdown",
   "metadata": {},
   "source": [
    "Turns out it is not.. So, attempt \\#2? Let's try to write our own code to find a Hamiltonian path. One surefire way of solving it is brute force. Slow, but it will work for sure. What should we do? \n",
    "\n",
    "For one, we need to create all permutations of the nodes. "
   ]
  },
  {
   "cell_type": "code",
   "execution_count": null,
   "metadata": {},
   "outputs": [],
   "source": [
    "from itertools import permutations\n",
    "allPermutations=list(permutations(G.nodes()))"
   ]
  },
  {
   "cell_type": "markdown",
   "metadata": {},
   "source": [
    "Then, we need to check if a permutation is a valid Hamiltonian path -- i.e., are all two sequential elements connected by an edge?"
   ]
  },
  {
   "cell_type": "code",
   "execution_count": null,
   "metadata": {},
   "outputs": [],
   "source": [
    "def isValid(perm):\n",
    "    #################\n",
    "    ### Fill this ###\n",
    "    ################# \n",
    "    return True"
   ]
  },
  {
   "cell_type": "markdown",
   "metadata": {},
   "source": [
    "Finally, enumerate all permutations to see if they are a valid path. If so, return it!"
   ]
  },
  {
   "cell_type": "code",
   "execution_count": null,
   "metadata": {},
   "outputs": [],
   "source": [
    "for i in allPermutations:\n",
    "    if isValid(i):\n",
    "        break\n",
    "path=i"
   ]
  },
  {
   "cell_type": "code",
   "execution_count": null,
   "metadata": {},
   "outputs": [],
   "source": [
    "#print(path)\n",
    "DNA=[path[0]]\n",
    "for i in range(1,len(path)):\n",
    "    DNA.append(str(path[i][2]))\n",
    "print(''.join(DNA))"
   ]
  },
  {
   "cell_type": "code",
   "execution_count": null,
   "metadata": {},
   "outputs": [],
   "source": []
  }
 ],
 "metadata": {
  "kernelspec": {
   "display_name": "Python 3",
   "language": "python",
   "name": "python3"
  },
  "language_info": {
   "codemirror_mode": {
    "name": "ipython",
    "version": 3
   },
   "file_extension": ".py",
   "mimetype": "text/x-python",
   "name": "python",
   "nbconvert_exporter": "python",
   "pygments_lexer": "ipython3",
   "version": "3.8.8"
  }
 },
 "nbformat": 4,
 "nbformat_minor": 1
}
