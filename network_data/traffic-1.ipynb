{
 "cells": [
  {
   "cell_type": "markdown",
   "metadata": {},
   "source": [
    "# Traffic assignment: scenario 1"
   ]
  },
  {
   "cell_type": "markdown",
   "metadata": {},
   "source": [
    "First of all, we need to import gubori. We can do so in one of two ways:\n",
    "\n",
    "* ``import gurobipy`` \n",
    "* ``from gurobipy import *``"
   ]
  },
  {
   "cell_type": "code",
   "execution_count": 1,
   "metadata": {},
   "outputs": [],
   "source": [
    "from gurobipy import *"
   ]
  },
  {
   "cell_type": "markdown",
   "metadata": {},
   "source": [
    "### Parameters\n",
    "-----------------\n",
    "\n",
    "We then need to setup our parameters. Here, we define two parameters:\n",
    "\n",
    "* nPaths: the number of paths available, which is equal to 3 (north, south, center).\n",
    "* nVehicles: the number of vehicles that need to travel, which in our case is 100."
   ]
  },
  {
   "cell_type": "code",
   "execution_count": 2,
   "metadata": {},
   "outputs": [],
   "source": [
    "nPaths=3 \n",
    "nVehicles=100"
   ]
  },
  {
   "cell_type": "markdown",
   "metadata": {},
   "source": [
    "### Model\n",
    "-----\n",
    "Next, we create the model. We can optionally provide it with a name. \n",
    "\n",
    "Note: the model we will create is *non-convex*: hence, we define that here. This is rare, and we will only need it in this model."
   ]
  },
  {
   "cell_type": "code",
   "execution_count": 3,
   "metadata": {},
   "outputs": [
    {
     "name": "stdout",
     "output_type": "stream",
     "text": [
      "Using license file C:\\Users\\yggdrasilyuan\\gurobi.lic\n",
      "Academic license - for non-commercial use only - expires 2023-10-05\n",
      "Changed value of parameter NonConvex to 2\n",
      "   Prev: -1  Min: -1  Max: 2  Default: -1\n"
     ]
    }
   ],
   "source": [
    "model=Model(\"traffic_assignment\")\n",
    "model.Params.NonConvex=2"
   ]
  },
  {
   "cell_type": "markdown",
   "metadata": {},
   "source": [
    "### Variables\n",
    "-----\n",
    "\n",
    "And then we add **integer** variables for each of the flows and **continuous** variables for each of the times in the **3 paths**. Note how we define their types as `GRB.INTEGER` and `GRB.CONTINUOUS`, respectively. If we omit the type, then Gurobi will assume a continuous variable for us."
   ]
  },
  {
   "cell_type": "code",
   "execution_count": 4,
   "metadata": {},
   "outputs": [],
   "source": [
    "x=model.addVars(nPaths, vtype=GRB.INTEGER) \n",
    "t=model.addVars(nPaths, vtype=GRB.CONTINUOUS)"
   ]
  },
  {
   "cell_type": "markdown",
   "metadata": {},
   "source": [
    "### Objective\n",
    "-----\n",
    "Now, we add an expression (called `obj` for objective function) and set it as the objective function of our model. Recall that the average time can be calculated as: $$avg=\\frac{t_0\\cdot x_0+t_1\\cdot x_1+t_2\\cdot x_2}{nVehicles}.$$"
   ]
  },
  {
   "cell_type": "code",
   "execution_count": 5,
   "metadata": {},
   "outputs": [],
   "source": [
    "obj=(t[0]*x[0]+t[1]*x[1]+t[2]*x[2])/nVehicles\n",
    "model.setObjective(obj)"
   ]
  },
  {
   "cell_type": "markdown",
   "metadata": {},
   "source": [
    "### Constraints\n",
    "-----\n",
    "\n",
    "Continuing, we add the constraints. We have two types of constraints here:\n",
    "\n",
    "1. the number of vehicles on the paths needs to sum up to nVehicles=100.\n",
    "2. the time of each path depends on the number of vehicles using it.\n",
    "\n",
    "Or, in mathematical terms:\n",
    "\n",
    "1. $x_0+x_1+x_2=100$;\n",
    "2. $t_0=\\frac{x_0+x_2}{100}+3;~~~t_1=\\frac{x_1+x_2}{100}+3;~~~t_2=\\frac{x_0+x_1+2\\cdot x_2}{100}+2.25$"
   ]
  },
  {
   "cell_type": "code",
   "execution_count": 6,
   "metadata": {},
   "outputs": [
    {
     "data": {
      "text/plain": [
       "<gurobi.Constr *Awaiting Model Update*>"
      ]
     },
     "execution_count": 6,
     "metadata": {},
     "output_type": "execute_result"
    }
   ],
   "source": [
    "model.addConstr(x[0]+x[1]+x[2]==nVehicles)"
   ]
  },
  {
   "cell_type": "code",
   "execution_count": 7,
   "metadata": {},
   "outputs": [
    {
     "data": {
      "text/plain": [
       "<gurobi.Constr *Awaiting Model Update*>"
      ]
     },
     "execution_count": 7,
     "metadata": {},
     "output_type": "execute_result"
    }
   ],
   "source": [
    "model.addConstr(t[0]==(x[0]+x[2])/100+3)\n",
    "model.addConstr(t[1]==(x[1]+x[2])/100+3)\n",
    "model.addConstr(t[2]==(x[0]+x[1]+2*x[2])/100+2.25)"
   ]
  },
  {
   "cell_type": "markdown",
   "metadata": {},
   "source": [
    "### Optimizing\n",
    "----\n",
    "The `optimize()` method will begin the optimization process."
   ]
  },
  {
   "cell_type": "code",
   "execution_count": 8,
   "metadata": {},
   "outputs": [
    {
     "name": "stdout",
     "output_type": "stream",
     "text": [
      "Gurobi Optimizer version 9.1.0 build v9.1.0rc0 (win64)\n",
      "Thread count: 4 physical cores, 8 logical processors, using up to 8 threads\n",
      "Optimize a model with 4 rows, 6 columns and 13 nonzeros\n",
      "Model fingerprint: 0xdb325763\n",
      "Model has 3 quadratic objective terms\n",
      "Variable types: 3 continuous, 3 integer (0 binary)\n",
      "Coefficient statistics:\n",
      "  Matrix range     [1e-02, 1e+00]\n",
      "  Objective range  [0e+00, 0e+00]\n",
      "  QObjective range [2e-02, 2e-02]\n",
      "  Bounds range     [0e+00, 0e+00]\n",
      "  RHS range        [2e+00, 1e+02]\n",
      "Presolve time: 0.00s\n",
      "Presolved: 11 rows, 10 columns, 28 nonzeros\n",
      "Presolved model has 3 bilinear constraint(s)\n",
      "Variable types: 7 continuous, 3 integer (0 binary)\n",
      "\n",
      "Root relaxation: objective 3.000000e+00, 10 iterations, 0.00 seconds\n",
      "\n",
      "    Nodes    |    Current Node    |     Objective Bounds      |     Work\n",
      " Expl Unexpl |  Obj  Depth IntInf | Incumbent    BestBd   Gap | It/Node Time\n",
      "\n",
      "     0     0    3.00000    0    2          -    3.00000      -     -    0s\n",
      "H    0     0                       3.5000000    3.00000  14.3%     -    0s\n",
      "     0     0    3.00000    0    2    3.50000    3.00000  14.3%     -    0s\n",
      "     0     2    3.00000    0    2    3.50000    3.00000  14.3%     -    0s\n",
      "\n",
      "Explored 13 nodes (27 simplex iterations) in 0.03 seconds\n",
      "Thread count was 8 (of 8 available processors)\n",
      "\n",
      "Solution count 1: 3.5 \n",
      "\n",
      "Optimal solution found (tolerance 1.00e-04)\n",
      "Best objective 3.500000000000e+00, best bound 3.500000000000e+00, gap 0.0000%\n"
     ]
    }
   ],
   "source": [
    "model.optimize()"
   ]
  },
  {
   "cell_type": "markdown",
   "metadata": {},
   "source": [
    "### Retrieving the solution\n",
    "----\n",
    "To access the results (*if* there is an optimal or feasible solution), we use `var.X`. For example here `x[0].X` will reveal the flow on the first path. If I do `t[0].X` then I will get the time on the first path."
   ]
  },
  {
   "cell_type": "code",
   "execution_count": 9,
   "metadata": {},
   "outputs": [
    {
     "name": "stdout",
     "output_type": "stream",
     "text": [
      "Path\t\tTime\tVehicles\n",
      "-----------------------------------\n",
      "Path 1: \t3.5\t50.0\n",
      "Path 2: \t3.5\t50.0\n",
      "Path 3: \t3.25\t-0.0\n"
     ]
    }
   ],
   "source": [
    "print(\"Path\\t\\tTime\\tVehicles\")\n",
    "print(\"-\"*35)\n",
    "for i in range(nPaths):\n",
    "    print(\"Path \"+str(i+1)+\": \\t\"+str(round(t[i].X,2))+\"\\t\"+str(round(x[i].X,2)))"
   ]
  },
  {
   "cell_type": "markdown",
   "metadata": {},
   "source": [
    "We observe that the average time is 3.5 minutes, and the optimal solution lets half the population go south and half the population go north. Note also how the fastest path has no cars..."
   ]
  },
  {
   "cell_type": "markdown",
   "metadata": {},
   "source": [
    "## Recall that we could write the formulation without the $t$ variables..."
   ]
  },
  {
   "cell_type": "code",
   "execution_count": 10,
   "metadata": {},
   "outputs": [
    {
     "name": "stdout",
     "output_type": "stream",
     "text": [
      "Gurobi Optimizer version 9.1.0 build v9.1.0rc0 (win64)\n",
      "Thread count: 4 physical cores, 8 logical processors, using up to 8 threads\n",
      "Optimize a model with 1 rows, 3 columns and 3 nonzeros\n",
      "Model fingerprint: 0xa961d390\n",
      "Model has 5 quadratic objective terms\n",
      "Variable types: 0 continuous, 3 integer (0 binary)\n",
      "Coefficient statistics:\n",
      "  Matrix range     [1e+00, 1e+00]\n",
      "  Objective range  [2e+00, 3e+00]\n",
      "  QObjective range [2e-02, 4e-02]\n",
      "  Bounds range     [0e+00, 0e+00]\n",
      "  RHS range        [1e+02, 1e+02]\n",
      "Presolve time: 0.00s\n",
      "Presolved: 1 rows, 3 columns, 3 nonzeros\n",
      "Presolved model has 5 quadratic objective terms\n",
      "Variable types: 0 continuous, 3 integer (0 binary)\n",
      "Found heuristic solution: objective 423.7600000\n",
      "\n",
      "Root relaxation: objective 3.500000e+02, 5 iterations, 0.00 seconds\n",
      "\n",
      "    Nodes    |    Current Node    |     Objective Bounds      |     Work\n",
      " Expl Unexpl |  Obj  Depth IntInf | Incumbent    BestBd   Gap | It/Node Time\n",
      "\n",
      "*    0     0               0     350.0000000  350.00000  0.00%     -    0s\n",
      "\n",
      "Explored 0 nodes (5 simplex iterations) in 0.02 seconds\n",
      "Thread count was 8 (of 8 available processors)\n",
      "\n",
      "Solution count 2: 350 423.76 \n",
      "\n",
      "Optimal solution found (tolerance 1.00e-04)\n",
      "Best objective 3.500000000000e+02, best bound 3.500000000000e+02, gap 0.0000%\n"
     ]
    }
   ],
   "source": [
    "model=Model(\"traffic_assignment_without_t\")\n",
    "x=model.addVars(nPaths, vtype=GRB.INTEGER)\n",
    "obj=((x[0]+x[2])/100+3)*x[0]+((x[1]+x[2])/100+3)*x[1]+((x[0]+x[1]+2*x[2])/100+2.25)*x[2]\n",
    "model.setObjective(obj)\n",
    "model.addConstr(x[0]+x[1]+x[2]==nVehicles)\n",
    "model.optimize()"
   ]
  },
  {
   "cell_type": "code",
   "execution_count": 11,
   "metadata": {},
   "outputs": [
    {
     "name": "stdout",
     "output_type": "stream",
     "text": [
      "Path\t\tTime\tVehicles\n",
      "-----------------------------------\n",
      "Path 1: \t3.5\t50.0\n",
      "Path 2: \t3.5\t50.0\n",
      "Path 3: \t3.25\t-0.0\n"
     ]
    }
   ],
   "source": [
    "t={}\n",
    "t[0]=(x[0].X+x[2].X)/100+3\n",
    "t[1]=(x[1].X+x[2].X)/100+3\n",
    "t[2]=(x[0].X+x[1].X+2*x[2].X)/100+2.25\n",
    "\n",
    "## Note how $t$ is *not* a variable now!\n",
    "\n",
    "print(\"Path\\t\\tTime\\tVehicles\")\n",
    "print(\"-\"*35)\n",
    "for i in range(nPaths):\n",
    "    print(\"Path \"+str(i+1)+\": \\t\"+str(round(t[i],2))+\"\\t\"+str(round(x[i].X,2)))"
   ]
  },
  {
   "cell_type": "code",
   "execution_count": null,
   "metadata": {},
   "outputs": [],
   "source": []
  }
 ],
 "metadata": {
  "kernelspec": {
   "display_name": "Python 3",
   "language": "python",
   "name": "python3"
  },
  "language_info": {
   "codemirror_mode": {
    "name": "ipython",
    "version": 3
   },
   "file_extension": ".py",
   "mimetype": "text/x-python",
   "name": "python",
   "nbconvert_exporter": "python",
   "pygments_lexer": "ipython3",
   "version": "3.7.9"
  }
 },
 "nbformat": 4,
 "nbformat_minor": 2
}
