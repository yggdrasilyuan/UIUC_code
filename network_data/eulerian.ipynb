{
 "cells": [
  {
   "cell_type": "markdown",
   "metadata": {},
   "source": [
    "## DNA sequencing\n",
    "### Lecture 2 example (unfilled)"
   ]
  },
  {
   "cell_type": "markdown",
   "metadata": {},
   "source": [
    "Recall that in Lecture 2, we saw the DNA sequencing problem and a way to approach it as an Eulerian path problem. Here, we use *networkx*, an excellent network analysis package, to solve this. \n",
    "\n",
    "See https://networkx.github.io for more details. Also see the `intro.ipynb` we have provided you with."
   ]
  },
  {
   "cell_type": "markdown",
   "metadata": {},
   "source": [
    "In one of the examples in class we had a set of subsequences:"
   ]
  },
  {
   "cell_type": "code",
   "execution_count": 1,
   "metadata": {},
   "outputs": [],
   "source": [
    "subsequences = ['CAT' , 'ATT' , 'ATG', 'TAT' , 'TTG', 'TGC', 'TGT' , 'GTA']"
   ]
  },
  {
   "cell_type": "markdown",
   "metadata": {},
   "source": [
    "First, we write a code that produces the graph (as discussed in class)."
   ]
  },
  {
   "cell_type": "code",
   "execution_count": 2,
   "metadata": {},
   "outputs": [
    {
     "data": {
      "image/png": "[encoded data removed]",
      "text/plain": [
       "<Figure size 432x288 with 1 Axes>"
      ]
     },
     "metadata": {},
     "output_type": "display_data"
    }
   ],
   "source": [
    "import networkx as nx\n",
    "import matplotlib.pyplot as plt\n",
    "from itertools import combinations\n",
    "\n",
    "def construct_graph_from(sub):\n",
    "    G = nx.DiGraph()\n",
    "    \n",
    "    #################\n",
    "    ### Fill this ###\n",
    "    ################# \n",
    "    \n",
    "    return G\n",
    "\n",
    "G = construct_graph_from(subsequences) \n",
    "pos=nx.spring_layout(G) ## <- We can change this to other types of layouts, try some out yourselves\n",
    "nx.draw_networkx(G,pos)\n",
    "nx.draw_networkx_labels(G,pos)\n",
    "plt.show()"
   ]
  },
  {
   "cell_type": "markdown",
   "metadata": {},
   "source": [
    "Now, we write a code to find an **Eulerian path**. Networkx has a function *eulerian_circuit(graph, source)* that we may use. However, it returns a cycle -- not a path. \n",
    "\n",
    "How can we turn our graph into one that has an Eulerian cycle? *Maybe* add an edge between the end node and the start node? And how can we find a suitable start node?"
   ]
  },
  {
   "cell_type": "code",
   "execution_count": 4,
   "metadata": {},
   "outputs": [
    {
     "name": "stdout",
     "output_type": "stream",
     "text": [
      "CATTGTATG\n"
     ]
    }
   ],
   "source": [
    "#################\n",
    "### Fill this ###\n",
    "################# \n",
    "start=0 # ???\n",
    "\n",
    "cycle=list(nx.eulerian_circuit(G, start))\n"
   ]
  },
  {
   "cell_type": "code",
   "execution_count": null,
   "metadata": {},
   "outputs": [],
   "source": []
  }
 ],
 "metadata": {
  "kernelspec": {
   "display_name": "Python 3",
   "language": "python",
   "name": "python3"
  },
  "language_info": {
   "codemirror_mode": {
    "name": "ipython",
    "version": 3
   },
   "file_extension": ".py",
   "mimetype": "text/x-python",
   "name": "python",
   "nbconvert_exporter": "python",
   "pygments_lexer": "ipython3",
   "version": "3.8.8"
  }
 },
 "nbformat": 4,
 "nbformat_minor": 1
}
