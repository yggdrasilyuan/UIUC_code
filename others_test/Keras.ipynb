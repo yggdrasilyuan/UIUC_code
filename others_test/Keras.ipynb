{
 "cells": [
  {
   "cell_type": "markdown",
   "metadata": {
    "id": "ekczNcQxUpzT"
   },
   "source": [
    "<p align=\"center\"><img width=\"50%\" src=\"https://aimodelsharecontent.s3.amazonaws.com/aimodshare_banner.jpg\" /></p>\n",
    "\n",
    "\n",
    "---"
   ]
  },
  {
   "cell_type": "markdown",
   "metadata": {
    "id": "JXxGTgJz152A"
   },
   "source": [
    "## Model Submission Guide: Dates Classification Competition\n",
    "Let's share our models to a centralized leaderboard, so that we can collaborate and learn from the model experimentation process...\n",
    "\n",
    "**Instructions:**\n",
    "1.   Get data in and set up X_train / X_test / y_train\n",
    "2.   Preprocess data using Sklearn Column Transformer/ Write and Save Preprocessor function\n",
    "3. Fit model on preprocessed data and save preprocessor function and model \n",
    "4. Generate predictions from X_test data and submit model to competition\n",
    "5. Repeat submission process to improve place on leaderboard\n",
    "\n"
   ]
  },
  {
   "cell_type": "markdown",
   "metadata": {
    "id": "5gSrVJwp3E9H"
   },
   "source": [
    "## 1. Get data in and set up X_train, X_test, y_train objects"
   ]
  },
  {
   "cell_type": "code",
   "execution_count": 2,
   "metadata": {
    "id": "PLTIaMB3ChSW"
   },
   "outputs": [
    {
     "name": "stdout",
     "output_type": "stream",
     "text": [
      "^C\n"
     ]
    }
   ],
   "source": [
    "#install aimodelshare library\n",
    "! pip install aimodelshare --upgrade"
   ]
  },
  {
   "cell_type": "code",
   "execution_count": 3,
   "metadata": {
    "colab": {
     "base_uri": "https://localhost:8080/"
    },
    "id": "d3PiJXBhC5y-",
    "outputId": "e1b07e0a-969f-4705-a497-c8ca1067e299"
   },
   "outputs": [
    {
     "name": "stdout",
     "output_type": "stream",
     "text": [
      "Downloading [=============>                                   ]\n",
      "\n",
      "Data downloaded successfully.\n"
     ]
    }
   ],
   "source": [
    "# Get competition data\n",
    "from aimodelshare import download_data\n",
    "download_data('public.ecr.aws/i7c1w0k3/date_competition_data-repository:latest') "
   ]
  },
  {
   "cell_type": "code",
   "execution_count": 12,
   "metadata": {
    "colab": {
     "base_uri": "https://localhost:8080/",
     "height": 258
    },
    "id": "jT0qFCZFNzHq",
    "outputId": "8bcbbc9c-98df-47f3-841e-d5f1eaf148f6"
   },
   "outputs": [
    {
     "data": {
      "text/html": [
       "<div>\n",
       "<style scoped>\n",
       "    .dataframe tbody tr th:only-of-type {\n",
       "        vertical-align: middle;\n",
       "    }\n",
       "\n",
       "    .dataframe tbody tr th {\n",
       "        vertical-align: top;\n",
       "    }\n",
       "\n",
       "    .dataframe thead th {\n",
       "        text-align: right;\n",
       "    }\n",
       "</style>\n",
       "<table border=\"1\" class=\"dataframe\">\n",
       "  <thead>\n",
       "    <tr style=\"text-align: right;\">\n",
       "      <th></th>\n",
       "      <th>PERIMETER</th>\n",
       "      <th>MAJOR_AXIS</th>\n",
       "      <th>MINOR_AXIS</th>\n",
       "      <th>ECCENTRICITY</th>\n",
       "      <th>EQDIASQ</th>\n",
       "      <th>SOLIDITY</th>\n",
       "      <th>CONVEX_AREA</th>\n",
       "      <th>EXTENT</th>\n",
       "      <th>ASPECT_RATIO</th>\n",
       "      <th>ROUNDNESS</th>\n",
       "      <th>...</th>\n",
       "      <th>SkewRB</th>\n",
       "      <th>KurtosisRR</th>\n",
       "      <th>KurtosisRG</th>\n",
       "      <th>KurtosisRB</th>\n",
       "      <th>EntropyRR</th>\n",
       "      <th>EntropyRG</th>\n",
       "      <th>EntropyRB</th>\n",
       "      <th>ALLdaub4RR</th>\n",
       "      <th>ALLdaub4RG</th>\n",
       "      <th>ALLdaub4RB</th>\n",
       "    </tr>\n",
       "  </thead>\n",
       "  <tbody>\n",
       "    <tr>\n",
       "      <th>0</th>\n",
       "      <td>2385.5110</td>\n",
       "      <td>849.6287</td>\n",
       "      <td>548.4377</td>\n",
       "      <td>0.7638</td>\n",
       "      <td>681.0944</td>\n",
       "      <td>0.9874</td>\n",
       "      <td>368969</td>\n",
       "      <td>0.7596</td>\n",
       "      <td>1.5492</td>\n",
       "      <td>0.8045</td>\n",
       "      <td>...</td>\n",
       "      <td>0.3835</td>\n",
       "      <td>2.5413</td>\n",
       "      <td>2.7010</td>\n",
       "      <td>4.7956</td>\n",
       "      <td>-4.570224e+10</td>\n",
       "      <td>-31309285376</td>\n",
       "      <td>-31791349760</td>\n",
       "      <td>54.5422</td>\n",
       "      <td>46.1706</td>\n",
       "      <td>47.5687</td>\n",
       "    </tr>\n",
       "    <tr>\n",
       "      <th>1</th>\n",
       "      <td>2360.4670</td>\n",
       "      <td>919.1130</td>\n",
       "      <td>479.2314</td>\n",
       "      <td>0.8533</td>\n",
       "      <td>661.2138</td>\n",
       "      <td>0.9657</td>\n",
       "      <td>355591</td>\n",
       "      <td>0.6926</td>\n",
       "      <td>1.9179</td>\n",
       "      <td>0.7744</td>\n",
       "      <td>...</td>\n",
       "      <td>0.8084</td>\n",
       "      <td>13.2536</td>\n",
       "      <td>10.8915</td>\n",
       "      <td>5.0327</td>\n",
       "      <td>-6.173153e+09</td>\n",
       "      <td>-10177111040</td>\n",
       "      <td>-13946608640</td>\n",
       "      <td>20.5354</td>\n",
       "      <td>27.7553</td>\n",
       "      <td>33.2095</td>\n",
       "    </tr>\n",
       "    <tr>\n",
       "      <th>2</th>\n",
       "      <td>1059.0460</td>\n",
       "      <td>378.1419</td>\n",
       "      <td>270.6614</td>\n",
       "      <td>0.6983</td>\n",
       "      <td>319.2416</td>\n",
       "      <td>0.9883</td>\n",
       "      <td>80990</td>\n",
       "      <td>0.7521</td>\n",
       "      <td>1.3971</td>\n",
       "      <td>0.8968</td>\n",
       "      <td>...</td>\n",
       "      <td>-0.1599</td>\n",
       "      <td>2.2247</td>\n",
       "      <td>2.4509</td>\n",
       "      <td>2.2165</td>\n",
       "      <td>-9.834114e+09</td>\n",
       "      <td>-9082079232</td>\n",
       "      <td>-8377428480</td>\n",
       "      <td>54.3915</td>\n",
       "      <td>53.0591</td>\n",
       "      <td>50.5000</td>\n",
       "    </tr>\n",
       "    <tr>\n",
       "      <th>3</th>\n",
       "      <td>2279.7581</td>\n",
       "      <td>770.8477</td>\n",
       "      <td>654.0494</td>\n",
       "      <td>0.5292</td>\n",
       "      <td>708.2852</td>\n",
       "      <td>0.9945</td>\n",
       "      <td>396190</td>\n",
       "      <td>0.7632</td>\n",
       "      <td>1.1786</td>\n",
       "      <td>0.9527</td>\n",
       "      <td>...</td>\n",
       "      <td>1.6654</td>\n",
       "      <td>5.7796</td>\n",
       "      <td>9.1424</td>\n",
       "      <td>7.8056</td>\n",
       "      <td>-1.841185e+10</td>\n",
       "      <td>-23242752000</td>\n",
       "      <td>-23591233536</td>\n",
       "      <td>34.5177</td>\n",
       "      <td>38.9835</td>\n",
       "      <td>38.4695</td>\n",
       "    </tr>\n",
       "    <tr>\n",
       "      <th>4</th>\n",
       "      <td>1843.9160</td>\n",
       "      <td>647.9982</td>\n",
       "      <td>479.8817</td>\n",
       "      <td>0.6720</td>\n",
       "      <td>556.0906</td>\n",
       "      <td>0.9906</td>\n",
       "      <td>245181</td>\n",
       "      <td>0.7818</td>\n",
       "      <td>1.3503</td>\n",
       "      <td>0.8977</td>\n",
       "      <td>...</td>\n",
       "      <td>-0.3694</td>\n",
       "      <td>2.4534</td>\n",
       "      <td>2.2759</td>\n",
       "      <td>2.5079</td>\n",
       "      <td>-4.665024e+10</td>\n",
       "      <td>-40748339200</td>\n",
       "      <td>-32199612416</td>\n",
       "      <td>66.5225</td>\n",
       "      <td>62.6833</td>\n",
       "      <td>56.9092</td>\n",
       "    </tr>\n",
       "  </tbody>\n",
       "</table>\n",
       "<p>5 rows × 33 columns</p>\n",
       "</div>"
      ],
      "text/plain": [
       "   PERIMETER  MAJOR_AXIS  MINOR_AXIS  ECCENTRICITY   EQDIASQ  SOLIDITY  \\\n",
       "0  2385.5110    849.6287    548.4377        0.7638  681.0944    0.9874   \n",
       "1  2360.4670    919.1130    479.2314        0.8533  661.2138    0.9657   \n",
       "2  1059.0460    378.1419    270.6614        0.6983  319.2416    0.9883   \n",
       "3  2279.7581    770.8477    654.0494        0.5292  708.2852    0.9945   \n",
       "4  1843.9160    647.9982    479.8817        0.6720  556.0906    0.9906   \n",
       "\n",
       "   CONVEX_AREA  EXTENT  ASPECT_RATIO  ROUNDNESS  ...  SkewRB  KurtosisRR  \\\n",
       "0       368969  0.7596        1.5492     0.8045  ...  0.3835      2.5413   \n",
       "1       355591  0.6926        1.9179     0.7744  ...  0.8084     13.2536   \n",
       "2        80990  0.7521        1.3971     0.8968  ... -0.1599      2.2247   \n",
       "3       396190  0.7632        1.1786     0.9527  ...  1.6654      5.7796   \n",
       "4       245181  0.7818        1.3503     0.8977  ... -0.3694      2.4534   \n",
       "\n",
       "   KurtosisRG  KurtosisRB     EntropyRR    EntropyRG    EntropyRB  ALLdaub4RR  \\\n",
       "0      2.7010      4.7956 -4.570224e+10 -31309285376 -31791349760     54.5422   \n",
       "1     10.8915      5.0327 -6.173153e+09 -10177111040 -13946608640     20.5354   \n",
       "2      2.4509      2.2165 -9.834114e+09  -9082079232  -8377428480     54.3915   \n",
       "3      9.1424      7.8056 -1.841185e+10 -23242752000 -23591233536     34.5177   \n",
       "4      2.2759      2.5079 -4.665024e+10 -40748339200 -32199612416     66.5225   \n",
       "\n",
       "   ALLdaub4RG  ALLdaub4RB  \n",
       "0     46.1706     47.5687  \n",
       "1     27.7553     33.2095  \n",
       "2     53.0591     50.5000  \n",
       "3     38.9835     38.4695  \n",
       "4     62.6833     56.9092  \n",
       "\n",
       "[5 rows x 33 columns]"
      ]
     },
     "execution_count": 12,
     "metadata": {},
     "output_type": "execute_result"
    }
   ],
   "source": [
    "# Separate data into X_train, y_train, and X_test\n",
    "import pandas as pd\n",
    "y_train = pd.read_csv(\"date_competition_data/y_train.csv\")\n",
    "y_train_labels = y_train.idxmax(axis=1)\n",
    "\n",
    "X_train = pd.read_csv(\"date_competition_data/X_train.csv\")\n",
    "X_test=pd.read_csv(\"date_competition_data/X_test.csv\")\n",
    "\n",
    "X_train.head()"
   ]
  },
  {
   "cell_type": "markdown",
   "metadata": {
    "id": "gEzPoXPj3V7u"
   },
   "source": [
    "##2.   Preprocess data using Sklearn / Write and Save Preprocessor function\n"
   ]
  },
  {
   "cell_type": "code",
   "execution_count": 13,
   "metadata": {
    "colab": {
     "base_uri": "https://localhost:8080/"
    },
    "id": "16QV9Y9TC3B3",
    "outputId": "09aa96fc-5f4c-461c-bdc4-5c9cdf3f0ffe"
   },
   "outputs": [
    {
     "data": {
      "text/plain": [
       "StandardScaler()"
      ]
     },
     "execution_count": 13,
     "metadata": {},
     "output_type": "execute_result"
    }
   ],
   "source": [
    "# Simple Preprocessor with sklearn \n",
    "\n",
    "from sklearn.preprocessing import StandardScaler\n",
    "\n",
    "scaler = StandardScaler()\n",
    "scaler.fit(X_train)"
   ]
  },
  {
   "cell_type": "code",
   "execution_count": 14,
   "metadata": {
    "id": "S_PaNOG0SUIk"
   },
   "outputs": [],
   "source": [
    "# Here is where we actually write the preprocessor function:\n",
    "def preprocessor(data):\n",
    "    preprocessed_data=scaler.transform(data)\n",
    "    return preprocessed_data"
   ]
  },
  {
   "cell_type": "code",
   "execution_count": 15,
   "metadata": {
    "colab": {
     "base_uri": "https://localhost:8080/"
    },
    "id": "a1IPy9xvSWBp",
    "outputId": "363f2e2f-202e-4282-8bff-7b3698b1443b"
   },
   "outputs": [
    {
     "data": {
      "text/plain": [
       "(718, 33)"
      ]
     },
     "execution_count": 15,
     "metadata": {},
     "output_type": "execute_result"
    }
   ],
   "source": [
    "# check shape of X data after preprocessing it using our new function\n",
    "preprocessor(X_train).shape"
   ]
  },
  {
   "cell_type": "markdown",
   "metadata": {
    "id": "X52kECL43b-O"
   },
   "source": [
    "##3. Fit model on preprocessed data and save preprocessor function and model \n"
   ]
  },
  {
   "cell_type": "code",
   "execution_count": 21,
   "metadata": {
    "id": "NCbBf8j9ClYl"
   },
   "outputs": [
    {
     "name": "stdout",
     "output_type": "stream",
     "text": [
      "Epoch 1/15\n",
      "17/17 [==============================] - 1s 11ms/step - loss: 1.8902 - accuracy: 0.2082 - val_loss: 1.8366 - val_accuracy: 0.2389\n",
      "Epoch 2/15\n",
      "17/17 [==============================] - 0s 3ms/step - loss: 1.8252 - accuracy: 0.3011 - val_loss: 1.7581 - val_accuracy: 0.3722\n",
      "Epoch 3/15\n",
      "17/17 [==============================] - 0s 4ms/step - loss: 1.7607 - accuracy: 0.3996 - val_loss: 1.6813 - val_accuracy: 0.4611\n",
      "Epoch 4/15\n",
      "17/17 [==============================] - 0s 3ms/step - loss: 1.6986 - accuracy: 0.4461 - val_loss: 1.6085 - val_accuracy: 0.5111\n",
      "Epoch 5/15\n",
      "17/17 [==============================] - 0s 3ms/step - loss: 1.6381 - accuracy: 0.4851 - val_loss: 1.5370 - val_accuracy: 0.5611\n",
      "Epoch 6/15\n",
      "17/17 [==============================] - 0s 3ms/step - loss: 1.5755 - accuracy: 0.5093 - val_loss: 1.4663 - val_accuracy: 0.5722\n",
      "Epoch 7/15\n",
      "17/17 [==============================] - 0s 3ms/step - loss: 1.5137 - accuracy: 0.5242 - val_loss: 1.4003 - val_accuracy: 0.5889\n",
      "Epoch 8/15\n",
      "17/17 [==============================] - 0s 7ms/step - loss: 1.4562 - accuracy: 0.5409 - val_loss: 1.3415 - val_accuracy: 0.6167\n",
      "Epoch 9/15\n",
      "17/17 [==============================] - 0s 3ms/step - loss: 1.4044 - accuracy: 0.5651 - val_loss: 1.2894 - val_accuracy: 0.6278\n",
      "Epoch 10/15\n",
      "17/17 [==============================] - 0s 3ms/step - loss: 1.3591 - accuracy: 0.5799 - val_loss: 1.2455 - val_accuracy: 0.6278\n",
      "Epoch 11/15\n",
      "17/17 [==============================] - 0s 6ms/step - loss: 1.3197 - accuracy: 0.6041 - val_loss: 1.2062 - val_accuracy: 0.6444\n",
      "Epoch 12/15\n",
      "17/17 [==============================] - 0s 3ms/step - loss: 1.2842 - accuracy: 0.6152 - val_loss: 1.1706 - val_accuracy: 0.6611\n",
      "Epoch 13/15\n",
      "17/17 [==============================] - 0s 3ms/step - loss: 1.2517 - accuracy: 0.6338 - val_loss: 1.1392 - val_accuracy: 0.6667\n",
      "Epoch 14/15\n",
      "17/17 [==============================] - 0s 3ms/step - loss: 1.2208 - accuracy: 0.6506 - val_loss: 1.1095 - val_accuracy: 0.6778\n",
      "Epoch 15/15\n",
      "17/17 [==============================] - 0s 3ms/step - loss: 1.1904 - accuracy: 0.6673 - val_loss: 1.0808 - val_accuracy: 0.6833\n"
     ]
    },
    {
     "data": {
      "text/plain": [
       "<keras.callbacks.History at 0x1a5cac7a5b0>"
      ]
     },
     "execution_count": 21,
     "metadata": {},
     "output_type": "execute_result"
    }
   ],
   "source": [
    "import keras\n",
    "from keras.models import Sequential\n",
    "from keras.layers import Dense\n",
    "from keras.layers import Activation\n",
    "\n",
    "model = Sequential()\n",
    "model.add(Dense(16, input_dim=33, activation='relu'))\n",
    "model.add(Dense(16, activation='relu'))\n",
    "model.add(Dense(32, activation='relu'))\n",
    "\n",
    "model.add(Dense(7, activation='softmax')) \n",
    "                                            \n",
    "# Compile model\n",
    "model.compile(loss='categorical_crossentropy', optimizer='sgd', metrics=['accuracy'])\n",
    "\n",
    "# Fitting the NN to the Training set\n",
    "model.fit(preprocessor(X_train), y_train, \n",
    "               epochs = 15, validation_split=0.25) "
   ]
  },
  {
   "cell_type": "markdown",
   "metadata": {
    "id": "zmJAnmO-5AcU"
   },
   "source": [
    "#### Save preprocessor function to local \"preprocessor.zip\" file"
   ]
  },
  {
   "cell_type": "code",
   "execution_count": 22,
   "metadata": {
    "colab": {
     "base_uri": "https://localhost:8080/"
    },
    "id": "4VGacc0LDaMA",
    "outputId": "40597c43-a44c-4129-b152-06f9fd542e1d"
   },
   "outputs": [
    {
     "name": "stdout",
     "output_type": "stream",
     "text": [
      "Your preprocessor is now saved to 'preprocessor.zip'\n"
     ]
    }
   ],
   "source": [
    "import aimodelshare as ai\n",
    "ai.export_preprocessor(preprocessor,\"\") "
   ]
  },
  {
   "cell_type": "markdown",
   "metadata": {
    "id": "oOWBa8Cv5LdL"
   },
   "source": [
    "#### Save model to local \".onnx\" file"
   ]
  },
  {
   "cell_type": "code",
   "execution_count": 25,
   "metadata": {},
   "outputs": [
    {
     "name": "stdout",
     "output_type": "stream",
     "text": [
      "{'dot': 'C:/Program Files/Graphviz/bin\\\\dot.exe', 'twopi': 'C:/Program Files/Graphviz/bin\\\\twopi.exe', 'neato': 'C:/Program Files/Graphviz/bin\\\\neato.exe', 'circo': 'C:/Program Files/Graphviz/bin\\\\circo.exe', 'fdp': 'C:/Program Files/Graphviz/bin\\\\fdp.exe', 'sfdp': 'C:/Program Files/Graphviz/bin\\\\sfdp.exe'}\n"
     ]
    }
   ],
   "source": [
    "import os\n",
    "os.environ[\"PATH\"] += os.pathsep + 'C:/Program Files/Graphviz/bin'\n",
    "\n",
    "import pydot_ng as pydot#这个是测试代码\n",
    "print (pydot.find_graphviz())#这个是测试代码"
   ]
  },
  {
   "cell_type": "code",
   "execution_count": 26,
   "metadata": {
    "id": "pEhvnRiQDlY5"
   },
   "outputs": [],
   "source": [
    "# Save keras model to local ONNX file\n",
    "from aimodelshare.aimsonnx import model_to_onnx\n",
    "import pydot\n",
    "\n",
    "onnx_model = model_to_onnx(model, framework='keras',\n",
    "                          transfer_learning=False,\n",
    "                          deep_learning=True)\n",
    "\n",
    "with open(\"model.onnx\", \"wb\") as f:\n",
    "    f.write(onnx_model.SerializeToString())"
   ]
  },
  {
   "cell_type": "markdown",
   "metadata": {
    "id": "gHWkAzvX3m8O"
   },
   "source": [
    "## 4. Generate predictions from X_test data and submit model to competition\n"
   ]
  },
  {
   "cell_type": "code",
   "execution_count": 27,
   "metadata": {
    "colab": {
     "base_uri": "https://localhost:8080/"
    },
    "id": "RtgkM02MDpkO",
    "outputId": "5efbfdc6-e11d-4b84-974c-8e146d81a13a"
   },
   "outputs": [],
   "source": [
    "#Set credentials using modelshare.org username/password\n",
    "\n",
    "from aimodelshare.aws import set_credentials\n",
    "\n",
    "#This is the unique rest api that powers this class section's Date Classification Playground -- make sure to update the apiurl for new competition deployments\n",
    "apiurl=\"https://jl70pxwaek.execute-api.us-east-1.amazonaws.com/prod/m\"\n",
    "\n",
    "set_credentials(apiurl=apiurl)"
   ]
  },
  {
   "cell_type": "code",
   "execution_count": null,
   "metadata": {
    "id": "fKNGSww8EGgi"
   },
   "outputs": [],
   "source": [
    "#Instantiate Competition\n",
    "import aimodelshare as ai\n",
    "mycompetition= ai.Competition(apiurl)"
   ]
  },
  {
   "cell_type": "code",
   "execution_count": null,
   "metadata": {
    "colab": {
     "base_uri": "https://localhost:8080/"
    },
    "id": "_Ql4wksyEUnP",
    "outputId": "cee9aa00-a9b5-423e-90a3-acabec9554bb"
   },
   "outputs": [
    {
     "name": "stdout",
     "output_type": "stream",
     "text": [
      "6/6 [==============================] - 0s 1ms/step\n",
      "6/6 [==============================] - 0s 1ms/step\n",
      "unexpected EOF while parsing (<unknown>, line 0)\n",
      "unexpected EOF while parsing (<unknown>, line 0)\n"
     ]
    },
    {
     "ename": "ValueError",
     "evalue": "malformed node or string: {'model_metadata': ''}",
     "output_type": "error",
     "traceback": [
      "\u001b[0;31m---------------------------------------------------------------------------\u001b[0m",
      "\u001b[0;31mSyntaxError\u001b[0m                               Traceback (most recent call last)",
      "File \u001b[0;32m~/opt/anaconda3/lib/python3.9/site-packages/aimodelshare/aimsonnx.py:942\u001b[0m, in \u001b[0;36m_get_metadata\u001b[0;34m(onnx_model)\u001b[0m\n\u001b[1;32m    940\u001b[0m     onnx_meta_dict[i\u001b[38;5;241m.\u001b[39mkey] \u001b[38;5;241m=\u001b[39m i\u001b[38;5;241m.\u001b[39mvalue\n\u001b[0;32m--> 942\u001b[0m onnx_meta_dict \u001b[38;5;241m=\u001b[39m \u001b[43mast\u001b[49m\u001b[38;5;241;43m.\u001b[39;49m\u001b[43mliteral_eval\u001b[49m\u001b[43m(\u001b[49m\u001b[43monnx_meta_dict\u001b[49m\u001b[43m[\u001b[49m\u001b[38;5;124;43m'\u001b[39;49m\u001b[38;5;124;43mmodel_metadata\u001b[39;49m\u001b[38;5;124;43m'\u001b[39;49m\u001b[43m]\u001b[49m\u001b[43m)\u001b[49m\n\u001b[1;32m    944\u001b[0m \u001b[38;5;66;03m#if onnx_meta_dict['model_config'] != None and \\\u001b[39;00m\n\u001b[1;32m    945\u001b[0m \u001b[38;5;66;03m#onnx_meta_dict['ml_framework'] != 'pytorch':\u001b[39;00m\n\u001b[1;32m    946\u001b[0m \u001b[38;5;66;03m#    onnx_meta_dict['model_config'] = ast.literal_eval(onnx_meta_dict['model_config'])\u001b[39;00m\n",
      "File \u001b[0;32m~/opt/anaconda3/lib/python3.9/ast.py:62\u001b[0m, in \u001b[0;36mliteral_eval\u001b[0;34m(node_or_string)\u001b[0m\n\u001b[1;32m     61\u001b[0m \u001b[38;5;28;01mif\u001b[39;00m \u001b[38;5;28misinstance\u001b[39m(node_or_string, \u001b[38;5;28mstr\u001b[39m):\n\u001b[0;32m---> 62\u001b[0m     node_or_string \u001b[38;5;241m=\u001b[39m \u001b[43mparse\u001b[49m\u001b[43m(\u001b[49m\u001b[43mnode_or_string\u001b[49m\u001b[43m,\u001b[49m\u001b[43m \u001b[49m\u001b[43mmode\u001b[49m\u001b[38;5;241;43m=\u001b[39;49m\u001b[38;5;124;43m'\u001b[39;49m\u001b[38;5;124;43meval\u001b[39;49m\u001b[38;5;124;43m'\u001b[39;49m\u001b[43m)\u001b[49m\n\u001b[1;32m     63\u001b[0m \u001b[38;5;28;01mif\u001b[39;00m \u001b[38;5;28misinstance\u001b[39m(node_or_string, Expression):\n",
      "File \u001b[0;32m~/opt/anaconda3/lib/python3.9/ast.py:50\u001b[0m, in \u001b[0;36mparse\u001b[0;34m(source, filename, mode, type_comments, feature_version)\u001b[0m\n\u001b[1;32m     49\u001b[0m \u001b[38;5;66;03m# Else it should be an int giving the minor version for 3.x.\u001b[39;00m\n\u001b[0;32m---> 50\u001b[0m \u001b[38;5;28;01mreturn\u001b[39;00m \u001b[38;5;28;43mcompile\u001b[39;49m\u001b[43m(\u001b[49m\u001b[43msource\u001b[49m\u001b[43m,\u001b[49m\u001b[43m \u001b[49m\u001b[43mfilename\u001b[49m\u001b[43m,\u001b[49m\u001b[43m \u001b[49m\u001b[43mmode\u001b[49m\u001b[43m,\u001b[49m\u001b[43m \u001b[49m\u001b[43mflags\u001b[49m\u001b[43m,\u001b[49m\n\u001b[1;32m     51\u001b[0m \u001b[43m               \u001b[49m\u001b[43m_feature_version\u001b[49m\u001b[38;5;241;43m=\u001b[39;49m\u001b[43mfeature_version\u001b[49m\u001b[43m)\u001b[49m\n",
      "\u001b[0;31mSyntaxError\u001b[0m: unexpected EOF while parsing (<unknown>, line 0)",
      "\nDuring handling of the above exception, another exception occurred:\n",
      "\u001b[0;31mValueError\u001b[0m                                Traceback (most recent call last)",
      "Input \u001b[0;32mIn [25]\u001b[0m, in \u001b[0;36m<cell line: 11>\u001b[0;34m()\u001b[0m\n\u001b[1;32m      8\u001b[0m prediction_labels \u001b[38;5;241m=\u001b[39m [y_train\u001b[38;5;241m.\u001b[39mcolumns[i] \u001b[38;5;28;01mfor\u001b[39;00m i \u001b[38;5;129;01min\u001b[39;00m prediction_column_index]\n\u001b[1;32m     10\u001b[0m \u001b[38;5;66;03m# Submit Model 1 to Competition Leaderboard\u001b[39;00m\n\u001b[0;32m---> 11\u001b[0m \u001b[43mmycompetition\u001b[49m\u001b[38;5;241;43m.\u001b[39;49m\u001b[43msubmit_model\u001b[49m\u001b[43m(\u001b[49m\u001b[43mmodel_filepath\u001b[49m\u001b[43m \u001b[49m\u001b[38;5;241;43m=\u001b[39;49m\u001b[43m \u001b[49m\u001b[38;5;124;43m\"\u001b[39;49m\u001b[38;5;124;43mmodel.onnx\u001b[39;49m\u001b[38;5;124;43m\"\u001b[39;49m\u001b[43m,\u001b[49m\n\u001b[1;32m     12\u001b[0m \u001b[43m                                 \u001b[49m\u001b[43mpreprocessor_filepath\u001b[49m\u001b[38;5;241;43m=\u001b[39;49m\u001b[38;5;124;43m\"\u001b[39;49m\u001b[38;5;124;43mpreprocessor.zip\u001b[39;49m\u001b[38;5;124;43m\"\u001b[39;49m\u001b[43m,\u001b[49m\n\u001b[1;32m     13\u001b[0m \u001b[43m                                 \u001b[49m\u001b[43mprediction_submission\u001b[49m\u001b[38;5;241;43m=\u001b[39;49m\u001b[43mprediction_labels\u001b[49m\u001b[43m)\u001b[49m\n",
      "File \u001b[0;32m~/opt/anaconda3/lib/python3.9/site-packages/aimodelshare/object_oriented.py:358\u001b[0m, in \u001b[0;36mCompetition.submit_model\u001b[0;34m(self, model_filepath, preprocessor_filepath, prediction_submission, sample_data, reproducibility_env_filepath, custom_metadata)\u001b[0m\n\u001b[1;32m    331\u001b[0m \u001b[38;5;124;03m\"\"\"\u001b[39;00m\n\u001b[1;32m    332\u001b[0m \u001b[38;5;124;03mSubmits model/preprocessor to machine learning competition using live prediction API url generated by AI Modelshare library\u001b[39;00m\n\u001b[1;32m    333\u001b[0m \u001b[38;5;124;03mThe submitted model gets evaluated and compared with all existing models and a leaderboard can be generated\u001b[39;00m\n\u001b[0;32m   (...)\u001b[0m\n\u001b[1;32m    354\u001b[0m \u001b[38;5;124;03mresponse:   Model version if the model is submitted sucessfully\u001b[39;00m\n\u001b[1;32m    355\u001b[0m \u001b[38;5;124;03m\"\"\"\u001b[39;00m\n\u001b[1;32m    357\u001b[0m \u001b[38;5;28;01mfrom\u001b[39;00m \u001b[38;5;21;01maimodelshare\u001b[39;00m\u001b[38;5;21;01m.\u001b[39;00m\u001b[38;5;21;01mmodel\u001b[39;00m \u001b[38;5;28;01mimport\u001b[39;00m submit_model \u001b[38;5;28;01mas\u001b[39;00m submit\n\u001b[0;32m--> 358\u001b[0m submission \u001b[38;5;241m=\u001b[39m \u001b[43msubmit\u001b[49m\u001b[43m(\u001b[49m\u001b[43mmodel_filepath\u001b[49m\u001b[43m \u001b[49m\u001b[38;5;241;43m=\u001b[39;49m\u001b[43m \u001b[49m\u001b[43mmodel_filepath\u001b[49m\u001b[43m,\u001b[49m\u001b[43m \u001b[49m\n\u001b[1;32m    359\u001b[0m \u001b[43m                      \u001b[49m\u001b[43mapiurl\u001b[49m\u001b[43m \u001b[49m\u001b[38;5;241;43m=\u001b[39;49m\u001b[43m \u001b[49m\u001b[38;5;28;43mself\u001b[39;49m\u001b[38;5;241;43m.\u001b[39;49m\u001b[43mplayground_url\u001b[49m\u001b[43m,\u001b[49m\n\u001b[1;32m    360\u001b[0m \u001b[43m                      \u001b[49m\u001b[43mprediction_submission\u001b[49m\u001b[43m \u001b[49m\u001b[38;5;241;43m=\u001b[39;49m\u001b[43m \u001b[49m\u001b[43mprediction_submission\u001b[49m\u001b[43m,\u001b[49m\u001b[43m \u001b[49m\n\u001b[1;32m    361\u001b[0m \u001b[43m                      \u001b[49m\u001b[43mpreprocessor\u001b[49m\u001b[43m \u001b[49m\u001b[38;5;241;43m=\u001b[39;49m\u001b[43m \u001b[49m\u001b[43mpreprocessor_filepath\u001b[49m\u001b[43m,\u001b[49m\n\u001b[1;32m    362\u001b[0m \u001b[43m                      \u001b[49m\u001b[43mreproducibility_env_filepath\u001b[49m\u001b[43m \u001b[49m\u001b[38;5;241;43m=\u001b[39;49m\u001b[43m \u001b[49m\u001b[43mreproducibility_env_filepath\u001b[49m\u001b[43m,\u001b[49m\n\u001b[1;32m    363\u001b[0m \u001b[43m                      \u001b[49m\u001b[43mcustom_metadata\u001b[49m\u001b[43m \u001b[49m\u001b[38;5;241;43m=\u001b[39;49m\u001b[43m \u001b[49m\u001b[43mcustom_metadata\u001b[49m\u001b[43m,\u001b[49m\u001b[43m \u001b[49m\n\u001b[1;32m    364\u001b[0m \u001b[43m                      \u001b[49m\u001b[43msubmission_type\u001b[49m\u001b[43m \u001b[49m\u001b[38;5;241;43m=\u001b[39;49m\u001b[43m \u001b[49m\u001b[38;5;28;43mself\u001b[39;49m\u001b[38;5;241;43m.\u001b[39;49m\u001b[43msubmission_type\u001b[49m\u001b[43m)\u001b[49m\n\u001b[1;32m    365\u001b[0m \u001b[38;5;28;01mreturn\u001b[39;00m submission\n",
      "File \u001b[0;32m~/opt/anaconda3/lib/python3.9/site-packages/aimodelshare/model.py:780\u001b[0m, in \u001b[0;36msubmit_model\u001b[0;34m(model_filepath, apiurl, prediction_submission, preprocessor, reproducibility_env_filepath, custom_metadata, submission_type)\u001b[0m\n\u001b[1;32m    777\u001b[0m     fileputlistofdicts\u001b[38;5;241m.\u001b[39mappend(filedownload_dict)\n\u001b[1;32m    779\u001b[0m onnx_model \u001b[38;5;241m=\u001b[39m onnx\u001b[38;5;241m.\u001b[39mload(model_filepath)\n\u001b[0;32m--> 780\u001b[0m meta_dict \u001b[38;5;241m=\u001b[39m \u001b[43m_get_metadata\u001b[49m\u001b[43m(\u001b[49m\u001b[43monnx_model\u001b[49m\u001b[43m)\u001b[49m\n\u001b[1;32m    781\u001b[0m model_metadata \u001b[38;5;241m=\u001b[39m {\n\u001b[1;32m    782\u001b[0m     \u001b[38;5;124m\"\u001b[39m\u001b[38;5;124mmodel_config\u001b[39m\u001b[38;5;124m\"\u001b[39m: meta_dict[\u001b[38;5;124m\"\u001b[39m\u001b[38;5;124mmodel_config\u001b[39m\u001b[38;5;124m\"\u001b[39m],\n\u001b[1;32m    783\u001b[0m     \u001b[38;5;124m\"\u001b[39m\u001b[38;5;124mml_framework\u001b[39m\u001b[38;5;124m\"\u001b[39m: meta_dict[\u001b[38;5;124m\"\u001b[39m\u001b[38;5;124mml_framework\u001b[39m\u001b[38;5;124m\"\u001b[39m],\n\u001b[1;32m    784\u001b[0m     \u001b[38;5;124m\"\u001b[39m\u001b[38;5;124mmodel_type\u001b[39m\u001b[38;5;124m\"\u001b[39m: meta_dict[\u001b[38;5;124m\"\u001b[39m\u001b[38;5;124mmodel_type\u001b[39m\u001b[38;5;124m\"\u001b[39m]\n\u001b[1;32m    785\u001b[0m }\n\u001b[1;32m    787\u001b[0m temp \u001b[38;5;241m=\u001b[39m tempfile\u001b[38;5;241m.\u001b[39mmkdtemp()\n",
      "File \u001b[0;32m~/opt/anaconda3/lib/python3.9/site-packages/aimodelshare/aimsonnx.py:960\u001b[0m, in \u001b[0;36m_get_metadata\u001b[0;34m(onnx_model)\u001b[0m\n\u001b[1;32m    956\u001b[0m \u001b[38;5;28;01mexcept\u001b[39;00m \u001b[38;5;167;01mException\u001b[39;00m \u001b[38;5;28;01mas\u001b[39;00m e:\n\u001b[1;32m    958\u001b[0m     \u001b[38;5;28mprint\u001b[39m(e)\n\u001b[0;32m--> 960\u001b[0m     onnx_meta_dict \u001b[38;5;241m=\u001b[39m \u001b[43mast\u001b[49m\u001b[38;5;241;43m.\u001b[39;49m\u001b[43mliteral_eval\u001b[49m\u001b[43m(\u001b[49m\u001b[43monnx_meta_dict\u001b[49m\u001b[43m)\u001b[49m\n\u001b[1;32m    962\u001b[0m \u001b[38;5;28;01mreturn\u001b[39;00m onnx_meta_dict\n",
      "File \u001b[0;32m~/opt/anaconda3/lib/python3.9/ast.py:105\u001b[0m, in \u001b[0;36mliteral_eval\u001b[0;34m(node_or_string)\u001b[0m\n\u001b[1;32m    103\u001b[0m                 \u001b[38;5;28;01mreturn\u001b[39;00m left \u001b[38;5;241m-\u001b[39m right\n\u001b[1;32m    104\u001b[0m     \u001b[38;5;28;01mreturn\u001b[39;00m _convert_signed_num(node)\n\u001b[0;32m--> 105\u001b[0m \u001b[38;5;28;01mreturn\u001b[39;00m \u001b[43m_convert\u001b[49m\u001b[43m(\u001b[49m\u001b[43mnode_or_string\u001b[49m\u001b[43m)\u001b[49m\n",
      "File \u001b[0;32m~/opt/anaconda3/lib/python3.9/ast.py:104\u001b[0m, in \u001b[0;36mliteral_eval.<locals>._convert\u001b[0;34m(node)\u001b[0m\n\u001b[1;32m    102\u001b[0m         \u001b[38;5;28;01melse\u001b[39;00m:\n\u001b[1;32m    103\u001b[0m             \u001b[38;5;28;01mreturn\u001b[39;00m left \u001b[38;5;241m-\u001b[39m right\n\u001b[0;32m--> 104\u001b[0m \u001b[38;5;28;01mreturn\u001b[39;00m \u001b[43m_convert_signed_num\u001b[49m\u001b[43m(\u001b[49m\u001b[43mnode\u001b[49m\u001b[43m)\u001b[49m\n",
      "File \u001b[0;32m~/opt/anaconda3/lib/python3.9/ast.py:78\u001b[0m, in \u001b[0;36mliteral_eval.<locals>._convert_signed_num\u001b[0;34m(node)\u001b[0m\n\u001b[1;32m     76\u001b[0m     \u001b[38;5;28;01melse\u001b[39;00m:\n\u001b[1;32m     77\u001b[0m         \u001b[38;5;28;01mreturn\u001b[39;00m \u001b[38;5;241m-\u001b[39m operand\n\u001b[0;32m---> 78\u001b[0m \u001b[38;5;28;01mreturn\u001b[39;00m \u001b[43m_convert_num\u001b[49m\u001b[43m(\u001b[49m\u001b[43mnode\u001b[49m\u001b[43m)\u001b[49m\n",
      "File \u001b[0;32m~/opt/anaconda3/lib/python3.9/ast.py:69\u001b[0m, in \u001b[0;36mliteral_eval.<locals>._convert_num\u001b[0;34m(node)\u001b[0m\n\u001b[1;32m     67\u001b[0m \u001b[38;5;28;01mdef\u001b[39;00m \u001b[38;5;21m_convert_num\u001b[39m(node):\n\u001b[1;32m     68\u001b[0m     \u001b[38;5;28;01mif\u001b[39;00m \u001b[38;5;129;01mnot\u001b[39;00m \u001b[38;5;28misinstance\u001b[39m(node, Constant) \u001b[38;5;129;01mor\u001b[39;00m \u001b[38;5;28mtype\u001b[39m(node\u001b[38;5;241m.\u001b[39mvalue) \u001b[38;5;129;01mnot\u001b[39;00m \u001b[38;5;129;01min\u001b[39;00m (\u001b[38;5;28mint\u001b[39m, \u001b[38;5;28mfloat\u001b[39m, \u001b[38;5;28mcomplex\u001b[39m):\n\u001b[0;32m---> 69\u001b[0m         \u001b[43m_raise_malformed_node\u001b[49m\u001b[43m(\u001b[49m\u001b[43mnode\u001b[49m\u001b[43m)\u001b[49m\n\u001b[1;32m     70\u001b[0m     \u001b[38;5;28;01mreturn\u001b[39;00m node\u001b[38;5;241m.\u001b[39mvalue\n",
      "File \u001b[0;32m~/opt/anaconda3/lib/python3.9/ast.py:66\u001b[0m, in \u001b[0;36mliteral_eval.<locals>._raise_malformed_node\u001b[0;34m(node)\u001b[0m\n\u001b[1;32m     65\u001b[0m \u001b[38;5;28;01mdef\u001b[39;00m \u001b[38;5;21m_raise_malformed_node\u001b[39m(node):\n\u001b[0;32m---> 66\u001b[0m     \u001b[38;5;28;01mraise\u001b[39;00m \u001b[38;5;167;01mValueError\u001b[39;00m(\u001b[38;5;124mf\u001b[39m\u001b[38;5;124m'\u001b[39m\u001b[38;5;124mmalformed node or string: \u001b[39m\u001b[38;5;132;01m{\u001b[39;00mnode\u001b[38;5;132;01m!r}\u001b[39;00m\u001b[38;5;124m'\u001b[39m)\n",
      "\u001b[0;31mValueError\u001b[0m: malformed node or string: {'model_metadata': ''}"
     ]
    },
    {
     "ename": "ValueError",
     "evalue": "malformed node or string: {'model_metadata': ''}",
     "output_type": "error",
     "traceback": [
      "\u001b[0;31m---------------------------------------------------------------------------\u001b[0m",
      "\u001b[0;31mSyntaxError\u001b[0m                               Traceback (most recent call last)",
      "File \u001b[0;32m~/opt/anaconda3/lib/python3.9/site-packages/aimodelshare/aimsonnx.py:942\u001b[0m, in \u001b[0;36m_get_metadata\u001b[0;34m(onnx_model)\u001b[0m\n\u001b[1;32m    940\u001b[0m     onnx_meta_dict[i\u001b[38;5;241m.\u001b[39mkey] \u001b[38;5;241m=\u001b[39m i\u001b[38;5;241m.\u001b[39mvalue\n\u001b[0;32m--> 942\u001b[0m onnx_meta_dict \u001b[38;5;241m=\u001b[39m \u001b[43mast\u001b[49m\u001b[38;5;241;43m.\u001b[39;49m\u001b[43mliteral_eval\u001b[49m\u001b[43m(\u001b[49m\u001b[43monnx_meta_dict\u001b[49m\u001b[43m[\u001b[49m\u001b[38;5;124;43m'\u001b[39;49m\u001b[38;5;124;43mmodel_metadata\u001b[39;49m\u001b[38;5;124;43m'\u001b[39;49m\u001b[43m]\u001b[49m\u001b[43m)\u001b[49m\n\u001b[1;32m    944\u001b[0m \u001b[38;5;66;03m#if onnx_meta_dict['model_config'] != None and \\\u001b[39;00m\n\u001b[1;32m    945\u001b[0m \u001b[38;5;66;03m#onnx_meta_dict['ml_framework'] != 'pytorch':\u001b[39;00m\n\u001b[1;32m    946\u001b[0m \u001b[38;5;66;03m#    onnx_meta_dict['model_config'] = ast.literal_eval(onnx_meta_dict['model_config'])\u001b[39;00m\n",
      "File \u001b[0;32m~/opt/anaconda3/lib/python3.9/ast.py:62\u001b[0m, in \u001b[0;36mliteral_eval\u001b[0;34m(node_or_string)\u001b[0m\n\u001b[1;32m     61\u001b[0m \u001b[38;5;28;01mif\u001b[39;00m \u001b[38;5;28misinstance\u001b[39m(node_or_string, \u001b[38;5;28mstr\u001b[39m):\n\u001b[0;32m---> 62\u001b[0m     node_or_string \u001b[38;5;241m=\u001b[39m \u001b[43mparse\u001b[49m\u001b[43m(\u001b[49m\u001b[43mnode_or_string\u001b[49m\u001b[43m,\u001b[49m\u001b[43m \u001b[49m\u001b[43mmode\u001b[49m\u001b[38;5;241;43m=\u001b[39;49m\u001b[38;5;124;43m'\u001b[39;49m\u001b[38;5;124;43meval\u001b[39;49m\u001b[38;5;124;43m'\u001b[39;49m\u001b[43m)\u001b[49m\n\u001b[1;32m     63\u001b[0m \u001b[38;5;28;01mif\u001b[39;00m \u001b[38;5;28misinstance\u001b[39m(node_or_string, Expression):\n",
      "File \u001b[0;32m~/opt/anaconda3/lib/python3.9/ast.py:50\u001b[0m, in \u001b[0;36mparse\u001b[0;34m(source, filename, mode, type_comments, feature_version)\u001b[0m\n\u001b[1;32m     49\u001b[0m \u001b[38;5;66;03m# Else it should be an int giving the minor version for 3.x.\u001b[39;00m\n\u001b[0;32m---> 50\u001b[0m \u001b[38;5;28;01mreturn\u001b[39;00m \u001b[38;5;28;43mcompile\u001b[39;49m\u001b[43m(\u001b[49m\u001b[43msource\u001b[49m\u001b[43m,\u001b[49m\u001b[43m \u001b[49m\u001b[43mfilename\u001b[49m\u001b[43m,\u001b[49m\u001b[43m \u001b[49m\u001b[43mmode\u001b[49m\u001b[43m,\u001b[49m\u001b[43m \u001b[49m\u001b[43mflags\u001b[49m\u001b[43m,\u001b[49m\n\u001b[1;32m     51\u001b[0m \u001b[43m               \u001b[49m\u001b[43m_feature_version\u001b[49m\u001b[38;5;241;43m=\u001b[39;49m\u001b[43mfeature_version\u001b[49m\u001b[43m)\u001b[49m\n",
      "\u001b[0;31mSyntaxError\u001b[0m: unexpected EOF while parsing (<unknown>, line 0)",
      "\nDuring handling of the above exception, another exception occurred:\n",
      "\u001b[0;31mValueError\u001b[0m                                Traceback (most recent call last)",
      "Input \u001b[0;32mIn [25]\u001b[0m, in \u001b[0;36m<cell line: 11>\u001b[0;34m()\u001b[0m\n\u001b[1;32m      8\u001b[0m prediction_labels \u001b[38;5;241m=\u001b[39m [y_train\u001b[38;5;241m.\u001b[39mcolumns[i] \u001b[38;5;28;01mfor\u001b[39;00m i \u001b[38;5;129;01min\u001b[39;00m prediction_column_index]\n\u001b[1;32m     10\u001b[0m \u001b[38;5;66;03m# Submit Model 1 to Competition Leaderboard\u001b[39;00m\n\u001b[0;32m---> 11\u001b[0m \u001b[43mmycompetition\u001b[49m\u001b[38;5;241;43m.\u001b[39;49m\u001b[43msubmit_model\u001b[49m\u001b[43m(\u001b[49m\u001b[43mmodel_filepath\u001b[49m\u001b[43m \u001b[49m\u001b[38;5;241;43m=\u001b[39;49m\u001b[43m \u001b[49m\u001b[38;5;124;43m\"\u001b[39;49m\u001b[38;5;124;43mmodel.onnx\u001b[39;49m\u001b[38;5;124;43m\"\u001b[39;49m\u001b[43m,\u001b[49m\n\u001b[1;32m     12\u001b[0m \u001b[43m                                 \u001b[49m\u001b[43mpreprocessor_filepath\u001b[49m\u001b[38;5;241;43m=\u001b[39;49m\u001b[38;5;124;43m\"\u001b[39;49m\u001b[38;5;124;43mpreprocessor.zip\u001b[39;49m\u001b[38;5;124;43m\"\u001b[39;49m\u001b[43m,\u001b[49m\n\u001b[1;32m     13\u001b[0m \u001b[43m                                 \u001b[49m\u001b[43mprediction_submission\u001b[49m\u001b[38;5;241;43m=\u001b[39;49m\u001b[43mprediction_labels\u001b[49m\u001b[43m)\u001b[49m\n",
      "File \u001b[0;32m~/opt/anaconda3/lib/python3.9/site-packages/aimodelshare/object_oriented.py:358\u001b[0m, in \u001b[0;36mCompetition.submit_model\u001b[0;34m(self, model_filepath, preprocessor_filepath, prediction_submission, sample_data, reproducibility_env_filepath, custom_metadata)\u001b[0m\n\u001b[1;32m    331\u001b[0m \u001b[38;5;124;03m\"\"\"\u001b[39;00m\n\u001b[1;32m    332\u001b[0m \u001b[38;5;124;03mSubmits model/preprocessor to machine learning competition using live prediction API url generated by AI Modelshare library\u001b[39;00m\n\u001b[1;32m    333\u001b[0m \u001b[38;5;124;03mThe submitted model gets evaluated and compared with all existing models and a leaderboard can be generated\u001b[39;00m\n\u001b[0;32m   (...)\u001b[0m\n\u001b[1;32m    354\u001b[0m \u001b[38;5;124;03mresponse:   Model version if the model is submitted sucessfully\u001b[39;00m\n\u001b[1;32m    355\u001b[0m \u001b[38;5;124;03m\"\"\"\u001b[39;00m\n\u001b[1;32m    357\u001b[0m \u001b[38;5;28;01mfrom\u001b[39;00m \u001b[38;5;21;01maimodelshare\u001b[39;00m\u001b[38;5;21;01m.\u001b[39;00m\u001b[38;5;21;01mmodel\u001b[39;00m \u001b[38;5;28;01mimport\u001b[39;00m submit_model \u001b[38;5;28;01mas\u001b[39;00m submit\n\u001b[0;32m--> 358\u001b[0m submission \u001b[38;5;241m=\u001b[39m \u001b[43msubmit\u001b[49m\u001b[43m(\u001b[49m\u001b[43mmodel_filepath\u001b[49m\u001b[43m \u001b[49m\u001b[38;5;241;43m=\u001b[39;49m\u001b[43m \u001b[49m\u001b[43mmodel_filepath\u001b[49m\u001b[43m,\u001b[49m\u001b[43m \u001b[49m\n\u001b[1;32m    359\u001b[0m \u001b[43m                      \u001b[49m\u001b[43mapiurl\u001b[49m\u001b[43m \u001b[49m\u001b[38;5;241;43m=\u001b[39;49m\u001b[43m \u001b[49m\u001b[38;5;28;43mself\u001b[39;49m\u001b[38;5;241;43m.\u001b[39;49m\u001b[43mplayground_url\u001b[49m\u001b[43m,\u001b[49m\n\u001b[1;32m    360\u001b[0m \u001b[43m                      \u001b[49m\u001b[43mprediction_submission\u001b[49m\u001b[43m \u001b[49m\u001b[38;5;241;43m=\u001b[39;49m\u001b[43m \u001b[49m\u001b[43mprediction_submission\u001b[49m\u001b[43m,\u001b[49m\u001b[43m \u001b[49m\n\u001b[1;32m    361\u001b[0m \u001b[43m                      \u001b[49m\u001b[43mpreprocessor\u001b[49m\u001b[43m \u001b[49m\u001b[38;5;241;43m=\u001b[39;49m\u001b[43m \u001b[49m\u001b[43mpreprocessor_filepath\u001b[49m\u001b[43m,\u001b[49m\n\u001b[1;32m    362\u001b[0m \u001b[43m                      \u001b[49m\u001b[43mreproducibility_env_filepath\u001b[49m\u001b[43m \u001b[49m\u001b[38;5;241;43m=\u001b[39;49m\u001b[43m \u001b[49m\u001b[43mreproducibility_env_filepath\u001b[49m\u001b[43m,\u001b[49m\n\u001b[1;32m    363\u001b[0m \u001b[43m                      \u001b[49m\u001b[43mcustom_metadata\u001b[49m\u001b[43m \u001b[49m\u001b[38;5;241;43m=\u001b[39;49m\u001b[43m \u001b[49m\u001b[43mcustom_metadata\u001b[49m\u001b[43m,\u001b[49m\u001b[43m \u001b[49m\n\u001b[1;32m    364\u001b[0m \u001b[43m                      \u001b[49m\u001b[43msubmission_type\u001b[49m\u001b[43m \u001b[49m\u001b[38;5;241;43m=\u001b[39;49m\u001b[43m \u001b[49m\u001b[38;5;28;43mself\u001b[39;49m\u001b[38;5;241;43m.\u001b[39;49m\u001b[43msubmission_type\u001b[49m\u001b[43m)\u001b[49m\n\u001b[1;32m    365\u001b[0m \u001b[38;5;28;01mreturn\u001b[39;00m submission\n",
      "File \u001b[0;32m~/opt/anaconda3/lib/python3.9/site-packages/aimodelshare/model.py:780\u001b[0m, in \u001b[0;36msubmit_model\u001b[0;34m(model_filepath, apiurl, prediction_submission, preprocessor, reproducibility_env_filepath, custom_metadata, submission_type)\u001b[0m\n\u001b[1;32m    777\u001b[0m     fileputlistofdicts\u001b[38;5;241m.\u001b[39mappend(filedownload_dict)\n\u001b[1;32m    779\u001b[0m onnx_model \u001b[38;5;241m=\u001b[39m onnx\u001b[38;5;241m.\u001b[39mload(model_filepath)\n\u001b[0;32m--> 780\u001b[0m meta_dict \u001b[38;5;241m=\u001b[39m \u001b[43m_get_metadata\u001b[49m\u001b[43m(\u001b[49m\u001b[43monnx_model\u001b[49m\u001b[43m)\u001b[49m\n\u001b[1;32m    781\u001b[0m model_metadata \u001b[38;5;241m=\u001b[39m {\n\u001b[1;32m    782\u001b[0m     \u001b[38;5;124m\"\u001b[39m\u001b[38;5;124mmodel_config\u001b[39m\u001b[38;5;124m\"\u001b[39m: meta_dict[\u001b[38;5;124m\"\u001b[39m\u001b[38;5;124mmodel_config\u001b[39m\u001b[38;5;124m\"\u001b[39m],\n\u001b[1;32m    783\u001b[0m     \u001b[38;5;124m\"\u001b[39m\u001b[38;5;124mml_framework\u001b[39m\u001b[38;5;124m\"\u001b[39m: meta_dict[\u001b[38;5;124m\"\u001b[39m\u001b[38;5;124mml_framework\u001b[39m\u001b[38;5;124m\"\u001b[39m],\n\u001b[1;32m    784\u001b[0m     \u001b[38;5;124m\"\u001b[39m\u001b[38;5;124mmodel_type\u001b[39m\u001b[38;5;124m\"\u001b[39m: meta_dict[\u001b[38;5;124m\"\u001b[39m\u001b[38;5;124mmodel_type\u001b[39m\u001b[38;5;124m\"\u001b[39m]\n\u001b[1;32m    785\u001b[0m }\n\u001b[1;32m    787\u001b[0m temp \u001b[38;5;241m=\u001b[39m tempfile\u001b[38;5;241m.\u001b[39mmkdtemp()\n",
      "File \u001b[0;32m~/opt/anaconda3/lib/python3.9/site-packages/aimodelshare/aimsonnx.py:960\u001b[0m, in \u001b[0;36m_get_metadata\u001b[0;34m(onnx_model)\u001b[0m\n\u001b[1;32m    956\u001b[0m \u001b[38;5;28;01mexcept\u001b[39;00m \u001b[38;5;167;01mException\u001b[39;00m \u001b[38;5;28;01mas\u001b[39;00m e:\n\u001b[1;32m    958\u001b[0m     \u001b[38;5;28mprint\u001b[39m(e)\n\u001b[0;32m--> 960\u001b[0m     onnx_meta_dict \u001b[38;5;241m=\u001b[39m \u001b[43mast\u001b[49m\u001b[38;5;241;43m.\u001b[39;49m\u001b[43mliteral_eval\u001b[49m\u001b[43m(\u001b[49m\u001b[43monnx_meta_dict\u001b[49m\u001b[43m)\u001b[49m\n\u001b[1;32m    962\u001b[0m \u001b[38;5;28;01mreturn\u001b[39;00m onnx_meta_dict\n",
      "File \u001b[0;32m~/opt/anaconda3/lib/python3.9/ast.py:105\u001b[0m, in \u001b[0;36mliteral_eval\u001b[0;34m(node_or_string)\u001b[0m\n\u001b[1;32m    103\u001b[0m                 \u001b[38;5;28;01mreturn\u001b[39;00m left \u001b[38;5;241m-\u001b[39m right\n\u001b[1;32m    104\u001b[0m     \u001b[38;5;28;01mreturn\u001b[39;00m _convert_signed_num(node)\n\u001b[0;32m--> 105\u001b[0m \u001b[38;5;28;01mreturn\u001b[39;00m \u001b[43m_convert\u001b[49m\u001b[43m(\u001b[49m\u001b[43mnode_or_string\u001b[49m\u001b[43m)\u001b[49m\n",
      "File \u001b[0;32m~/opt/anaconda3/lib/python3.9/ast.py:104\u001b[0m, in \u001b[0;36mliteral_eval.<locals>._convert\u001b[0;34m(node)\u001b[0m\n\u001b[1;32m    102\u001b[0m         \u001b[38;5;28;01melse\u001b[39;00m:\n\u001b[1;32m    103\u001b[0m             \u001b[38;5;28;01mreturn\u001b[39;00m left \u001b[38;5;241m-\u001b[39m right\n\u001b[0;32m--> 104\u001b[0m \u001b[38;5;28;01mreturn\u001b[39;00m \u001b[43m_convert_signed_num\u001b[49m\u001b[43m(\u001b[49m\u001b[43mnode\u001b[49m\u001b[43m)\u001b[49m\n",
      "File \u001b[0;32m~/opt/anaconda3/lib/python3.9/ast.py:78\u001b[0m, in \u001b[0;36mliteral_eval.<locals>._convert_signed_num\u001b[0;34m(node)\u001b[0m\n\u001b[1;32m     76\u001b[0m     \u001b[38;5;28;01melse\u001b[39;00m:\n\u001b[1;32m     77\u001b[0m         \u001b[38;5;28;01mreturn\u001b[39;00m \u001b[38;5;241m-\u001b[39m operand\n\u001b[0;32m---> 78\u001b[0m \u001b[38;5;28;01mreturn\u001b[39;00m \u001b[43m_convert_num\u001b[49m\u001b[43m(\u001b[49m\u001b[43mnode\u001b[49m\u001b[43m)\u001b[49m\n",
      "File \u001b[0;32m~/opt/anaconda3/lib/python3.9/ast.py:69\u001b[0m, in \u001b[0;36mliteral_eval.<locals>._convert_num\u001b[0;34m(node)\u001b[0m\n\u001b[1;32m     67\u001b[0m \u001b[38;5;28;01mdef\u001b[39;00m \u001b[38;5;21m_convert_num\u001b[39m(node):\n\u001b[1;32m     68\u001b[0m     \u001b[38;5;28;01mif\u001b[39;00m \u001b[38;5;129;01mnot\u001b[39;00m \u001b[38;5;28misinstance\u001b[39m(node, Constant) \u001b[38;5;129;01mor\u001b[39;00m \u001b[38;5;28mtype\u001b[39m(node\u001b[38;5;241m.\u001b[39mvalue) \u001b[38;5;129;01mnot\u001b[39;00m \u001b[38;5;129;01min\u001b[39;00m (\u001b[38;5;28mint\u001b[39m, \u001b[38;5;28mfloat\u001b[39m, \u001b[38;5;28mcomplex\u001b[39m):\n\u001b[0;32m---> 69\u001b[0m         \u001b[43m_raise_malformed_node\u001b[49m\u001b[43m(\u001b[49m\u001b[43mnode\u001b[49m\u001b[43m)\u001b[49m\n\u001b[1;32m     70\u001b[0m     \u001b[38;5;28;01mreturn\u001b[39;00m node\u001b[38;5;241m.\u001b[39mvalue\n",
      "File \u001b[0;32m~/opt/anaconda3/lib/python3.9/ast.py:66\u001b[0m, in \u001b[0;36mliteral_eval.<locals>._raise_malformed_node\u001b[0;34m(node)\u001b[0m\n\u001b[1;32m     65\u001b[0m \u001b[38;5;28;01mdef\u001b[39;00m \u001b[38;5;21m_raise_malformed_node\u001b[39m(node):\n\u001b[0;32m---> 66\u001b[0m     \u001b[38;5;28;01mraise\u001b[39;00m \u001b[38;5;167;01mValueError\u001b[39;00m(\u001b[38;5;124mf\u001b[39m\u001b[38;5;124m'\u001b[39m\u001b[38;5;124mmalformed node or string: \u001b[39m\u001b[38;5;132;01m{\u001b[39;00mnode\u001b[38;5;132;01m!r}\u001b[39;00m\u001b[38;5;124m'\u001b[39m)\n",
      "\u001b[0;31mValueError\u001b[0m: malformed node or string: {'model_metadata': ''}"
     ]
    }
   ],
   "source": [
    "#Submit Model 1: \n",
    "\n",
    "#-- Generate predicted y values (Model 1)\n",
    "#Note: Keras predict returns the predicted column index location for classification models\n",
    "prediction_column_index=model.predict(preprocessor(X_test)).argmax(axis=1)\n",
    "\n",
    "# extract correct prediction labels \n",
    "prediction_labels = [y_train.columns[i] for i in prediction_column_index]\n",
    "\n",
    "# Submit Model 1 to Competition Leaderboard\n",
    "mycompetition.submit_model(model_filepath = \"model.onnx\",\n",
    "                                 preprocessor_filepath=\"preprocessor.zip\",\n",
    "                                 prediction_submission=prediction_labels)"
   ]
  },
  {
   "cell_type": "code",
   "execution_count": null,
   "metadata": {
    "colab": {
     "base_uri": "https://localhost:8080/",
     "height": 189
    },
    "id": "GN1zvAmNEq17",
    "outputId": "9b7676c3-7dc3-4992-8eb0-34d497fa7599"
   },
   "outputs": [],
   "source": [
    "# Get leaderboard to explore current best model architectures\n",
    "\n",
    "# Get raw data in pandas data frame\n",
    "data = mycompetition.get_leaderboard()\n",
    "\n",
    "# Stylize leaderboard data\n",
    "mycompetition.stylize_leaderboard(data)"
   ]
  },
  {
   "cell_type": "markdown",
   "metadata": {
    "id": "bwNKs0wP4r5s"
   },
   "source": [
    "## 5. Repeat submission process to improve place on leaderboard\n"
   ]
  },
  {
   "cell_type": "code",
   "execution_count": null,
   "metadata": {
    "colab": {
     "base_uri": "https://localhost:8080/"
    },
    "id": "FgSs5PAtPCZH",
    "outputId": "6c86f604-c7dc-4bd6-a29e-d5ae799835a6"
   },
   "outputs": [
    {
     "name": "stdout",
     "output_type": "stream",
     "text": [
      "Epoch 1/10\n",
      "Epoch 1/10\n",
      "17/17 [==============================] - 1s 13ms/step - loss: 1.9924 - accuracy: 0.1171 - val_loss: 1.8741 - val_accuracy: 0.2389\n",
      "17/17 [==============================] - 1s 13ms/step - loss: 1.9924 - accuracy: 0.1171 - val_loss: 1.8741 - val_accuracy: 0.2389\n",
      "Epoch 2/10\n",
      "Epoch 2/10\n",
      "17/17 [==============================] - 0s 4ms/step - loss: 1.8493 - accuracy: 0.3141 - val_loss: 1.7616 - val_accuracy: 0.6167\n",
      "17/17 [==============================] - 0s 4ms/step - loss: 1.8493 - accuracy: 0.3141 - val_loss: 1.7616 - val_accuracy: 0.6167\n",
      "Epoch 3/10\n",
      "Epoch 3/10\n",
      "17/17 [==============================] - 0s 3ms/step - loss: 1.7467 - accuracy: 0.4368 - val_loss: 1.6386 - val_accuracy: 0.6500\n",
      "17/17 [==============================] - 0s 3ms/step - loss: 1.7467 - accuracy: 0.4368 - val_loss: 1.6386 - val_accuracy: 0.6500\n",
      "Epoch 4/10\n",
      "Epoch 4/10\n",
      "17/17 [==============================] - 0s 4ms/step - loss: 1.6323 - accuracy: 0.5297 - val_loss: 1.5061 - val_accuracy: 0.6389\n",
      "17/17 [==============================] - 0s 4ms/step - loss: 1.6323 - accuracy: 0.5297 - val_loss: 1.5061 - val_accuracy: 0.6389\n",
      "Epoch 5/10\n",
      "Epoch 5/10\n",
      "17/17 [==============================] - 0s 4ms/step - loss: 1.5310 - accuracy: 0.5781 - val_loss: 1.3809 - val_accuracy: 0.6389\n",
      "17/17 [==============================] - 0s 4ms/step - loss: 1.5310 - accuracy: 0.5781 - val_loss: 1.3809 - val_accuracy: 0.6389\n",
      "Epoch 6/10\n",
      "Epoch 6/10\n",
      "17/17 [==============================] - 0s 4ms/step - loss: 1.4170 - accuracy: 0.5855 - val_loss: 1.2688 - val_accuracy: 0.6389\n",
      "17/17 [==============================] - 0s 4ms/step - loss: 1.4170 - accuracy: 0.5855 - val_loss: 1.2688 - val_accuracy: 0.6389\n",
      "Epoch 7/10\n",
      "Epoch 7/10\n",
      "17/17 [==============================] - 0s 3ms/step - loss: 1.3207 - accuracy: 0.5985 - val_loss: 1.1712 - val_accuracy: 0.6389\n",
      "17/17 [==============================] - 0s 3ms/step - loss: 1.3207 - accuracy: 0.5985 - val_loss: 1.1712 - val_accuracy: 0.6389\n",
      "Epoch 8/10\n",
      "Epoch 8/10\n",
      "17/17 [==============================] - 0s 3ms/step - loss: 1.2317 - accuracy: 0.6152 - val_loss: 1.0895 - val_accuracy: 0.6389\n",
      "17/17 [==============================] - 0s 3ms/step - loss: 1.2317 - accuracy: 0.6152 - val_loss: 1.0895 - val_accuracy: 0.6389\n",
      "Epoch 9/10\n",
      "Epoch 9/10\n",
      "17/17 [==============================] - 0s 3ms/step - loss: 1.1812 - accuracy: 0.6190 - val_loss: 1.0238 - val_accuracy: 0.6389\n",
      "Epoch 10/10\n",
      "17/17 [==============================] - 0s 3ms/step - loss: 1.1812 - accuracy: 0.6190 - val_loss: 1.0238 - val_accuracy: 0.6389\n",
      "Epoch 10/10\n",
      "17/17 [==============================] - 0s 3ms/step - loss: 1.1258 - accuracy: 0.6171 - val_loss: 0.9707 - val_accuracy: 0.6389\n",
      "17/17 [==============================] - 0s 3ms/step - loss: 1.1258 - accuracy: 0.6171 - val_loss: 0.9707 - val_accuracy: 0.6389\n"
     ]
    },
    {
     "data": {
      "text/plain": [
       "<keras.callbacks.History at 0x7fd3003ca8e0>"
      ]
     },
     "execution_count": 27,
     "metadata": {},
     "output_type": "execute_result"
    },
    {
     "data": {
      "text/plain": [
       "<keras.callbacks.History at 0x7fd3003ca8e0>"
      ]
     },
     "execution_count": 27,
     "metadata": {},
     "output_type": "execute_result"
    }
   ],
   "source": [
    "# Train and submit model 2 using same preprocessor (note that you could save a new preprocessor, but we will use the same one for this example).\n",
    "import keras\n",
    "from keras.models import Sequential\n",
    "from keras.layers import Dense, Dropout, Activation\n",
    "\n",
    "model_2 = Sequential()\n",
    "model_2.add(Dense(128, input_dim=33, activation='relu'))\n",
    "model_2.add(Dropout(.3))\n",
    "model_2.add(Dense(64, activation='relu'))\n",
    "model_2.add(Dense(64, activation='relu'))\n",
    "model_2.add(Dropout(.3))\n",
    "model_2.add(Dense(64, activation='relu'))\n",
    "\n",
    "model_2.add(Dense(7, activation='softmax')) \n",
    "                                            \n",
    "# Compile model\n",
    "model_2.compile(loss='categorical_crossentropy', optimizer='sgd', metrics=['accuracy'])\n",
    "\n",
    "# Fitting the NN to the Training set\n",
    "model_2.fit(preprocessor(X_train), y_train, \n",
    "               epochs = 10, validation_split=0.25) "
   ]
  },
  {
   "cell_type": "code",
   "execution_count": null,
   "metadata": {
    "id": "aIdmSpYVPYAw"
   },
   "outputs": [],
   "source": [
    "# Save keras model to local ONNX file\n",
    "from aimodelshare.aimsonnx import model_to_onnx\n",
    "\n",
    "onnx_model = model_to_onnx(model_2, framework='keras',\n",
    "                          transfer_learning=False,\n",
    "                          deep_learning=True)\n",
    "\n",
    "with open(\"model2.onnx\", \"wb\") as f:\n",
    "    f.write(onnx_model.SerializeToString())"
   ]
  },
  {
   "cell_type": "code",
   "execution_count": null,
   "metadata": {
    "colab": {
     "base_uri": "https://localhost:8080/"
    },
    "id": "nszPPrfwPlUk",
    "outputId": "51769cf7-290b-44cf-a636-06f2d2435b0d"
   },
   "outputs": [],
   "source": [
    "#Submit Model 2: \n",
    "\n",
    "#-- Generate predicted y values (Model 2)\n",
    "#Note: Keras predict returns the predicted column index location for classification models\n",
    "prediction_column_index=model_2.predict(preprocessor(X_test)).argmax(axis=1)\n",
    "\n",
    "# extract correct prediction labels \n",
    "prediction_labels = [y_train.columns[i] for i in prediction_column_index]\n",
    "\n",
    "# Submit Model 2 to Competition Leaderboard\n",
    "mycompetition.submit_model(model_filepath = \"model2.onnx\",\n",
    "                                 prediction_submission=prediction_labels,\n",
    "                                 preprocessor_filepath=\"preprocessor.zip\")"
   ]
  },
  {
   "cell_type": "code",
   "execution_count": null,
   "metadata": {
    "colab": {
     "base_uri": "https://localhost:8080/",
     "height": 180
    },
    "id": "qLl7yLpVEx26",
    "outputId": "3bc1023b-e8b2-4be1-eec6-5ff510d63c96"
   },
   "outputs": [],
   "source": [
    "# Compare two or more models\n",
    "data=mycompetition.compare_models([5,6], verbose=1)\n",
    "mycompetition.stylize_compare(data)"
   ]
  },
  {
   "cell_type": "markdown",
   "metadata": {
    "id": "_ZbHiSrQdhyf"
   },
   "source": [
    "## Optional: Tune model within range of hyperparameters with Keras Tuner\n",
    "\n",
    "*Simple example shown below. Consult [documentation](https://keras.io/guides/keras_tuner/getting_started/) to see full functionality.*"
   ]
  },
  {
   "cell_type": "code",
   "execution_count": null,
   "metadata": {
    "id": "EHdEIS4jdoLd"
   },
   "outputs": [],
   "source": [
    "! pip install keras_tuner"
   ]
  },
  {
   "cell_type": "code",
   "execution_count": null,
   "metadata": {
    "id": "Ou4GME-jdskD"
   },
   "outputs": [],
   "source": [
    "#Separate validation data \n",
    "from sklearn.model_selection import train_test_split\n",
    "x_train_split, x_val, y_train_split, y_val = train_test_split(\n",
    "     X_train, y_train, test_size=0.2, random_state=42)"
   ]
  },
  {
   "cell_type": "code",
   "execution_count": null,
   "metadata": {
    "colab": {
     "base_uri": "https://localhost:8080/"
    },
    "id": "4jcPr9rpdy5f",
    "outputId": "99b13072-75ee-470b-a529-3159121a7051"
   },
   "outputs": [],
   "source": [
    "import keras\n",
    "from keras.models import Sequential\n",
    "from keras.layers import Dense, Activation, Dropout, BatchNormalization\n",
    "from keras.regularizers import l1, l2, l1_l2\n",
    "import keras_tuner as kt\n",
    "\n",
    "\n",
    "#Define model structure & parameter search space with function\n",
    "def build_model(hp):\n",
    "    model = keras.Sequential()\n",
    "    model.add(Dense(64, input_dim=33, activation='relu', kernel_regularizer=l2(0.01), bias_regularizer=l2(0.01)))\n",
    "    model.add(Dense(64, activation='relu', kernel_regularizer=l2(0.01), bias_regularizer=l2(0.01)))\n",
    "    model.add(Dense(units=hp.Int(\"units\", min_value=32, max_value=512, step=32), #range 32-512 inclusive, minimum step between tested values is 32\n",
    "                    activation='relu', kernel_regularizer=l2(0.01), bias_regularizer=l2(0.01)))\n",
    "    model.add(Dense(7, activation='softmax')) \n",
    "    model.compile(\n",
    "        optimizer=\"rmsprop\", loss=\"binary_crossentropy\", metrics=[\"accuracy\"],\n",
    "    )\n",
    "    return model\n",
    "\n",
    "#initialize the tuner (which will search through parameters)\n",
    "tuner = kt.RandomSearch(\n",
    "    hypermodel=build_model, \n",
    "    objective=\"val_accuracy\", # objective to optimize\n",
    "    max_trials=3, #max number of trials to run during search\n",
    "    executions_per_trial=3, #higher number reduces variance of results; guages model performance more accurately \n",
    "    overwrite=True,\n",
    "    directory=\"tuning_model\",\n",
    "    project_name=\"tuning_units\",\n",
    ")\n",
    "\n",
    "tuner.search(preprocessor(x_train_split), y_train_split, epochs=1, validation_data=(preprocessor(x_val), y_val))"
   ]
  },
  {
   "cell_type": "code",
   "execution_count": null,
   "metadata": {
    "colab": {
     "base_uri": "https://localhost:8080/"
    },
    "id": "MUXMMMDafF_d",
    "outputId": "bb5a7acf-6e58-4af1-fd8a-e37760237e1f"
   },
   "outputs": [],
   "source": [
    "# Build model with best hyperparameters\n",
    "\n",
    "# Get the top 2 hyperparameters.\n",
    "best_hps = tuner.get_best_hyperparameters(5)\n",
    "# Build the model with the best hp.\n",
    "tuned_model = build_model(best_hps[0])\n",
    "# Fit with the entire dataset.\n",
    "tuned_model.fit(x=preprocessor(X_train), y=y_train, epochs=5)"
   ]
  },
  {
   "cell_type": "code",
   "execution_count": null,
   "metadata": {
    "id": "HvLuIvOjHLH2"
   },
   "outputs": [],
   "source": [
    "# Save keras model to local ONNX file\n",
    "from aimodelshare.aimsonnx import model_to_onnx\n",
    "\n",
    "onnx_model = model_to_onnx(tuned_model, framework='keras',\n",
    "                          transfer_learning=False,\n",
    "                          deep_learning=True)\n",
    "\n",
    "with open(\"tuned_model.onnx\", \"wb\") as f:\n",
    "    f.write(onnx_model.SerializeToString())"
   ]
  },
  {
   "cell_type": "code",
   "execution_count": null,
   "metadata": {
    "colab": {
     "base_uri": "https://localhost:8080/"
    },
    "id": "sMidHABfHVN7",
    "outputId": "c034c96c-1ecb-4763-9f94-583241237e0f"
   },
   "outputs": [],
   "source": [
    "#Submit Model 3: \n",
    "\n",
    "#-- Generate predicted y values (Model 3)\n",
    "prediction_column_index=tuned_model.predict(preprocessor(X_test)).argmax(axis=1)\n",
    "\n",
    "# extract correct prediction labels \n",
    "prediction_labels = [y_train.columns[i] for i in prediction_column_index]\n",
    "\n",
    "# Submit to Competition Leaderboard\n",
    "mycompetition.submit_model(model_filepath = \"tuned_model.onnx\",\n",
    "                                 preprocessor_filepath=\"preprocessor.zip\",\n",
    "                                 prediction_submission=prediction_labels)"
   ]
  },
  {
   "cell_type": "code",
   "execution_count": null,
   "metadata": {
    "colab": {
     "base_uri": "https://localhost:8080/",
     "height": 239
    },
    "id": "hn-Tp-zpJVGT",
    "outputId": "0c045a7a-7202-4c50-b7f5-5fc2533da408"
   },
   "outputs": [],
   "source": [
    "# Get leaderboard\n",
    "\n",
    "data = mycompetition.get_leaderboard()\n",
    "mycompetition.stylize_leaderboard(data)"
   ]
  },
  {
   "cell_type": "code",
   "execution_count": null,
   "metadata": {
    "colab": {
     "base_uri": "https://localhost:8080/",
     "height": 180
    },
    "id": "MKvPKyb7hT0h",
    "outputId": "a21c8214-ff7d-4204-e843-1fc376843bb9"
   },
   "outputs": [],
   "source": [
    "# Compare two or more models\n",
    "data=mycompetition.compare_models([5, 6, 7], verbose=1)\n",
    "mycompetition.stylize_compare(data)"
   ]
  }
 ],
 "metadata": {
  "colab": {
   "collapsed_sections": [],
   "provenance": []
  },
  "kernelspec": {
   "display_name": "Python 3.9.12 ('base')",
   "language": "python",
   "name": "python3"
  },
  "language_info": {
   "codemirror_mode": {
    "name": "ipython",
    "version": 3
   },
   "file_extension": ".py",
   "mimetype": "text/x-python",
   "name": "python",
   "nbconvert_exporter": "python",
   "pygments_lexer": "ipython3",
   "version": "3.9.12"
  },
  "vscode": {
   "interpreter": {
    "hash": "d7288e82646d3164eca24130947288f8779d11454649f2c02a5dfc42af7f324c"
   }
  }
 },
 "nbformat": 4,
 "nbformat_minor": 1
}
