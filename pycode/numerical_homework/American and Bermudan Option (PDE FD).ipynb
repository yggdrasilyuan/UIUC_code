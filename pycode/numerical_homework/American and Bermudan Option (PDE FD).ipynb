{
 "cells": [
  {
   "cell_type": "code",
   "execution_count": 50,
   "metadata": {},
   "outputs": [],
   "source": [
    "import numpy as np\n",
    "import pandas as pd\n",
    "from scipy.stats import norm\n",
    "import scipy.interpolate as spi\n",
    "import scipy.sparse as sp\n",
    "import scipy.linalg as sla\n",
    "from scipy.sparse.linalg import inv\n",
    "from scipy.sparse.linalg import spsolve\n",
    "import matplotlib as mpl\n",
    "import matplotlib.pyplot as plt\n",
    "import matplotlib.ticker as ticker\n",
    "# import pandas as pd\n",
    "import math\n",
    "%matplotlib inline\n",
    "mpl.rcParams['font.sans-serif'] = ['Microsoft YaHei']\n",
    "mpl.rcParams['axes.unicode_minus'] = False\n",
    "\n",
    "np.random.seed(1031)\n",
    "dt_hex = '#2B4750'    # dark teal,  RGB = 43,71,80\n",
    "r_hex = '#DC2624'     # red,        RGB = 220,38,36\n",
    "g_hex = '#649E7D'     # green,      RGB = 100,158,125\n",
    "tl_hex = '#45A0A2'    # teal,       RGB = 69,160,162\n",
    "tn_hex = '#C89F91'    # tan,        RGB = 200,159,145"
   ]
  },
  {
   "attachments": {},
   "cell_type": "markdown",
   "metadata": {},
   "source": [
    "## <font color='blue' face='微软雅黑'>欧式期权回顾</font>\n",
    "\n",
    "在 **BS** 模型下，原生资产 (以股票价格为例) 的随机微分方程如下：\n",
    "\n",
    "<br/>\n",
    "<font color='blue'>\n",
    "\\begin{equation}\n",
    "\\frac{dS(t)}{S(t)} = (r-q)dt+\\sigma dW(t)\n",
    "\\end{equation}\n",
    "</font>\n",
    "    \n",
    "其中\n",
    "\n",
    "- $S(t)$ = 资产在时点 $t$ 的值\n",
    "- $r$ = 常数型瞬时利率\n",
    "- $q$ = 常数型瞬时红利率\n",
    "- $\\sigma$ = 常数型瞬时波动率\n",
    "- $W(t)$ = 布朗运动\n",
    "\n",
    "根据 **BS** 公式，欧式期权的解析解为\n",
    "\n",
    "<br/>\n",
    "<font color='blue'>\n",
    "\\begin{equation}\n",
    "\\begin{aligned}\n",
    "V = e^{-rT} \\cdot E\\left[ \\left[ \\omega\\left(S_T-K\\right)\\right]^+\\right]\n",
    "= \\omega\\cdot\\left[e^{-qT}S_0\\Phi(\\omega\\cdot d_+) - e^{-rT}K\\Phi(\\omega\\cdot d_{-})\\right] \n",
    "\\end{aligned}\n",
    "\\end{equation}\n",
    "</font>\n",
    "    \n",
    "其中\n",
    "\n",
    "<br/>\n",
    "<font color='blue'>\n",
    "\\begin{equation}\n",
    "d_{\\pm} = \\frac{1}{\\sigma\\sqrt{T}}\\ln\\left(\\frac{S_0e^{(r-q)T}}{K}\\right)\\pm\\frac{\\sigma\\sqrt{T}}{2}\n",
    "\\end{equation}\n",
    "</font>\n",
    "\n",
    "看涨期权对应 $\\omega = 1$，看跌期权对应 $\\omega = -1$。"
   ]
  },
  {
   "cell_type": "code",
   "execution_count": 51,
   "metadata": {},
   "outputs": [],
   "source": [
    "def blackscholes( S0=100, K=100, r=0.025, q=0.00, T=231 / 360, sigma=0.2, omega=1 ):\n",
    "    discount = np.exp(-r*T)\n",
    "    forward = S0*np.exp((r-q)*T)\n",
    "    moneyness = np.log(forward/K)\n",
    "    vol_sqrt_T = sigma*np.sqrt(T)\n",
    "    \n",
    "    d1 = moneyness / vol_sqrt_T + 0.5*vol_sqrt_T\n",
    "    d2 = d1 - vol_sqrt_T\n",
    "    \n",
    "    V = omega * discount * (forward*norm.cdf(omega*d1) - K*norm.cdf(omega*d2))\n",
    "    return V"
   ]
  },
  {
   "attachments": {},
   "cell_type": "markdown",
   "metadata": {},
   "source": [
    "考虑一个看跌期权，假设股价 S = 50，行权价格 K = 60，利率为 3%，红利率为 1%，期限为 1 年，波动率为 40%，它的特征如下表所示：\n",
    "\n",
    "| 属性      | 符号        |值 |\n",
    "|-----------|:------------:|:---:|\n",
    "| 股票价格 | $S$          |50 |\n",
    "| 行权价格 | $K$        |60 |\n",
    "| 连续利率  | $r$        |3% |\n",
    "| 连续红利率  | $q$        |1% |\n",
    "| 波动率  | $\\sigma$        |40% |\n",
    "| 到期年限  | $T$        |1 |\n",
    "\n",
    "带入写好的 `blackscholes` 函数来计算期权的价值。"
   ]
  },
  {
   "cell_type": "code",
   "execution_count": 52,
   "metadata": {},
   "outputs": [
    {
     "data": {
      "text/plain": [
       "5.569724706320075"
      ]
     },
     "execution_count": 52,
     "metadata": {},
     "output_type": "execute_result"
    }
   ],
   "source": [
    "(S0, K, r, q, T, sigma, omega) = (100, 100, 0.025, 0.00, 231 / 360, 0.2, -1)\n",
    "blackscholes(S0, K, r, q, T, sigma, omega)"
   ]
  },
  {
   "attachments": {},
   "cell_type": "markdown",
   "metadata": {},
   "source": [
    "### <font color='black' face='微软雅黑'>有限差分</font>"
   ]
  },
  {
   "cell_type": "code",
   "execution_count": 53,
   "metadata": {},
   "outputs": [],
   "source": [
    "(S, K, r, q, T, sigma, option_type) = (100, 100, 0.025, 0.00, 231 / 360, 0.2, 'put')\n",
    "(Smin, Smax, Ns, Nt) = (0, 4*np.maximum(S,K), 200, 200)"
   ]
  },
  {
   "cell_type": "code",
   "execution_count": 54,
   "metadata": {},
   "outputs": [],
   "source": [
    "class OptionPricingMethod():\n",
    "    \n",
    "    def __init__(self, S, K, r, q, T, sigma, option_type):\n",
    "        self.S = S\n",
    "        self.K = K\n",
    "        self.r = r\n",
    "        self.q = q\n",
    "        self.T = T\n",
    "        self.sigma = sigma\n",
    "        self.option_type = option_type\n",
    "        self.is_call = (option_type[0].lower()=='c')\n",
    "        self.omega = 1 if self.is_call else -1"
   ]
  },
  {
   "cell_type": "code",
   "execution_count": 55,
   "metadata": {},
   "outputs": [],
   "source": [
    "class FiniteDifference(OptionPricingMethod):\n",
    "    \n",
    "    def __init__(self, S, K, r, q, T, sigma, option_type, Smin, Smax, Ns, Nt):\n",
    "        super().__init__(S, K, r, q, T, sigma, option_type)\n",
    "        self.Smin = Smin\n",
    "        self.Smax = Smax\n",
    "        self.Ns = int(Ns)\n",
    "        self.Nt = int(Nt)\n",
    "        self.dS = (Smax-Smin)/Ns * 1.0\n",
    "        self.dt = T/Nt*1.0\n",
    "        self.Svec = np.linspace(Smin, Smax, self.Ns+1)\n",
    "        self.Tvec = np.linspace(0, T, self.Nt+1)\n",
    "        self.grid = np.zeros(shape=(self.Ns+1, self.Nt+1))\n",
    "        \n",
    "    def _set_terminal_condition_(self):\n",
    "        self.grid[:, -1] = np.maximum(self.omega*(self.Svec - self.K), 0)\n",
    "    \n",
    "    def _set_boundary_condition_(self):\n",
    "        tau = self.Tvec[-1] - self.Tvec;     \n",
    "        DFq = np.exp(-q*tau)\n",
    "        DFr = np.exp(-r*tau)\n",
    "\n",
    "        self.grid[0,  :] = np.maximum(self.omega*(self.Svec[0]*DFq - self.K*DFr), 0)\n",
    "        self.grid[-1, :] = np.maximum(self.omega*(self.Svec[-1]*DFq - self.K*DFr), 0)        \n",
    "        \n",
    "    def _set_coefficient__(self):\n",
    "        drift = (self.r-self.q)*self.Svec[1:-1]/self.dS\n",
    "        diffusion_square = (self.sigma*self.Svec[1:-1]/self.dS)**2\n",
    "        \n",
    "        self.l = 0.5*(diffusion_square - drift)\n",
    "        self.c = -diffusion_square - self.r\n",
    "        self.u = 0.5*(diffusion_square + drift)\n",
    "        \n",
    "    def _solve_(self):\n",
    "        pass\n",
    "    \n",
    "    def _interpolate_(self):\n",
    "        tck = spi.splrep( self.Svec, self.grid[:,0], k=3 )\n",
    "        return spi.splev( self.S, tck )\n",
    "        #return np.interp(self.S, self.Svec, self.grid[:,0])\n",
    "    \n",
    "    def price(self):\n",
    "        self._set_terminal_condition_()\n",
    "        self._set_boundary_condition_()\n",
    "        self._set_coefficient__()\n",
    "        self._set_matrix_()\n",
    "        self._solve_()\n",
    "        return self._interpolate_()"
   ]
  },
  {
   "attachments": {},
   "cell_type": "markdown",
   "metadata": {},
   "source": [
    "### <font color='black' face='微软雅黑'>克兰克尼克尔森法 </font>"
   ]
  },
  {
   "cell_type": "code",
   "execution_count": 56,
   "metadata": {},
   "outputs": [],
   "source": [
    "class CrankNicolsonEu(FiniteDifference):\n",
    "\n",
    "    theta = 0.5\n",
    "    \n",
    "    def _set_matrix_(self):\n",
    "        self.A = sp.diags([self.l[1:], self.c, self.u[:-1]], [-1, 0, 1],  format='csc')\n",
    "        self.I = sp.eye(self.Ns-1)\n",
    "        self.M1 = self.I + (1-self.theta)*self.dt*self.A\n",
    "        self.M2 = self.I - self.theta*self.dt*self.A\n",
    "    \n",
    "    def _solve_(self):           \n",
    "        _, M_lower, M_upper = sla.lu(self.M2.toarray())        \n",
    "        for j in reversed(np.arange(self.Nt)):\n",
    "            \n",
    "            U = self.M1.dot(self.grid[1:-1, j+1])\n",
    "            \n",
    "            U[0] += self.theta*self.l[0]*self.dt*self.grid[0, j] \\\n",
    "                 + (1-self.theta)*self.l[0]*self.dt*self.grid[0, j+1] \n",
    "            U[-1] += self.theta*self.u[-1]*self.dt*self.grid[-1, j] \\\n",
    "                  + (1-self.theta)*self.u[-1]*self.dt*self.grid[-1, j+1] \n",
    "            \n",
    "            Ux = sla.solve_triangular( M_lower, U, lower=True )\n",
    "            self.grid[1:-1, j] = sla.solve_triangular( M_upper, Ux, lower=False )"
   ]
  },
  {
   "cell_type": "code",
   "execution_count": 57,
   "metadata": {},
   "outputs": [
    {
     "name": "stdout",
     "output_type": "stream",
     "text": [
      "5.557399371378562\n"
     ]
    }
   ],
   "source": [
    "# (theta, alpha, epsilon) = (0.5, 1.5, 1e-6)\n",
    "euro_opt = CrankNicolsonEu(S, K, r, q, T, sigma, option_type, Smin, Smax, Ns, Nt)\n",
    "print(euro_opt.price())"
   ]
  },
  {
   "attachments": {},
   "cell_type": "markdown",
   "metadata": {},
   "source": [
    "## <font color='blue' face='微软雅黑'>美式期权</font>\n",
    "### <font color='black' face='微软雅黑'>迭代法</font>"
   ]
  },
  {
   "cell_type": "code",
   "execution_count": 58,
   "metadata": {},
   "outputs": [],
   "source": [
    "class SOR(FiniteDifference):\n",
    "\n",
    "    def __init__(self, S, K, r, q, T, sigma, option_type, Smin, Smax, Ns, Nt, theta, alpha, epsilon):\n",
    "        super().__init__(S, K, r, q, T, sigma, option_type, Smin, Smax, Ns, Nt)\n",
    "        self.theta = theta\n",
    "        self.alpha = alpha\n",
    "        self.epsilon = epsilon\n",
    "        self.max_iter = 10*Nt\n",
    "    \n",
    "    def _set_matrix_(self):\n",
    "        self.A = sp.diags([self.l[1:], self.c, self.u[:-1]], [-1, 0, 1],  format='csc')\n",
    "        self.I = sp.eye(self.Ns-1)\n",
    "        self.M1 = self.I + (1-self.theta)*self.dt*self.A\n",
    "    \n",
    "    def _solve_(self):           \n",
    "        w = self.alpha\n",
    "        thedt = self.theta * self.dt\n",
    "        payoff = self.grid[1:-1, -1]\n",
    "        m = len(payoff)\n",
    "        pastval = payoff.copy()\n",
    "        \n",
    "        for j in reversed(np.arange(self.Nt)):\n",
    "            counter = 0\n",
    "            noBreak = 1\n",
    "            newval = pastval.copy()\n",
    "            \n",
    "            z = self.M1.dot(pastval)\n",
    "            \n",
    "            z[0] += self.theta*self.l[0]*self.dt*self.grid[0, j] \\\n",
    "                 + (1-self.theta)*self.l[0]*self.dt*self.grid[0, j+1] \n",
    "            z[-1] += self.theta*self.u[-1]*self.dt*self.grid[-1, j] \\\n",
    "                  + (1-self.theta)*self.u[-1]*self.dt*self.grid[-1, j+1] \n",
    "            \n",
    "            while noBreak:\n",
    "                counter += 1\n",
    "                oldval = newval.copy()\n",
    "                newval[0] = np.maximum( payoff[0], oldval[0] + w/(1-thedt*self.c[0]) \\\n",
    "                                       *( z[0] - (1-thedt*self.c[0])*oldval[0] \\\n",
    "                                         + thedt*self.u[0]*oldval[1]) )\n",
    "                for k in np.arange(1,m-1):\n",
    "                    newval[k] = np.maximum( payoff[k], oldval[k] + w/(1-thedt*self.c[k]) \\\n",
    "                                           *( z[k] + thedt*self.l[k]*newval[k-1] \\\n",
    "                                             - (1-thedt*self.c[k])*oldval[k] \\\n",
    "                                             + thedt*self.u[k]*oldval[k+1]) )\n",
    "        \n",
    "                newval[m-1] = np.maximum( payoff[m-1], oldval[m-1] + w/(1-thedt*self.c[m-1]) \\\n",
    "                                         *( z[m-1] + thedt*self.l[m-1]*newval[m-2] \\\n",
    "                                           - (1-thedt*self.c[m-1])*oldval[m-1]) )\n",
    "        \n",
    "                noBreak = SOR.trigger( oldval, newval, self.epsilon, counter, self.max_iter )\n",
    "                \n",
    "            pastval = newval.copy()\n",
    "            self.grid[1:-1, j] = pastval\n",
    "      \n",
    "    @staticmethod\n",
    "    def trigger( oldval, newval, tol, counter, maxIteration ):\n",
    "        noBreak = 1\n",
    "        if np.max( np.abs(newval-oldval)/np.maximum(1,np.abs(newval)) ) <= tol:\n",
    "            noBreak = 0\n",
    "        elif counter > maxIteration:\n",
    "            print('结果可能不收敛。')\n",
    "            noBreak = 0\n",
    "        return noBreak"
   ]
  },
  {
   "cell_type": "code",
   "execution_count": 59,
   "metadata": {
    "tags": []
   },
   "outputs": [
    {
     "name": "stdout",
     "output_type": "stream",
     "text": [
      "5.692073676500009\n"
     ]
    }
   ],
   "source": [
    "(theta, alpha, epsilon) = (0.5, 1.5, 1e-6)\n",
    "amer_opt = SOR(S, K, r, q, T, sigma, option_type, Smin, Smax, Ns, Nt, theta, alpha, epsilon)\n",
    "print(amer_opt.price())"
   ]
  },
  {
   "attachments": {},
   "cell_type": "markdown",
   "metadata": {},
   "source": [
    "### <font color='black' face='微软雅黑'>惩罚法</font>"
   ]
  },
  {
   "cell_type": "code",
   "execution_count": 60,
   "metadata": {},
   "outputs": [],
   "source": [
    "class PM(FiniteDifference):\n",
    "\n",
    "    def __init__(self, S, K, r, q, T, sigma, option_type, Smin, Smax, Ns, Nt, theta, lbd, epsilon):\n",
    "        super().__init__(S, K, r, q, T, sigma, option_type, Smin, Smax, Ns, Nt)\n",
    "        self.theta = theta\n",
    "        self.lbd = lbd\n",
    "        self.epsilon = epsilon\n",
    "        self.max_iter = 10*Nt\n",
    "    \n",
    "    def _set_matrix_(self):\n",
    "        self.A = sp.diags([self.l[1:], self.c, self.u[:-1]], [-1, 0, 1], format='csc')\n",
    "        self.I = sp.eye(self.Ns-1)\n",
    "    \n",
    "    def _solve_(self):           \n",
    "        (theta, dt) = (self.theta, self.dt)\n",
    "        payoff = self.grid[1:-1, -1]\n",
    "        pastval = payoff.copy()\n",
    "        G = payoff.copy()\n",
    "        \n",
    "        for j in reversed(np.arange(self.Nt)):\n",
    "            counter = 0\n",
    "            noBreak = 1\n",
    "            newval = pastval.copy()\n",
    "            \n",
    "            while noBreak:\n",
    "                counter += 1\n",
    "                oldval = newval.copy()\n",
    "                D = sp.diags( (G > (1-theta)*pastval + theta*newval).astype(int), format='csc' )\n",
    "                z = (self.I + (1-theta)*dt*(self.A - self.lbd*D))*pastval + dt*self.lbd*D*G\n",
    "                \n",
    "                z[0] += theta*self.l[0]*dt*self.grid[0, j] \\\n",
    "                 + (1-theta)*self.l[0]*dt*self.grid[0, j+1] \n",
    "                z[-1] += theta*self.u[-1]*dt*self.grid[-1, j] \\\n",
    "                  + (1-theta)*self.u[-1]*dt*self.grid[-1, j+1] \n",
    "                                \n",
    "                M = self.I - theta*dt*(self.A - self.lbd*D)\n",
    "                newval = spsolve(M,z)\n",
    "        \n",
    "                noBreak = PM.trigger( oldval, newval, self.epsilon, counter, self.max_iter )\n",
    "            \n",
    "            pastval = newval.copy()\n",
    "            self.grid[1:-1, j] = pastval\n",
    "    \n",
    "    @staticmethod\n",
    "    def trigger( oldval, newval, tol, counter, maxIteration ):\n",
    "        noBreak = 1\n",
    "        if np.max( np.abs(newval-oldval)/np.maximum(1,np.abs(newval)) ) <= tol:\n",
    "            noBreak = 0\n",
    "        elif counter > maxIteration:\n",
    "            print('结果可能不收敛。')\n",
    "            noBreak = 0\n",
    "        return noBreak"
   ]
  },
  {
   "cell_type": "code",
   "execution_count": 61,
   "metadata": {
    "tags": []
   },
   "outputs": [
    {
     "name": "stdout",
     "output_type": "stream",
     "text": [
      "5.6920618221348676\n"
     ]
    }
   ],
   "source": [
    "(theta, lbd, epsilon) = (0.5, 1e6, 1e-6)\n",
    "amer_opt = PM(S, K, r, q, T, sigma, option_type, Smin, Smax, Ns, Nt, theta, lbd, epsilon)\n",
    "print(amer_opt.price())"
   ]
  },
  {
   "cell_type": "code",
   "execution_count": 65,
   "metadata": {},
   "outputs": [
    {
     "data": {
      "text/plain": [
       "5.703702593211633"
      ]
     },
     "execution_count": 65,
     "metadata": {},
     "output_type": "execute_result"
    }
   ],
   "source": [
    "class american_trinominal_model:\n",
    "\n",
    "    def __init__(self,S=1,T=60,K=1,r=0,q=0,sigma=.1, call = True):\n",
    "        self.S = S\n",
    "        self.T = T\n",
    "        self.K = K\n",
    "        self.r = r\n",
    "        self.q = q\n",
    "        self.sigma = sigma\n",
    "        self.call  = call\n",
    "\n",
    "\n",
    "    def price(self):\n",
    "        dt = 1./360\n",
    "        #number of timesteps\n",
    "        N = int(self.T/dt)\n",
    "        #mu is r-q - (sigma^2)/2\n",
    "        mu = self.r-self.q-(self.sigma**2)/2.0\n",
    "        #set sigma max for stability requirements\n",
    "        smax = 2 * abs(mu) * dt**.5\n",
    "        smax = max(smax, self.sigma * (2**.5))\n",
    "        if smax ==0:\n",
    "            return -9999\n",
    "        #set up arrays to keep track of steps\n",
    "        #dimension M\n",
    "        M = int(5 * (N**.5))\n",
    "        C_ = np.empty(2*M+1, dtype=np.float64)\n",
    "        pC_ = np.empty(2*M+1, dtype=np.float64)\n",
    "        S_ = np.empty(2*M+1, dtype=np.float64,)\n",
    "        #set probs up, down, and same\n",
    "        p = float(0.5 * (self.sigma**2) )/ (smax **2)\n",
    "        p_u = p + 0.5 * mu * dt**.5 / float(smax)\n",
    "        p_m = 1 - 2 * p\n",
    "        p_d = p - 0.5 * mu * dt**.5 / float(smax)\n",
    "        #init payoff\n",
    "        D = 1.0 / (1 + self.r * dt)\n",
    "        E = math.exp(smax * dt**.5)\n",
    "        \n",
    "        for j in range(0,len(S_)):\n",
    "            if j ==0:\n",
    "                S_[j] = self.S * math.exp(-M * smax * dt**.5)\n",
    "            else:\n",
    "                S_[j] = S_[j - 1] * E\n",
    "            if self.call ==True:\n",
    "                C_[j] = max(S_[j] - self.K, 0)\n",
    "            else:\n",
    "                C_[j] = max(self.K-S_[j], 0)\n",
    "\n",
    "        for k in range(0,N):\n",
    "            for j in range(1,2 * M):\n",
    "                pC_[j] = (p_u * C_[j + 1] + p_m * C_[j] + p_d * C_[j - 1])*D\n",
    "            #set boundaries\n",
    "            pC_[0] = 2 * pC_[1] - pC_[2]\n",
    "            pC_[2 * M] = 2 * pC_[2 * M -1] - pC_[2 * M - 2]\n",
    "            \n",
    "            for n in range(0,2 * M+1):\n",
    "                if self.call ==True:\n",
    "                    C_[n] = max(pC_[n],max(S_[n]-self.K,0))\n",
    "                else:\n",
    "                    C_[n] = max(pC_[n],max(self.K-S_[n],0))\n",
    "        ret = C_[M]\n",
    "        return ret\n",
    "\n",
    "american_trinominal_model(S=S, K=K, r=r, q=q, T=T, sigma=sigma, call=False).price()"
   ]
  },
  {
   "cell_type": "code",
   "execution_count": 63,
   "metadata": {},
   "outputs": [
    {
     "name": "stdout",
     "output_type": "stream",
     "text": [
      "Monte Carlo European Put price: 5.667516673741924\n"
     ]
    }
   ],
   "source": [
    "\n",
    "\n",
    "def monte_carlo_european_put(S0, K, r, sigma, T, num_simulations):\n",
    "    np.random.seed(42)  # For reproducibility\n",
    "    num_timesteps = 10\n",
    "    dt = T / num_timesteps\n",
    "\n",
    "    total_payoff = 0\n",
    "    for i in range(num_simulations):\n",
    "        S = S0\n",
    "        for j in range(num_timesteps):\n",
    "            z = np.random.standard_normal()\n",
    "            S *= np.exp((r - 0.5 * sigma**2) * dt + sigma * np.sqrt(dt) * z)\n",
    "\n",
    "        total_payoff += max(K - S, 0)\n",
    "\n",
    "    price = np.exp(-r * T) * total_payoff / num_simulations\n",
    "    return price\n",
    "\n",
    "# Parameters from part (a)\n",
    "S0 = 100\n",
    "K = 100\n",
    "r = 0.025\n",
    "sigma = 0.20\n",
    "\n",
    "\n",
    "num_simulations = 10000\n",
    "monte_carlo_price = monte_carlo_european_put(S0, K, r, sigma, T, num_simulations)\n",
    "\n",
    "print(f\"Monte Carlo European Put price: {monte_carlo_price}\")"
   ]
  }
 ],
 "metadata": {
  "kernelspec": {
   "display_name": "Python 3",
   "language": "python",
   "name": "python3"
  },
  "language_info": {
   "codemirror_mode": {
    "name": "ipython",
    "version": 3
   },
   "file_extension": ".py",
   "mimetype": "text/x-python",
   "name": "python",
   "nbconvert_exporter": "python",
   "pygments_lexer": "ipython3",
   "version": "3.7.9"
  }
 },
 "nbformat": 4,
 "nbformat_minor": 2
}
