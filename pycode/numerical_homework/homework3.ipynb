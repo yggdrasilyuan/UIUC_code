{
 "cells": [
  {
   "cell_type": "code",
   "execution_count": 79,
   "metadata": {},
   "outputs": [],
   "source": [
    "import numpy as np \n",
    "import pandas as pd\n",
    "import math\n",
    "\n",
    "# t=experiation time, p= ATM strike_price 4154.52\n",
    "# p_c=call price, p_p=put price\n",
    "# r=Risk-free interest rate to expiration\n",
    "rf=0.016\n",
    "time=30\n",
    "T=time/365\n",
    "strike_price=4154.52\n",
    "def calculate_F(t,p,p_c,p_p,r):\n",
    "    T=t/365\n",
    "    F=p+math.exp(r*T)*(p_c-p_p)\n",
    "    return F"
   ]
  },
  {
   "cell_type": "code",
   "execution_count": 22,
   "metadata": {},
   "outputs": [
    {
     "name": "stdout",
     "output_type": "stream",
     "text": [
      "72.4 /n 63.125\n"
     ]
    },
    {
     "data": {
      "text/plain": [
       "4163.807205283908"
      ]
     },
     "execution_count": 22,
     "metadata": {},
     "output_type": "execute_result"
    }
   ],
   "source": [
    "data_type={'Strike':np.float64,\"Midpoint\":np.float64}\n",
    "call=pd.read_csv(\"D://stock_data/call_option.csv\",dtype=data_type)\n",
    "put=pd.read_csv(\"D://stock_data/put_option.csv\",dtype=data_type)\n",
    "p_call=call[\"Midpoint\"].median()\n",
    "p_put=put[\"Midpoint\"].median()\n",
    "print(p_call,\"/n\",p_put)\n",
    "\n",
    "forward_p=calculate_F(time,strike_price,p_call,p_put,rf)\n",
    "forward_p"
   ]
  },
  {
   "cell_type": "code",
   "execution_count": 85,
   "metadata": {},
   "outputs": [],
   "source": [
    "K0=call[call[\"Strike\"]<=forward_p][\"Strike\"].tail(1).values\n",
    "kic=call[call[\"Strike\"]>=forward_p][[\"Strike\",\"Midpoint\"]]\n",
    "kip=put[put[\"Strike\"]<forward_p][[\"Strike\",\"Midpoint\"]]\n",
    "c=call[[\"Strike\",\"Midpoint\"]]\n",
    "p=put[[\"Strike\",\"Midpoint\"]]\n",
    "ki=pd.concat([kip,kic],axis=0)\n",
    "deltaki=ki[\"Strike\"].to_numpy()\n",
    "lenth=len(deltaki)\n",
    "delki=np.zeros(lenth)\n",
    "for i in range(1,lenth-1):\n",
    "    delki[i]=(deltaki[i+1]-deltaki[i-1])/2\n",
    "delki[0]=deltaki[1]-deltaki[0]\n",
    "delki[lenth-1]=deltaki[lenth-1]-deltaki[lenth-2]\n",
    "delki\n",
    "# ki\n",
    "ki2=deltaki*deltaki\n",
    "qki=(c[\"Midpoint\"]+p[\"Midpoint\"])/2\n",
    "qki=qki.to_numpy()"
   ]
  },
  {
   "cell_type": "code",
   "execution_count": 93,
   "metadata": {},
   "outputs": [],
   "source": [
    "\n",
    "def sum_ki(delki,ki2,r,T,qki):\n",
    "    temp=0\n",
    "    for i in range(len(delki)):\n",
    "        temp+=delki[i]/ki2[i]*np.exp(r*T)*qki[i]\n",
    "    \n",
    "    return temp"
   ]
  },
  {
   "cell_type": "code",
   "execution_count": 96,
   "metadata": {},
   "outputs": [
    {
     "data": {
      "text/plain": [
       "array([0.00971582])"
      ]
     },
     "execution_count": 96,
     "metadata": {},
     "output_type": "execute_result"
    }
   ],
   "source": [
    "sumi=sum_ki(delki,ki2,rf,T,qki)\n",
    "theta=2/T*sumi-(1/T)*(forward_p/K0-1)**2\n",
    "theta"
   ]
  }
 ],
 "metadata": {
  "kernelspec": {
   "display_name": "practicum",
   "language": "python",
   "name": "python3"
  },
  "language_info": {
   "codemirror_mode": {
    "name": "ipython",
    "version": 3
   },
   "file_extension": ".py",
   "mimetype": "text/x-python",
   "name": "python",
   "nbconvert_exporter": "python",
   "pygments_lexer": "ipython3",
   "version": "3.7.9"
  },
  "orig_nbformat": 4
 },
 "nbformat": 4,
 "nbformat_minor": 2
}
