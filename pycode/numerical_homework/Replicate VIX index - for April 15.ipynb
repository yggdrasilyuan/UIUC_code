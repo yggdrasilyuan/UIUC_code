{
 "cells": [
  {
   "cell_type": "code",
   "execution_count": 85,
   "id": "6b53b467",
   "metadata": {},
   "outputs": [],
   "source": [
    "#imports\n",
    "import matplotlib.pyplot as plt\n",
    "import numpy as np\n",
    "import pandas as pd\n",
    "from scipy.interpolate import CubicSpline, interp1d\n",
    "import requests\n",
    "import xml.etree.ElementTree as ET\n",
    "import datetime\n",
    "import math\n",
    "import re\n",
    "import requests\n",
    "import xml.etree.ElementTree as ET\n",
    "\n",
    "from scipy import interpolate"
   ]
  },
  {
   "cell_type": "markdown",
   "id": "0b79c2bc",
   "metadata": {},
   "source": [
    "# Time to maturity: calculated by dividing the number of minutes until expiration of the selected options (rounded down to the nearest minute) by the number of minutes in a year."
   ]
  },
  {
   "cell_type": "code",
   "execution_count": 86,
   "id": "ed27ed41",
   "metadata": {},
   "outputs": [],
   "source": [
    "def time_to_expiration(term = True):\n",
    "    \"\"\"\n",
    "    Calculates the time to expiration.\n",
    "    :param <term>: boolean ; True == \"Near-term\", False == \"Next-term\"\n",
    "    \"\"\"\n",
    "    #current time + tomorrow\n",
    "    now = datetime.datetime(2023, 4, 15, 22, 55, 8, 925690)\n",
    "    day = datetime.date(2023, 4, 15)\n",
    "    tomorrow = datetime.datetime(now.year, now.month, now.day) + datetime.timedelta(1)\n",
    "    \n",
    "    #near- or next-term\n",
    "    if term == True:\n",
    "        val = 0\n",
    "    else:\n",
    "        val = 7\n",
    "    \n",
    "    #calculation of minutes remaining until midnight of the current day\n",
    "    minutes_to_midnight_today = int(round(abs(tomorrow - now).seconds / 60,0))\n",
    "    \n",
    "    #calculation of total minutes in the days between current day and expiration day\n",
    "    for index in range(24,38):\n",
    "        day = datetime.datetime(now.year, now.month, now.day) + datetime.timedelta(index)   #加了日期后对应的时间\n",
    "        if day.weekday() == 4:      #Friday expire\n",
    "            days_to_expiration = index + val - 1\n",
    "            if 15 <= day.day <= 21:  # For standard SPX options expire on 8:30am, the 3rd Friday must fall in (15,21)\n",
    "                minutes_to_settlement = 510\n",
    "            else:\n",
    "                minutes_to_settlement = 900\n",
    "            break\n",
    "    \n",
    "    return (minutes_to_midnight_today + minutes_to_settlement + (days_to_expiration) * 24 * 60)/525600"
   ]
  },
  {
   "cell_type": "code",
   "execution_count": 87,
   "id": "659e93d7",
   "metadata": {},
   "outputs": [
    {
     "data": {
      "text/plain": [
       "(0.07306887366818873, 0.09224695585996956)"
      ]
     },
     "execution_count": 87,
     "metadata": {},
     "output_type": "execute_result"
    }
   ],
   "source": [
    "(time_to_expiration(True), time_to_expiration(False))"
   ]
  },
  {
   "cell_type": "markdown",
   "id": "0024e208",
   "metadata": {},
   "source": [
    "# YTM"
   ]
  },
  {
   "cell_type": "code",
   "execution_count": 88,
   "id": "78259b04",
   "metadata": {},
   "outputs": [],
   "source": [
    "# How to apply the boundary?\n",
    "def natural_cubic_spline(time_to_maturity):\n",
    "    x = [30, 60, 91, 182, 365, 730, 1095, 1825, 2555, 3650, 7300, 10950]\n",
    "    for i in range(12):\n",
    "        x[i] = x[i] * 24 * 60\n",
    "    y = [4.53, 4.89, 5.08, 4.98, 4.65, 4, 3.75, 3.52, 3.47, 3.41, 3.74, 3.62]\n",
    "\n",
    "    # apply natural cubic spline interpolation\n",
    "    ns = CubicSpline(x, y, bc_type='natural', extrapolate=True)\n",
    "    \n",
    "    return ns(time_to_maturity)"
   ]
  },
  {
   "cell_type": "code",
   "execution_count": 89,
   "id": "97d4a586",
   "metadata": {},
   "outputs": [],
   "source": [
    "dates = [time_to_expiration(True),time_to_expiration(False)]\n",
    "\n",
    "estimated_risk_free_rate = []\n",
    "\n",
    "for element in dates:\n",
    "    estimated_risk_free_rate.append(float(natural_cubic_spline(element*525600))*0.01)"
   ]
  },
  {
   "cell_type": "code",
   "execution_count": 90,
   "id": "2c4541ce",
   "metadata": {},
   "outputs": [
    {
     "data": {
      "text/plain": [
       "[0.04485933953514087, 0.04578557014212466]"
      ]
     },
     "execution_count": 90,
     "metadata": {},
     "output_type": "execute_result"
    }
   ],
   "source": [
    "estimated_risk_free_rate"
   ]
  },
  {
   "cell_type": "markdown",
   "id": "8d1e2617",
   "metadata": {},
   "source": [
    "# Determine F"
   ]
  },
  {
   "cell_type": "markdown",
   "id": "6a384d52",
   "metadata": {},
   "source": [
    "Determine the option-implied forward price level, 𝐹, by identifying the options strike price at which the absolute difference between the call price and the put price is smallest. If there are multiple put-call pairs with the same minimum absolute difference value, select the lowest strike price of these pairs. "
   ]
  },
  {
   "cell_type": "code",
   "execution_count": 91,
   "id": "a02c8d14",
   "metadata": {},
   "outputs": [],
   "source": [
    "def day_of_expiration():\n",
    "    \"\"\"\n",
    "    Determines the date of near-term and next-term settlement Fridays.\n",
    "    No arguments.\n",
    "    \"\"\"\n",
    "    now = datetime.datetime(2023, 4, 15, 22, 55, 8, 925690)\n",
    "    \n",
    "    for index in range(24,38):\n",
    "        day = datetime.datetime(now.year, now.month, now.day) + datetime.timedelta(index)\n",
    "        if day.weekday() == 4:\n",
    "            near_term = datetime.datetime(now.year, now.month, now.day) + datetime.timedelta(index)\n",
    "            next_term = datetime.datetime(now.year, now.month, now.day) + datetime.timedelta(index+7)\n",
    "            break\n",
    "    \n",
    "    return [near_term, next_term]   "
   ]
  },
  {
   "cell_type": "code",
   "execution_count": 92,
   "id": "11f4ee94",
   "metadata": {},
   "outputs": [
    {
     "data": {
      "text/plain": [
       "[datetime.datetime(2023, 5, 12, 0, 0), datetime.datetime(2023, 5, 19, 0, 0)]"
      ]
     },
     "execution_count": 92,
     "metadata": {},
     "output_type": "execute_result"
    }
   ],
   "source": [
    "day_of_expiration()"
   ]
  },
  {
   "cell_type": "code",
   "execution_count": 93,
   "id": "d81cffc3",
   "metadata": {},
   "outputs": [],
   "source": [
    "near_term_option_data = pd.read_csv('C:/Users/SIPENG LI/Downloads/$spx-options-exp-2023-05-12-weekly-show-all-stacked-04-21-2023.csv')\n",
    "next_term_option_data = pd.read_csv('C:/Users/SIPENG LI/Downloads/$spx-options-exp-2023-05-19-weekly-show-all-stacked-04-21-2023.csv')"
   ]
  },
  {
   "cell_type": "code",
   "execution_count": 94,
   "id": "5a00bb31",
   "metadata": {},
   "outputs": [],
   "source": [
    "near_term_option_data['Strike'] = np.int64(np.float64(near_term_option_data['Strike']))\n",
    "next_term_option_data['Strike'] = np.int64(np.float64(next_term_option_data['Strike']))\n",
    "near_term_option_data['Last'] = np.float64(near_term_option_data['Last'])\n",
    "next_term_option_data['Last'] = np.float64(next_term_option_data['Last'])"
   ]
  },
  {
   "cell_type": "code",
   "execution_count": 213,
   "id": "0010f234",
   "metadata": {},
   "outputs": [],
   "source": [
    "near_data_call = near_term_option_data[near_term_option_data['IV'] == 'Call']\n",
    "near_data_put = near_term_option_data[near_term_option_data['IV'] == 'Put']\n",
    "next_data_call = next_term_option_data[next_term_option_data['IV'] == 'Call']\n",
    "next_data_put = next_term_option_data[next_term_option_data['IV'] == 'Put']\n",
    "\n",
    "#data_dic = {'near_data_call': near_data_call, 'near_data_put': near_data_put, \n",
    "#           'next_data_call': next_data_call, 'next_data_put': next_data_put}"
   ]
  },
  {
   "cell_type": "markdown",
   "id": "4e1fe57f",
   "metadata": {},
   "source": [
    "At-the-money option list"
   ]
  },
  {
   "cell_type": "code",
   "execution_count": 178,
   "id": "ea8045a9",
   "metadata": {},
   "outputs": [],
   "source": [
    "def at_the_money_option_list(data_call, data_put):\n",
    "    option_list_row_index = []\n",
    "    for i in range(data_call.shape[0]):\n",
    "        if ((data_call.iloc[i, 2] != 0)&(data_call.iloc[i, 4] != 0)&(data_put.iloc[i, 2] != 0)&(data_put.iloc[i, 4] != 0)&(data_call.iloc[i, 2] <= data_call.iloc[i, 4])&(data_put.iloc[i, 2] <= data_put.iloc[i, 4])):\n",
    "            option_list_row_index.append(i)\n",
    "    \n",
    "    return option_list_row_index"
   ]
  },
  {
   "cell_type": "code",
   "execution_count": 179,
   "id": "8dd897dc",
   "metadata": {},
   "outputs": [],
   "source": [
    "ATM_near_data_call = near_data_call.iloc[at_the_money_option_list(near_data_call, near_data_put),:].reset_index(drop=True)\n",
    "ATM_near_data_put = near_data_put.iloc[at_the_money_option_list(near_data_call, near_data_put),:].reset_index(drop=True)\n",
    "ATM_next_data_call = next_data_call.iloc[at_the_money_option_list(next_data_call, next_data_put),:].reset_index(drop=True)\n",
    "ATM_next_data_put = next_data_put.iloc[at_the_money_option_list(next_data_call, next_data_put),:].reset_index(drop=True)"
   ]
  },
  {
   "cell_type": "code",
   "execution_count": 182,
   "id": "8bcf348a",
   "metadata": {},
   "outputs": [],
   "source": [
    "# Find strike price and value difference for F\n",
    "# Series with null quotes or bid price higher than ask price are not candidates to be the ATM strike\n",
    "def F(data_call, data_put):\n",
    "    absolute_difference = []\n",
    "    for i in range(data_call.shape[0]):\n",
    "        if ((data_call.iloc[i, 3] != 0)&(data_put.iloc[i, 3] != 0)&(data_call.iloc[i, 2] <= data_call.iloc[i, 4])&(data_put.iloc[i, 2] <= data_put.iloc[i, 4])):\n",
    "            absolute_difference.append(abs(data_call.iloc[i, 3] - data_put.iloc[i, 3]))\n",
    "        else:\n",
    "            absolute_difference.append(9999)\n",
    "    minimum_abs_difference = min(absolute_difference)\n",
    "\n",
    "    strike = []\n",
    "    row_index = []\n",
    "    if (absolute_difference.count(minimum_abs_difference)) > 1:\n",
    "        for j in range(absolute_difference.count(minimum_abs_difference)):\n",
    "            row_index.append(np.where(absolute_difference == minimum_abs_difference)[0][j])\n",
    "            strike.append(data_call['Strike'][row_index[j]])\n",
    "        strike_price = min(strike)\n",
    "        row = row_index[np.where(strike == strike_price)[0][0]]\n",
    "    else:\n",
    "        row = np.where(absolute_difference == minimum_abs_difference)[0][0]\n",
    "        strike_price = data_call['Strike'][row]\n",
    "\n",
    "    call_put_difference = data_call.iloc[row, 3] - data_put.iloc[row, 3]\n",
    "    \n",
    "    return [strike_price, call_put_difference]"
   ]
  },
  {
   "cell_type": "code",
   "execution_count": 183,
   "id": "a84096ea",
   "metadata": {},
   "outputs": [],
   "source": [
    "def find_F():\n",
    "    # Find forward index prices for the near- and next-term options\n",
    "    dates = [time_to_expiration(True),time_to_expiration(False)]\n",
    "    data_call = ATM_near_data_call\n",
    "    data_put = ATM_near_data_put\n",
    "    near_temp = F(data_call, data_put)\n",
    "    \n",
    "    data_call = ATM_next_data_call\n",
    "    data_put = ATM_next_data_put\n",
    "    next_temp = F(data_call, data_put)\n",
    "    \n",
    "    near_F = near_temp[0] + math.exp(estimated_risk_free_rate[0]*dates[0]) * near_temp[1]\n",
    "    next_F = next_temp[0] + math.exp(estimated_risk_free_rate[1]*dates[1]) * next_temp[1]\n",
    "    return [near_F, next_F]"
   ]
  },
  {
   "cell_type": "code",
   "execution_count": 184,
   "id": "9e1a09bd",
   "metadata": {},
   "outputs": [
    {
     "data": {
      "text/plain": [
       "[4139.498358400328, 4141.506348767025]"
      ]
     },
     "execution_count": 184,
     "metadata": {},
     "output_type": "execute_result"
    }
   ],
   "source": [
    "f = find_F()\n",
    "f"
   ]
  },
  {
   "cell_type": "markdown",
   "id": "e9e43054",
   "metadata": {},
   "source": [
    "K: the strike price equal to or otherwise immediately below the forward price, 𝐹, for \n",
    "the near- and next-term candidate constituent options. "
   ]
  },
  {
   "cell_type": "code",
   "execution_count": 191,
   "id": "0abfa150",
   "metadata": {},
   "outputs": [],
   "source": [
    "def K0():\n",
    "    f = find_F()\n",
    "    K = [0, 0]\n",
    "    row = [0, 0]\n",
    "    compare_F_and_strike = []\n",
    "    # near-term K\n",
    "    if (ATM_near_data_call.iloc[0, 0] - f[0]) == 0:\n",
    "        K[0] = f[0]\n",
    "        row[0] = 0\n",
    "    else:\n",
    "        for i in range(1, ATM_near_data_call.shape[0]+1):\n",
    "            if (ATM_near_data_call.iloc[i, 0] - f[0]) == 0:\n",
    "                K[0] = f[0]\n",
    "                row[0] = i\n",
    "            if (ATM_near_data_call.iloc[i, 0] - f[0]) > 0:\n",
    "                K[0] = ATM_near_data_call.iloc[i-1, 0]\n",
    "                row[0] = i-1\n",
    "                break\n",
    "    \n",
    "    # Next-term K\n",
    "    if (ATM_next_data_call.iloc[0, 0] - f[1]) == 0:\n",
    "        K[1] = f[1]\n",
    "        row[1] = 0\n",
    "    else:\n",
    "        for i in range(1, ATM_next_data_call.shape[0]+1):\n",
    "            if (ATM_next_data_call.iloc[i, 0] - f[1]) == 0:\n",
    "                K[1] = f[1]\n",
    "                row[1] = i\n",
    "            if (ATM_next_data_call.iloc[i, 0] - f[1]) > 0:\n",
    "                K[1] = ATM_next_data_call.iloc[i-1, 0]\n",
    "                row[1] = i-1\n",
    "                break\n",
    "    return K, row"
   ]
  },
  {
   "cell_type": "code",
   "execution_count": 192,
   "id": "cffa9e69",
   "metadata": {},
   "outputs": [
    {
     "data": {
      "text/plain": [
       "[4135, 4140]"
      ]
     },
     "execution_count": 192,
     "metadata": {},
     "output_type": "execute_result"
    }
   ],
   "source": [
    "K, row = K0()\n",
    "K"
   ]
  },
  {
   "cell_type": "markdown",
   "id": "acc091c9",
   "metadata": {},
   "source": [
    "# Strike Selection: \n",
    "\n",
    "1. remove all option strikes with null quotes from both the put and the call option series\n",
    " \n",
    "2. Ki list: a call if 𝐾𝑖 > 𝐾0 and a put if 𝐾𝑖 < 𝐾0; both put and call if 𝐾𝑖 = 𝐾0"
   ]
  },
  {
   "cell_type": "code",
   "execution_count": 209,
   "id": "15d8bcf0",
   "metadata": {},
   "outputs": [],
   "source": [
    "def out_of_money_option(K, row, optiontype):\n",
    "    option_list_row_index = []\n",
    "    count_zero = []\n",
    "    count = 0\n",
    "    if optiontype == 'Put':\n",
    "        for i in range(row-1, -1, -1):\n",
    "            if data.iloc[i, 0] < K:\n",
    "                if data.iloc[i, 2] == 0:\n",
    "                    count_zero.append(0)\n",
    "                    count += 1\n",
    "                    if (count >= 2) & (count < row):\n",
    "                        if count_zero[count-2] == 0:\n",
    "                            break\n",
    "                    if count == row:\n",
    "                        print('VIX could not be calculated')\n",
    "                else:\n",
    "                    option_list_row_index.append(i)\n",
    "                    count_zero.append(1)\n",
    "                    \n",
    "    if optiontype == 'Call':\n",
    "        for i in range(row+1, data.shape[0], 1):\n",
    "            if data.iloc[i, 0] > K:\n",
    "                if data.iloc[i, 2] == 0:\n",
    "                    count_zero.append(0)\n",
    "                    count += 1\n",
    "                    if count >= 2:\n",
    "                        if count_zero[count-2] == 0:\n",
    "                            break\n",
    "                    if count == row:\n",
    "                        print('VIX could not be calculated')\n",
    "                else:\n",
    "                    option_list_row_index.append(i)\n",
    "                    count_zero.append(1)\n",
    "                    \n",
    "    return option_list_row_index"
   ]
  },
  {
   "cell_type": "code",
   "execution_count": 210,
   "id": "702bf11c",
   "metadata": {},
   "outputs": [],
   "source": [
    "def remove_null(data_call, data_put):\n",
    "    option_list_row_index = []\n",
    "    for i in range(data_call.shape[0]):\n",
    "        if ((data_call.iloc[i, 2] != 0)&(data_call.iloc[i, 4] != 0)&(data_put.iloc[i, 2] != 0)&(data_put.iloc[i, 4] != 0)):\n",
    "            option_list_row_index.append(i)\n",
    "    \n",
    "    return option_list_row_index"
   ]
  },
  {
   "cell_type": "code",
   "execution_count": 214,
   "id": "2b677afd",
   "metadata": {},
   "outputs": [],
   "source": [
    "near_data_call = near_data_call.iloc[remove_null(near_data_call, near_data_put),:].reset_index(drop=True)\n",
    "near_data_put = near_data_put.iloc[remove_null(near_data_call, near_data_put),:].reset_index(drop=True)\n",
    "next_data_call = next_data_call.iloc[remove_null(next_data_call, next_data_put),:].reset_index(drop=True)\n",
    "next_data_put = next_data_put.iloc[remove_null(next_data_call, next_data_put),:].reset_index(drop=True)"
   ]
  },
  {
   "cell_type": "code",
   "execution_count": 215,
   "id": "4210919d",
   "metadata": {},
   "outputs": [],
   "source": [
    "K, row = K0()\n",
    "data = near_data_call\n",
    "near_term_call_option_list = out_of_money_option(K[0], row[0], 'Call')\n",
    "\n",
    "data = near_data_put\n",
    "near_term_put_option_list = out_of_money_option(K[0], row[0], 'Put')\n",
    "\n",
    "data = next_data_call\n",
    "next_term_call_option_list = out_of_money_option(K[1], row[1], 'Call')\n",
    "\n",
    "data = next_data_put\n",
    "next_term_put_option_list = out_of_money_option(K[1], row[1], 'Put')"
   ]
  },
  {
   "cell_type": "code",
   "execution_count": 216,
   "id": "e55a2584",
   "metadata": {},
   "outputs": [
    {
     "data": {
      "text/plain": [
       "[142,\n",
       " 143,\n",
       " 144,\n",
       " 145,\n",
       " 146,\n",
       " 147,\n",
       " 148,\n",
       " 149,\n",
       " 150,\n",
       " 151,\n",
       " 152,\n",
       " 153,\n",
       " 154,\n",
       " 155,\n",
       " 156,\n",
       " 157,\n",
       " 158,\n",
       " 159,\n",
       " 160,\n",
       " 161,\n",
       " 162,\n",
       " 163,\n",
       " 164,\n",
       " 165,\n",
       " 166,\n",
       " 167,\n",
       " 168,\n",
       " 169,\n",
       " 170,\n",
       " 171,\n",
       " 172,\n",
       " 173,\n",
       " 174,\n",
       " 175,\n",
       " 176,\n",
       " 177,\n",
       " 178,\n",
       " 179,\n",
       " 180,\n",
       " 181,\n",
       " 182,\n",
       " 183,\n",
       " 184,\n",
       " 185,\n",
       " 186,\n",
       " 187,\n",
       " 188,\n",
       " 189]"
      ]
     },
     "execution_count": 216,
     "metadata": {},
     "output_type": "execute_result"
    }
   ],
   "source": [
    "near_term_call_option_list"
   ]
  },
  {
   "cell_type": "code",
   "execution_count": 217,
   "id": "37e36aea",
   "metadata": {},
   "outputs": [
    {
     "data": {
      "text/plain": [
       "[140,\n",
       " 139,\n",
       " 138,\n",
       " 137,\n",
       " 136,\n",
       " 135,\n",
       " 134,\n",
       " 133,\n",
       " 132,\n",
       " 131,\n",
       " 130,\n",
       " 129,\n",
       " 128,\n",
       " 127,\n",
       " 126,\n",
       " 125,\n",
       " 124,\n",
       " 123,\n",
       " 122,\n",
       " 121,\n",
       " 120,\n",
       " 119,\n",
       " 118,\n",
       " 117,\n",
       " 116,\n",
       " 115,\n",
       " 114,\n",
       " 113,\n",
       " 112,\n",
       " 111,\n",
       " 110,\n",
       " 109,\n",
       " 108,\n",
       " 107,\n",
       " 106,\n",
       " 105,\n",
       " 104,\n",
       " 103,\n",
       " 102,\n",
       " 101,\n",
       " 100,\n",
       " 99,\n",
       " 98,\n",
       " 97,\n",
       " 96,\n",
       " 95,\n",
       " 94,\n",
       " 93,\n",
       " 92,\n",
       " 91,\n",
       " 90,\n",
       " 89,\n",
       " 88,\n",
       " 87,\n",
       " 86,\n",
       " 85,\n",
       " 84,\n",
       " 83,\n",
       " 82,\n",
       " 81,\n",
       " 80,\n",
       " 79,\n",
       " 78,\n",
       " 77,\n",
       " 76,\n",
       " 75,\n",
       " 74,\n",
       " 73,\n",
       " 72,\n",
       " 71,\n",
       " 70,\n",
       " 69,\n",
       " 68,\n",
       " 67,\n",
       " 66,\n",
       " 65,\n",
       " 64,\n",
       " 63,\n",
       " 62,\n",
       " 61,\n",
       " 60,\n",
       " 59,\n",
       " 58,\n",
       " 57,\n",
       " 56,\n",
       " 55,\n",
       " 54,\n",
       " 53,\n",
       " 52,\n",
       " 51,\n",
       " 50,\n",
       " 49,\n",
       " 48,\n",
       " 47,\n",
       " 46,\n",
       " 45,\n",
       " 44,\n",
       " 43,\n",
       " 42,\n",
       " 41,\n",
       " 40,\n",
       " 39,\n",
       " 38,\n",
       " 37,\n",
       " 36,\n",
       " 35,\n",
       " 34,\n",
       " 33,\n",
       " 32,\n",
       " 31,\n",
       " 30,\n",
       " 29,\n",
       " 28,\n",
       " 27,\n",
       " 26,\n",
       " 25,\n",
       " 24,\n",
       " 23,\n",
       " 22,\n",
       " 21,\n",
       " 20,\n",
       " 19,\n",
       " 18,\n",
       " 17,\n",
       " 16,\n",
       " 15,\n",
       " 14,\n",
       " 13,\n",
       " 12,\n",
       " 11,\n",
       " 10,\n",
       " 9,\n",
       " 8,\n",
       " 7,\n",
       " 6,\n",
       " 5,\n",
       " 4,\n",
       " 3,\n",
       " 2,\n",
       " 1,\n",
       " 0]"
      ]
     },
     "execution_count": 217,
     "metadata": {},
     "output_type": "execute_result"
    }
   ],
   "source": [
    "near_term_put_option_list"
   ]
  },
  {
   "cell_type": "code",
   "execution_count": 218,
   "id": "15d11096",
   "metadata": {
    "scrolled": true
   },
   "outputs": [
    {
     "data": {
      "text/plain": [
       "[207,\n",
       " 208,\n",
       " 209,\n",
       " 210,\n",
       " 211,\n",
       " 212,\n",
       " 213,\n",
       " 214,\n",
       " 215,\n",
       " 216,\n",
       " 217,\n",
       " 218,\n",
       " 219,\n",
       " 220,\n",
       " 221,\n",
       " 222,\n",
       " 223,\n",
       " 224,\n",
       " 225,\n",
       " 226,\n",
       " 227,\n",
       " 228,\n",
       " 229,\n",
       " 230,\n",
       " 231,\n",
       " 232,\n",
       " 233,\n",
       " 234,\n",
       " 235,\n",
       " 236,\n",
       " 237,\n",
       " 238,\n",
       " 239,\n",
       " 240,\n",
       " 241,\n",
       " 242,\n",
       " 243,\n",
       " 244,\n",
       " 245,\n",
       " 246,\n",
       " 247,\n",
       " 248,\n",
       " 249,\n",
       " 250,\n",
       " 251,\n",
       " 252,\n",
       " 253,\n",
       " 254,\n",
       " 255,\n",
       " 256,\n",
       " 257,\n",
       " 258,\n",
       " 259,\n",
       " 260,\n",
       " 261,\n",
       " 262,\n",
       " 263,\n",
       " 264,\n",
       " 265,\n",
       " 266,\n",
       " 267,\n",
       " 268,\n",
       " 269,\n",
       " 270,\n",
       " 271,\n",
       " 272,\n",
       " 273,\n",
       " 274,\n",
       " 275,\n",
       " 276,\n",
       " 277,\n",
       " 278,\n",
       " 279,\n",
       " 280,\n",
       " 281]"
      ]
     },
     "execution_count": 218,
     "metadata": {},
     "output_type": "execute_result"
    }
   ],
   "source": [
    "next_term_call_option_list"
   ]
  },
  {
   "cell_type": "code",
   "execution_count": 219,
   "id": "d29a58ce",
   "metadata": {
    "scrolled": true
   },
   "outputs": [
    {
     "data": {
      "text/plain": [
       "[205,\n",
       " 204,\n",
       " 203,\n",
       " 202,\n",
       " 201,\n",
       " 200,\n",
       " 199,\n",
       " 198,\n",
       " 197,\n",
       " 196,\n",
       " 195,\n",
       " 194,\n",
       " 193,\n",
       " 192,\n",
       " 191,\n",
       " 190,\n",
       " 189,\n",
       " 188,\n",
       " 187,\n",
       " 186,\n",
       " 185,\n",
       " 184,\n",
       " 183,\n",
       " 182,\n",
       " 181,\n",
       " 180,\n",
       " 179,\n",
       " 178,\n",
       " 177,\n",
       " 176,\n",
       " 175,\n",
       " 174,\n",
       " 173,\n",
       " 172,\n",
       " 171,\n",
       " 170,\n",
       " 169,\n",
       " 168,\n",
       " 167,\n",
       " 166,\n",
       " 165,\n",
       " 164,\n",
       " 163,\n",
       " 162,\n",
       " 161,\n",
       " 160,\n",
       " 159,\n",
       " 158,\n",
       " 157,\n",
       " 156,\n",
       " 155,\n",
       " 154,\n",
       " 153,\n",
       " 152,\n",
       " 151,\n",
       " 150,\n",
       " 149,\n",
       " 148,\n",
       " 147,\n",
       " 146,\n",
       " 145,\n",
       " 144,\n",
       " 143,\n",
       " 142,\n",
       " 141,\n",
       " 140,\n",
       " 139,\n",
       " 138,\n",
       " 137,\n",
       " 136,\n",
       " 135,\n",
       " 134,\n",
       " 133,\n",
       " 132,\n",
       " 131,\n",
       " 130,\n",
       " 129,\n",
       " 128,\n",
       " 127,\n",
       " 126,\n",
       " 125,\n",
       " 124,\n",
       " 123,\n",
       " 122,\n",
       " 121,\n",
       " 120,\n",
       " 119,\n",
       " 118,\n",
       " 117,\n",
       " 116,\n",
       " 115,\n",
       " 114,\n",
       " 113,\n",
       " 112,\n",
       " 111,\n",
       " 110,\n",
       " 109,\n",
       " 108,\n",
       " 107,\n",
       " 106,\n",
       " 105,\n",
       " 104,\n",
       " 103,\n",
       " 102,\n",
       " 101,\n",
       " 100,\n",
       " 99,\n",
       " 98,\n",
       " 97,\n",
       " 96,\n",
       " 95,\n",
       " 94,\n",
       " 93,\n",
       " 92,\n",
       " 91,\n",
       " 90,\n",
       " 89,\n",
       " 88,\n",
       " 87,\n",
       " 86,\n",
       " 85,\n",
       " 84,\n",
       " 83,\n",
       " 82,\n",
       " 81,\n",
       " 80,\n",
       " 79,\n",
       " 78,\n",
       " 77,\n",
       " 76,\n",
       " 75,\n",
       " 74,\n",
       " 73,\n",
       " 72,\n",
       " 71,\n",
       " 70,\n",
       " 69,\n",
       " 68,\n",
       " 67,\n",
       " 66,\n",
       " 65,\n",
       " 64,\n",
       " 63,\n",
       " 62,\n",
       " 61,\n",
       " 60,\n",
       " 59,\n",
       " 58,\n",
       " 57,\n",
       " 56,\n",
       " 55,\n",
       " 54,\n",
       " 53,\n",
       " 52,\n",
       " 51,\n",
       " 50,\n",
       " 49,\n",
       " 48,\n",
       " 47,\n",
       " 46,\n",
       " 45,\n",
       " 44,\n",
       " 43,\n",
       " 42,\n",
       " 41,\n",
       " 40,\n",
       " 39,\n",
       " 38,\n",
       " 37,\n",
       " 36,\n",
       " 35,\n",
       " 34,\n",
       " 33,\n",
       " 32,\n",
       " 31,\n",
       " 30,\n",
       " 29,\n",
       " 28,\n",
       " 27,\n",
       " 26,\n",
       " 25,\n",
       " 24,\n",
       " 23,\n",
       " 22,\n",
       " 21,\n",
       " 20,\n",
       " 19,\n",
       " 18,\n",
       " 17,\n",
       " 16,\n",
       " 15,\n",
       " 14,\n",
       " 13,\n",
       " 12,\n",
       " 11,\n",
       " 10,\n",
       " 9,\n",
       " 8,\n",
       " 7,\n",
       " 6,\n",
       " 5,\n",
       " 4,\n",
       " 3,\n",
       " 2,\n",
       " 1,\n",
       " 0]"
      ]
     },
     "execution_count": 219,
     "metadata": {},
     "output_type": "execute_result"
    }
   ],
   "source": [
    "next_term_put_option_list"
   ]
  },
  {
   "cell_type": "markdown",
   "id": "4b451d38",
   "metadata": {},
   "source": [
    "# Calculate volatility for both near- and next-term options\n",
    "\n",
    "Δ𝐾𝑖 = • Highest OTM Strike 𝐾𝑖: 𝐾𝑖 −𝐾𝑖−1\n",
    "\n",
    "     • Lowest OTM Strike 𝐾𝑖: 𝐾𝑖+1 − 𝐾𝑖\n",
    "     \n",
    "     • Otherwise: (𝐾𝑖+1 − 𝐾𝑖−1) / 2\n",
    "\n",
    "Q(𝐾𝑖): Option price of the OTM option with strike 𝐾𝑖; Q(𝐾0) is the average of the 𝐾0 put option price and 𝐾0 call option price"
   ]
  },
  {
   "cell_type": "code",
   "execution_count": 229,
   "id": "db95e2e5",
   "metadata": {},
   "outputs": [],
   "source": [
    "def calculate_volatility(T, R, K0_index, F, near_next_type):\n",
    "    if near_next_type == 'near':\n",
    "        call_option_list = near_term_call_option_list\n",
    "        put_option_list = near_term_put_option_list\n",
    "        data_call = near_data_call\n",
    "        data_put = near_data_put\n",
    "    if near_next_type == 'next':\n",
    "        call_option_list = next_term_call_option_list\n",
    "        put_option_list = next_term_put_option_list\n",
    "        data_call = next_data_call\n",
    "        data_put = next_data_put\n",
    "        \n",
    "    # Highest OTM Strike price should be the last one of call_option_list\n",
    "    # Lowest OTM strike price should be the first one of put_option_list\n",
    "    \n",
    "    I = 0  # sum \n",
    "    \n",
    "    # First revert the order of put_option_list\n",
    "    put_option_list = np.int64(np.sort(put_option_list))\n",
    "    for i in range(len(put_option_list)):\n",
    "        if i == 0:\n",
    "            delta_K = data_put.iloc[i+1, 0] - data_put.iloc[i, 0]\n",
    "            I += delta_K / np.power(data_put.iloc[i, 0], 2) * np.exp(R * T) * data_put.iloc[i, 3]\n",
    "        else:\n",
    "            delta_K = (data_put.iloc[i+1, 0] - data_put.iloc[i-1, 0])/2\n",
    "            I += delta_K / np.power(data_put.iloc[i, 0], 2) * np.exp(R * T) * data_put.iloc[i, 3]\n",
    "    \n",
    "    for j in call_option_list:\n",
    "        if j == max(call_option_list):\n",
    "            delta_K = data_call.iloc[j, 0] - data_call.iloc[j-1, 0]\n",
    "            I += delta_K / np.power(data_call.iloc[j, 0], 2) * np.exp(R * T) * data_call.iloc[i, 3]\n",
    "        else:\n",
    "            delta_K = (data_call.iloc[j+1, 0] - data_call.iloc[j-1, 0])/2\n",
    "            I += delta_K / np.power(data_call.iloc[j, 0], 2) * np.exp(R * T) * data_call.iloc[i, 3]\n",
    "    \n",
    "    # For K0\n",
    "    delta_K = (data_call.iloc[K0_index+1, 0] - data_call.iloc[K0_index-1, 0])/2\n",
    "    Q_K0 = (data_call.iloc[K0_index, 3] + data_put.iloc[K0_index, 3])/2\n",
    "    I += delta_K / np.power(data_call.iloc[K0_index, 0], 2) * np.exp(R * T) * Q_K0\n",
    "    \n",
    "    volatility = 2/T * I - 1/T * np.power((F/data_call.iloc[K0_index, 0]-1), 2)\n",
    "    \n",
    "    return volatility"
   ]
  },
  {
   "cell_type": "code",
   "execution_count": 230,
   "id": "2cda1c0d",
   "metadata": {},
   "outputs": [
    {
     "data": {
      "text/plain": [
       "[4139.498358400328, 4141.506348767025]"
      ]
     },
     "execution_count": 230,
     "metadata": {},
     "output_type": "execute_result"
    }
   ],
   "source": [
    "f = find_F()\n",
    "f"
   ]
  },
  {
   "cell_type": "code",
   "execution_count": 231,
   "id": "481b652f",
   "metadata": {},
   "outputs": [],
   "source": [
    "near_term_volatility = calculate_volatility(dates[0], estimated_risk_free_rate[0], row[0], f[0], 'near')\n",
    "next_term_volatility = calculate_volatility(dates[1], estimated_risk_free_rate[1], row[1], f[1], 'next')"
   ]
  },
  {
   "cell_type": "code",
   "execution_count": 232,
   "id": "1f96a835",
   "metadata": {},
   "outputs": [
    {
     "data": {
      "text/plain": [
       "(0.059630177133687984, 0.057850584594974115)"
      ]
     },
     "execution_count": 232,
     "metadata": {},
     "output_type": "execute_result"
    }
   ],
   "source": [
    "(near_term_volatility, next_term_volatility)"
   ]
  },
  {
   "cell_type": "markdown",
   "id": "7461b0aa",
   "metadata": {},
   "source": [
    "# Calculate VIX index\n",
    "\n",
    "𝑀𝑇1: The number of minutes until expiration of the near-term options\n",
    "\n",
    "𝑀𝑇2: The number of minutes until expiration of the next-term options\n",
    "\n",
    "𝑀CM: The number of minutes in the given constant maturity term (30 x 24 x 60 = 43200)\n",
    "\n",
    "𝑀365: The number of minutes in a 365-day year (365 x 1,440 = 525,600)\n",
    "\n",
    "𝑇𝑖: 𝑀𝑇𝑖 ⁄ 𝑀365"
   ]
  },
  {
   "cell_type": "code",
   "execution_count": 233,
   "id": "8e18e2ff",
   "metadata": {},
   "outputs": [],
   "source": [
    "MT1 = time_to_expiration(True) * 525600\n",
    "MT2 = time_to_expiration(False) * 525600\n",
    "MCM = 43200\n",
    "M365 = 525600\n",
    "T1 = MT1/M365\n",
    "T2 = MT2/M365"
   ]
  },
  {
   "cell_type": "code",
   "execution_count": 234,
   "id": "bc8b2162",
   "metadata": {},
   "outputs": [],
   "source": [
    "volatility_index = 100 * np.sqrt((T1 * near_term_volatility * (MT2-MCM)/(MT2-MT1) + T2 * next_term_volatility * (MCM-MT1)/(MT2-MT1))*M365/MCM)"
   ]
  },
  {
   "cell_type": "code",
   "execution_count": 235,
   "id": "8eaa9380",
   "metadata": {},
   "outputs": [
    {
     "data": {
      "text/plain": [
       "24.223969656325"
      ]
     },
     "execution_count": 235,
     "metadata": {},
     "output_type": "execute_result"
    }
   ],
   "source": [
    "volatility_index"
   ]
  },
  {
   "cell_type": "code",
   "execution_count": null,
   "id": "2982f99e",
   "metadata": {},
   "outputs": [],
   "source": []
  }
 ],
 "metadata": {
  "kernelspec": {
   "display_name": "Python 3 (ipykernel)",
   "language": "python",
   "name": "python3"
  },
  "language_info": {
   "codemirror_mode": {
    "name": "ipython",
    "version": 3
   },
   "file_extension": ".py",
   "mimetype": "text/x-python",
   "name": "python",
   "nbconvert_exporter": "python",
   "pygments_lexer": "ipython3",
   "version": "3.9.7"
  }
 },
 "nbformat": 4,
 "nbformat_minor": 5
}
