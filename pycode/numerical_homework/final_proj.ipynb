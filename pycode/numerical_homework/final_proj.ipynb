{
 "cells": [
  {
   "attachments": {},
   "cell_type": "markdown",
   "metadata": {},
   "source": [
    "European Put Vanilla using Crank-Nicolson"
   ]
  },
  {
   "cell_type": "code",
   "execution_count": 22,
   "metadata": {},
   "outputs": [
    {
     "name": "stdout",
     "output_type": "stream",
     "text": [
      "European Put Vanilla price: 5.042736866186616\n"
     ]
    }
   ],
   "source": [
    "import numpy as np\n",
    "import scipy.linalg as linalg\n",
    "import math\n",
    "\n",
    "\n",
    "# Parameters\n",
    "S0 = 100\n",
    "K = 100\n",
    "sigma = 0.20\n",
    "r = 0.025\n",
    "T = 231 / 360\n",
    "\n",
    "# Crank-Nicolson method\n",
    "def crank_nicolson_european_put(S0, K, sigma, r, T, M, N):\n",
    "    dt = T / N\n",
    "    dS = 2 * S0 / M\n",
    "    lamb = r * dt / 2\n",
    "    gamma = dt * sigma**2 / 2\n",
    "\n",
    "    S = np.linspace(0, 2 * S0, M + 1)\n",
    "    V = np.maximum(K - S, 0)\n",
    "    L = np.diag((1 + gamma) * np.ones(M - 1)) + np.diag(-gamma / 2 * np.arange(2, M) * dS, 1) + np.diag(-gamma / 2 * np.arange(2, M) * dS, -1)\n",
    "    R = np.diag((1 - gamma) * np.ones(M - 1)) + np.diag(gamma / 2 * np.arange(2, M) * dS, 1) + np.diag(gamma / 2 * np.arange(2, M) * dS, -1)\n",
    "    \n",
    "    for _ in range(N):\n",
    "        V[1:-1] = linalg.solve(L, R @ V[1:-1])\n",
    "        V[-1] = 2 * V[-2] - V[-3]\n",
    "        V[0] = 2 * V[1] - V[2]\n",
    "    \n",
    "    return np.interp(S0, S, V)\n",
    "\n",
    "# Pricing\n",
    "M = 300\n",
    "N = 200 \n",
    "price = crank_nicolson_european_put(S0, K, sigma, r, T, M, N)\n",
    "print(f\"European Put Vanilla price: {price}\")\n"
   ]
  },
  {
   "cell_type": "code",
   "execution_count": 24,
   "metadata": {},
   "outputs": [
    {
     "name": "stdout",
     "output_type": "stream",
     "text": [
      "50\n",
      "50\n",
      "0.0\n"
     ]
    }
   ],
   "source": [
    "T = 231 / 360 #period of contract\n",
    "S_0 = 100  #price at time zero\n",
    "K = 100  #exercise price\n",
    "sigma = 0.2  #Volatility\n",
    "r = 0.025 #Risk-neutral interest-rate\n",
    "price = 0  #Just initialization :)\n",
    "\n",
    "S_max = 100\n",
    "\n",
    "N = 500\n",
    "M = 50\n",
    "dt = T / N\n",
    "ds = S_max / M\n",
    "\n",
    "f = np.zeros((M+1,N+1))  # The array f is the mesh of approximation of the option price function\n",
    "I = np.arange(0, M+1)\n",
    "J = np.arange(0, N+1)\n",
    "\n",
    "# Boundary and final conditions\n",
    "f[:, N] = np.maximum(K - (I * ds), 0)\n",
    "f[0, :] = K * np.exp(-r * (T - J * dt))\n",
    "f[M, :] = 0\n",
    "\n",
    "alpha = 0.25 * dt * (sigma**2 * (I**2) - r * I)\n",
    "beta = -dt * 0.5 * (sigma**2 * (I**2) + r)\n",
    "gamma = 0.25 * dt * (sigma**2 * (I**2) + r * I)\n",
    "\n",
    "M1 = np.diag(1-beta[1:M]) + np.diag(-alpha[2:M], k=-1) + np.diag(-gamma[1:M-1], k=1)\n",
    "M2 = np.diag(1+beta[1:M]) + np.diag(alpha[2:M], k=-1) + np.diag(gamma[1:M-1], k=1)\n",
    "\n",
    "for j in range(N-1, -1, -1):\n",
    "    l = np.zeros(M - 1)\n",
    "    l[0] = alpha[1] * (f[0, j] + f[0, j+1])\n",
    "    l[-1] = gamma[M-1] * (f[M, j] + f[M, j+1])\n",
    "    f[1:M, j] = np.linalg.solve(M1, M2 @ f[1:M, j+1] + l)\n",
    "\n",
    "## Finding the price by interapolation\n",
    "idown = int(np.floor(S_0 / ds))\n",
    "iup = int(np.ceil(S_0 / ds))\n",
    "print(idown)\n",
    "print(iup)\n",
    "if idown == iup:\n",
    "    price = f[idown, 0]\n",
    "else:\n",
    "    price = f[idown, 0] + ((iup - (S_0 / ds)) / (iup - idown)) * (f[iup, 0] - f[idown, 0])\n",
    "\n",
    "print(price)"
   ]
  },
  {
   "cell_type": "code",
   "execution_count": 50,
   "metadata": {},
   "outputs": [
    {
     "name": "stdout",
     "output_type": "stream",
     "text": [
      "American Put Vanilla price: 99.95020163550515\n"
     ]
    }
   ],
   "source": [
    "# Crank-Nicolson with PSOR for American Put\n",
    "def crank_nicolson_american_put(S0, K, sigma, r, T, M, N, omega=1.5, tol=1e-8):\n",
    "    dt = T / N\n",
    "    dS = 2 * S0 / M\n",
    "    lamb = r * dt / 2\n",
    "    gamma = dt * sigma**2 / 2\n",
    "\n",
    "    S = np.linspace(0, 2 * S0, M + 1)\n",
    "    V = np.maximum(K - S, 0)\n",
    "    L = np.diag((1 + gamma) * np.ones(M - 1)) + np.diag(-gamma / 2 * np.arange(2, M) * dS, 1) + np.diag(-gamma / 2 * np.arange(2, M) * dS, -1)\n",
    "    R = np.diag((1 - gamma) * np.ones(M - 1)) + np.diag(gamma / 2 * np.arange(2, M) * dS, 1) + np.diag(gamma / 2 * np.arange(2, M) * dS, -1)\n",
    "    \n",
    "    for _ in range(N):\n",
    "        V_old = V.copy()\n",
    "        V[1:-1] = linalg.solve(L, R @ V[1:-1])\n",
    "        V[-1] = 2 * V[-2] - V[-3]\n",
    "        V[0] = 2 * V[1] - V[2]\n",
    "\n",
    "        # Projected SOR for early exercise\n",
    "        for _ in range(1000):\n",
    "            V_new = V.copy()\n",
    "            for j in range(1, M):\n",
    "                V_new[j] = max(V_old[j], (1 - omega) * V[j] + omega / (1 + lamb) * (V[j - 1] + lamb * V[j + 1] - gamma * j * dS * (V[j + 1] - V[j - 1])))\n",
    "            \n",
    "            if np.linalg.norm(V_new - V) < tol:\n",
    "                break\n",
    "            V = V_new\n",
    "    \n",
    "    return np.interp(S0, S, V)\n",
    "\n",
    "# Pricing\n",
    "M = 100\n",
    "N = 100\n",
    "price_american = crank_nicolson_american_put(S0, K, sigma, r, T, M, N)\n",
    "print(f\"American Put Vanilla price: {price_american}\")"
   ]
  },
  {
   "attachments": {},
   "cell_type": "markdown",
   "metadata": {},
   "source": [
    "To price a continuous down and in put barrier option, you can use the analytical formula for barrier options. The formula for a down-and-in put barrier option is:\n",
    "\n",
    "Price = EuropeanPut - DownOutPut\n",
    "\n",
    "where EuropeanPut is the price of the European put option and DownOutPut is the price of the down-and-out put barrier option. We have already calculated the European put option price in part (a). Now we need to calculate the price of the down-and-out put barrier option.\n",
    "\n",
    "First, we will use the Black-Scholes formula to calculate the price of the down-and-out put barrier option:"
   ]
  },
  {
   "cell_type": "code",
   "execution_count": 38,
   "metadata": {},
   "outputs": [
    {
     "name": "stdout",
     "output_type": "stream",
     "text": [
      "Continuous Down and In Put Barrier Option price: 54.881459150322456\n"
     ]
    }
   ],
   "source": [
    "from scipy.stats import norm\n",
    "\n",
    "def black_scholes_put(S, K, r, sigma, T):\n",
    "    d1 = (np.log(S / K) + (r + 0.5 * sigma**2) * T) / (sigma * np.sqrt(T))\n",
    "    d2 = d1 - sigma * np.sqrt(T)\n",
    "    return K * np.exp(-r * T) * norm.cdf(-d2) - S * norm.cdf(-d1)\n",
    "\n",
    "def down_out_put_barrier(S0, K, r, sigma, T, barrier):\n",
    "    if S0 <= barrier:\n",
    "        return 0\n",
    "\n",
    "    lam = (r + 0.5 * sigma**2) / (sigma**2)\n",
    "    y = np.log(barrier**2 / (S0 * K)) / (sigma * np.sqrt(T)) + lam * sigma * np.sqrt(T)\n",
    "    x1 = np.log(S0 / barrier) / (sigma * np.sqrt(T)) + lam * sigma * np.sqrt(T)\n",
    "    x2 = np.log(barrier / S0) / (sigma * np.sqrt(T)) + lam * sigma * np.sqrt(T)\n",
    "\n",
    "    A = black_scholes_put(S0, K, r, sigma, T)\n",
    "    B = (barrier / S0)**(2 * lam) * black_scholes_put(S0, K * (barrier / S0)**(2 - 2 * lam), r, sigma, T)\n",
    "    C = -norm.cdf(x1) * S0 * np.exp(-r * T) * ((barrier / S0)**(2 * lam) - 1) / (2 * lam - 2)\n",
    "    D = -K * np.exp(-r * T) * (norm.cdf(y) - (barrier / S0)**(2 * lam - 2) * norm.cdf(y - 2 * lam * sigma * np.sqrt(T))) / (2 * lam - 2)\n",
    "    \n",
    "    return A - B + C + D\n",
    "\n",
    "barrier = 90\n",
    "price_down_in_put = price - down_out_put_barrier(S0, K, r, sigma, T, barrier)\n",
    "print(f\"Continuous Down and In Put Barrier Option price: {price_down_in_put}\")\n"
   ]
  },
  {
   "cell_type": "code",
   "execution_count": 40,
   "metadata": {},
   "outputs": [
    {
     "name": "stdout",
     "output_type": "stream",
     "text": [
      "Black-Scholes European Put price: 5.569724706320073\n",
      "PDE European Put price: 96.7282712611355\n",
      "Absolute difference: 91.15854655481543\n",
      "Black-Scholes Down and In Put Barrier price: -36.277087404492974\n",
      "PDE Down and In Put Barrier price: 54.881459150322456\n",
      "Absolute difference: 91.15854655481543\n",
      "Trinomial Tree American Put price: 100.0\n",
      "PDE American Put price: 99.4167213091466\n",
      "Absolute difference: 0.5832786908534047\n"
     ]
    }
   ],
   "source": [
    "# Black-Scholes for European Put\n",
    "european_put_bs = black_scholes_put(S0, K, r, sigma, T)\n",
    "print(f\"Black-Scholes European Put price: {european_put_bs}\")\n",
    "print(f\"PDE European Put price: {price}\")\n",
    "print(f\"Absolute difference: {abs(european_put_bs - price)}\")\n",
    "\n",
    "# Black-Scholes for Down-and-In Put Barrier\n",
    "down_in_put_bs = european_put_bs - down_out_put_barrier(S0, K, r, sigma, T, barrier)\n",
    "print(f\"Black-Scholes Down and In Put Barrier price: {down_in_put_bs}\")\n",
    "print(f\"PDE Down and In Put Barrier price: {price_down_in_put}\")\n",
    "print(f\"Absolute difference: {abs(down_in_put_bs - price_down_in_put)}\")\n",
    "\n",
    "# Trinomial Tree for American Put\n",
    "def trinomial_tree_american_put(S0, K, r, sigma, T, N):\n",
    "    dt = T / N\n",
    "    u = np.exp(sigma * np.sqrt(2 * dt))\n",
    "    d = 1 / u\n",
    "    m = 1\n",
    "    p_u= ((np.exp(r * dt / 2) - np.exp(-sigma * np.sqrt(dt / 2))) / (np.exp(sigma * np.sqrt(dt / 2)) - np.exp(-sigma * np.sqrt(dt / 2))))**2\n",
    "    p_d = ((np.exp(sigma * np.sqrt(dt / 2)) - np.exp(r * dt / 2)) / (np.exp(sigma * np.sqrt(dt / 2)) - np.exp(-sigma * np.sqrt(dt / 2))))**2\n",
    "    p_m = 1 - p_u - p_d\n",
    "    \n",
    "    S = np.zeros((N + 1, N + 1))\n",
    "    S[:, 0] = S0\n",
    "    for j in range(1, N + 1):\n",
    "        S[1:-1, j] = S[0:-2, j - 1] * u + S[2:, j - 1] * d\n",
    "    \n",
    "    V = np.maximum(K - S[:, -1], 0)\n",
    "    for j in range(N - 1, -1, -1):\n",
    "        V[:-2] = np.exp(-r * dt) * (p_u * V[:-2] + p_m * V[1:-1] + p_d * V[2:])\n",
    "        V = np.maximum(K - S[:, j], V)\n",
    "    \n",
    "    return V[N]\n",
    "\n",
    "american_put_trinomial_tree = trinomial_tree_american_put(S0, K, r, sigma, T, N)\n",
    "print(f\"Trinomial Tree American Put price: {american_put_trinomial_tree}\")\n",
    "print(f\"PDE American Put price: {price_american}\")\n",
    "print(f\"Absolute difference: {abs(american_put_trinomial_tree - price_american)}\")\n"
   ]
  },
  {
   "cell_type": "code",
   "execution_count": 44,
   "metadata": {},
   "outputs": [
    {
     "name": "stdout",
     "output_type": "stream",
     "text": [
      "Monte Carlo European Put price: 5.667516673741924\n",
      "PDE European Put price: 96.7282712611355\n",
      "Absolute difference: 91.06075458739357\n"
     ]
    }
   ],
   "source": [
    "import pandas as pd\n",
    "\n",
    "def monte_carlo_european_put(S0, K, r, sigma, T, num_simulations):\n",
    "    np.random.seed(42)  # For reproducibility\n",
    "    num_timesteps = 10\n",
    "    dt = T / num_timesteps\n",
    "\n",
    "    total_payoff = 0\n",
    "    for i in range(num_simulations):\n",
    "        S = S0\n",
    "        for j in range(num_timesteps):\n",
    "            z = np.random.standard_normal()\n",
    "            S *= np.exp((r - 0.5 * sigma**2) * dt + sigma * np.sqrt(dt) * z)\n",
    "\n",
    "        total_payoff += max(K - S, 0)\n",
    "\n",
    "    price = np.exp(-r * T) * total_payoff / num_simulations\n",
    "    return price\n",
    "\n",
    "# Parameters from part (a)\n",
    "S0 = 100\n",
    "K = 100\n",
    "r = 0.025\n",
    "sigma = 0.20\n",
    "\n",
    "\n",
    "num_simulations = 10000\n",
    "monte_carlo_price = monte_carlo_european_put(S0, K, r, sigma, T, num_simulations)\n",
    "\n",
    "print(f\"Monte Carlo European Put price: {monte_carlo_price}\")\n",
    "print(f\"PDE European Put price: {price}\")  # Assuming 'price' is the PDE price from part (a)\n",
    "print(f\"Absolute difference: {abs(monte_carlo_price - price)}\")\n",
    "\n"
   ]
  }
 ],
 "metadata": {
  "kernelspec": {
   "display_name": "practicum",
   "language": "python",
   "name": "python3"
  },
  "language_info": {
   "codemirror_mode": {
    "name": "ipython",
    "version": 3
   },
   "file_extension": ".py",
   "mimetype": "text/x-python",
   "name": "python",
   "nbconvert_exporter": "python",
   "pygments_lexer": "ipython3",
   "version": "3.7.9"
  },
  "orig_nbformat": 4
 },
 "nbformat": 4,
 "nbformat_minor": 2
}
