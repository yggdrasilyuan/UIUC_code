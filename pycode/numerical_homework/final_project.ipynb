{
 "cells": [
  {
   "attachments": {},
   "cell_type": "markdown",
   "metadata": {},
   "source": [
    "# IE525 Final Project\n",
    "\n",
    "***\n",
    "author: \n",
    "Zeyuan Pan  zeyuanp2@illinois.edu\n",
    "Shuxiang Lei lei14@illinois.edu\n",
    "***"
   ]
  },
  {
   "cell_type": "code",
   "execution_count": 3,
   "metadata": {},
   "outputs": [],
   "source": [
    "import numpy as np\n",
    "import pandas as pd\n",
    "from scipy.stats import norm\n",
    "import scipy.interpolate as spi\n",
    "import scipy.sparse as sp\n",
    "import scipy.linalg as sla\n",
    "from scipy.sparse.linalg import inv\n",
    "from scipy.sparse.linalg import spsolve\n",
    "import scipy.stats as stats\n",
    "from numpy import mat\n",
    "import math"
   ]
  },
  {
   "attachments": {},
   "cell_type": "markdown",
   "metadata": {},
   "source": [
    "We learn about a put option with stock price S = 100, strike price K = 100, interest rate of 0.025, dividend rate of 0, maturity of 0.642 years and volatility of 0.2, which has the following characteristics:\n",
    "\n",
    "| Properties | Symbol | Value |\n",
    "|-----------|:------------:|:---:|\n",
    "| Stock price | $S$ |100 |\n",
    "| exercise price | $K$ |100 |\n",
    "| continuous interest rate | $r$ |0.025 |\n",
    "| continuous dividend rate | $q$ |0 |\n",
    "| volatility | $\\sigma$ |0.2 |\n",
    "| years to maturity |$T$ |0.642 |\n"
   ]
  },
  {
   "cell_type": "code",
   "execution_count": 4,
   "metadata": {},
   "outputs": [],
   "source": [
    "#init_param\n",
    "(S, K, r, q, T, sigma, option_type) = (100, 100, 0.025, 0.00, 231 / 360, 0.2, 'put')\n",
    "(Smin, Smax, Ns, Nt) = (0, 4*np.maximum(S,K), 200, 200)\n",
    "np.random.seed(1000)\n",
    "\n",
    "class init_option():\n",
    "    \n",
    "    def __init__(self, S, K, r, q, T, sigma, option_type, Smin, Smax, Ns, Nt):\n",
    "        self.S = S\n",
    "        self.K = K\n",
    "        self.r = r\n",
    "        self.q = q\n",
    "        self.T = T\n",
    "        self.sigma = sigma\n",
    "        self.option_type = option_type\n",
    "        self.is_call = (option_type[0].lower()=='c')\n",
    "        self.omega = 1 if self.is_call else -1\n",
    "        self.Smin = Smin\n",
    "        self.Smax = Smax\n",
    "        self.Ns = int(Ns)\n",
    "        self.Nt = int(Nt)\n",
    "        self.dS = (Smax-Smin)/Ns * 1.0\n",
    "        self.dt = T/Nt*1.0\n",
    "        self.Svec = np.linspace(Smin, Smax, self.Ns+1)\n",
    "        self.Tvec = np.linspace(0, T, self.Nt+1)\n",
    "        self.grid = np.zeros(shape=(self.Ns+1, self.Nt+1))\n",
    "        \n",
    "    def _set_terminal_condition_(self):\n",
    "        self.grid[:, -1] = np.maximum(self.omega*(self.Svec - self.K), 0)\n",
    "    \n",
    "    def _set_boundary_condition_(self):\n",
    "        tau = self.Tvec[-1] - self.Tvec;     \n",
    "        DFq = np.exp(-q*tau)\n",
    "        DFr = np.exp(-r*tau)\n",
    "\n",
    "        self.grid[0,  :] = np.maximum(self.omega*(self.Svec[0]*DFq - self.K*DFr), 0)\n",
    "        self.grid[-1, :] = np.maximum(self.omega*(self.Svec[-1]*DFq - self.K*DFr), 0)        \n",
    "        \n",
    "    def _set_coefficient__(self):\n",
    "        drift = (self.r-self.q)*self.Svec[1:-1]/self.dS\n",
    "        diffusion_square = (self.sigma*self.Svec[1:-1]/self.dS)**2\n",
    "        \n",
    "        self.l = 0.5*(diffusion_square - drift)\n",
    "        self.c = -diffusion_square - self.r\n",
    "        self.u = 0.5*(diffusion_square + drift)\n",
    "        \n",
    "    def _solve_(self):\n",
    "        pass\n",
    "    \n",
    "    def _interpolate_(self):\n",
    "        tck = spi.splrep( self.Svec, self.grid[:,0], k=3 )\n",
    "        return spi.splev( self.S, tck )\n",
    "        #return np.interp(self.S, self.Svec, self.grid[:,0])\n",
    "    \n",
    "    def price(self):\n",
    "        self._set_terminal_condition_()\n",
    "        self._set_boundary_condition_()\n",
    "        self._set_coefficient__()\n",
    "        self._set_matrix_()\n",
    "        self._solve_()\n",
    "        return self._interpolate_()"
   ]
  },
  {
   "attachments": {},
   "cell_type": "markdown",
   "metadata": {},
   "source": [
    "### Part a Using crank nicolson to price a European put vanilla"
   ]
  },
  {
   "attachments": {},
   "cell_type": "markdown",
   "metadata": {},
   "source": [
    "Using the Crank-Nicolson method, the discretized form of this equation for an European option would be:\n",
    "$$V_j^n+1 - V_j^n = dt/2 * ((σ² * j² * (V_{j+1}^n - 2V_j^n + V_{j-1}^n) + r * j * (V_{j+1}^n - V_{j-1}^n)/2 - r * V_j^n) + (σ² * j² * (V_{j+1}^{n+1} - 2V_j^{n+1} + V_{j-1}^{n+1}) + r * j * (V_{j+1}^{n+1} - V_{j-1}^{n+1})/2 - r * V_j^{n+1}))\n",
    "$$\n",
    "\n",
    "The boundary conditions for V at S=0 and S=∞ will depend on whether the option is a call or a put. For a call option, V=0 when S=0 and V=S when S=∞. For a put option, V=K when S=0 and V=0 when S=∞, where K is the strike price. The initial condition at time t=0 is V=max(S-K, 0) for a call and V=max(K-S, 0) for a put.\n",
    "\n",
    "And The subscripts j refers to the spatial steps, while the superscripts n refer to the time steps."
   ]
  },
  {
   "cell_type": "code",
   "execution_count": 5,
   "metadata": {},
   "outputs": [],
   "source": [
    "class CrankNicolsonEu(init_option):\n",
    "\n",
    "    theta = 0.5\n",
    "    \n",
    "    def _set_matrix_(self):\n",
    "        self.A = sp.diags([self.l[1:], self.c, self.u[:-1]], [-1, 0, 1],  format='csc')\n",
    "        self.I = sp.eye(self.Ns-1)\n",
    "        self.M1 = self.I + (1-self.theta)*self.dt*self.A\n",
    "        self.M2 = self.I - self.theta*self.dt*self.A\n",
    "    \n",
    "    def _solve_(self):           \n",
    "        _, M_lower, M_upper = sla.lu(self.M2.toarray())        \n",
    "        for j in reversed(np.arange(self.Nt)):\n",
    "            \n",
    "            U = self.M1.dot(self.grid[1:-1, j+1])\n",
    "            \n",
    "            U[0] += self.theta*self.l[0]*self.dt*self.grid[0, j] \\\n",
    "                 + (1-self.theta)*self.l[0]*self.dt*self.grid[0, j+1] \n",
    "            U[-1] += self.theta*self.u[-1]*self.dt*self.grid[-1, j] \\\n",
    "                  + (1-self.theta)*self.u[-1]*self.dt*self.grid[-1, j+1] \n",
    "            \n",
    "            Ux = sla.solve_triangular( M_lower, U, lower=True )\n",
    "            self.grid[1:-1, j] = sla.solve_triangular( M_upper, Ux, lower=False )"
   ]
  },
  {
   "cell_type": "code",
   "execution_count": 6,
   "metadata": {},
   "outputs": [
    {
     "name": "stdout",
     "output_type": "stream",
     "text": [
      "Using the Crank Nicolson method to compute the European option, the price is: 5.5574\n"
     ]
    }
   ],
   "source": [
    "# (th-1, alpha, epsilon) = (0.5, 1.5, 1e-6)\n",
    "euro_opt = CrankNicolsonEu(S, K, r, q, T, sigma, option_type, Smin, Smax, Ns, Nt)\n",
    "parta_answer=euro_opt.price()\n",
    "print(\"Using the Crank Nicolson method to compute the European option, the price is:\", parta_answer.round(4))"
   ]
  },
  {
   "attachments": {},
   "cell_type": "markdown",
   "metadata": {},
   "source": [
    "### Part b Using crank nicolson to price an American put vanilla"
   ]
  },
  {
   "cell_type": "code",
   "execution_count": 7,
   "metadata": {},
   "outputs": [],
   "source": [
    "class CrankNicolsonAm(init_option):\n",
    "\n",
    "    def __init__(self, S, K, r, q, T, sigma, option_type, Smin, Smax, Ns, Nt, theta, lbd, epsilon):\n",
    "        super().__init__(S, K, r, q, T, sigma, option_type, Smin, Smax, Ns, Nt)\n",
    "        self.theta = theta\n",
    "        self.lbd = lbd\n",
    "        self.epsilon = epsilon\n",
    "        self.max_iter = 10*Nt\n",
    "    \n",
    "    def _set_matrix_(self):\n",
    "        self.A = sp.diags([self.l[1:], self.c, self.u[:-1]], [-1, 0, 1], format='csc')\n",
    "        self.I = sp.eye(self.Ns-1)\n",
    "    \n",
    "    def _solve_(self):           \n",
    "        (theta, dt) = (self.theta, self.dt)\n",
    "        payoff = self.grid[1:-1, -1]\n",
    "        pastval = payoff.copy()\n",
    "        G = payoff.copy()\n",
    "        \n",
    "        for j in reversed(np.arange(self.Nt)):\n",
    "            counter = 0\n",
    "            noBreak = 1\n",
    "            newval = pastval.copy()\n",
    "            \n",
    "            while noBreak:\n",
    "                counter += 1\n",
    "                oldval = newval.copy()\n",
    "                D = sp.diags( (G > (1-theta)*pastval + theta*newval).astype(int), format='csc' )\n",
    "                z = (self.I + (1-theta)*dt*(self.A - self.lbd*D))*pastval + dt*self.lbd*D*G\n",
    "                \n",
    "                z[0] += theta*self.l[0]*dt*self.grid[0, j] \\\n",
    "                 + (1-theta)*self.l[0]*dt*self.grid[0, j+1] \n",
    "                z[-1] += theta*self.u[-1]*dt*self.grid[-1, j] \\\n",
    "                  + (1-theta)*self.u[-1]*dt*self.grid[-1, j+1] \n",
    "                                \n",
    "                M = self.I - theta*dt*(self.A - self.lbd*D)\n",
    "                newval = spsolve(M,z)\n",
    "        \n",
    "                noBreak = CrankNicolsonAm.trigger( oldval, newval, self.epsilon, counter, self.max_iter )\n",
    "            \n",
    "            pastval = newval.copy()\n",
    "            self.grid[1:-1, j] = pastval\n",
    "    \n",
    "    @staticmethod\n",
    "    def trigger( oldval, newval, tol, counter, maxIteration ):\n",
    "        noBreak = 1\n",
    "        if np.max( np.abs(newval-oldval)/np.maximum(1,np.abs(newval)) ) <= tol:\n",
    "            noBreak = 0\n",
    "        elif counter > maxIteration:\n",
    "            print('The results may not converge.')\n",
    "            noBreak = 0\n",
    "        return noBreak"
   ]
  },
  {
   "cell_type": "code",
   "execution_count": 8,
   "metadata": {
    "tags": []
   },
   "outputs": [
    {
     "name": "stdout",
     "output_type": "stream",
     "text": [
      "Using the Crank Nicolson method to compute the American option, the price is: 5.6921\n"
     ]
    }
   ],
   "source": [
    "(theta, lbd, epsilon) = (0.5, 1e6, 1e-6)\n",
    "amer_opt = CrankNicolsonAm(S, K, r, q, T, sigma, option_type, Smin, Smax, Ns, Nt, theta, lbd, epsilon)\n",
    "partb_answer=amer_opt.price()\n",
    "print(\"Using the Crank Nicolson method to compute the American option, the price is:\",partb_answer.round(4))"
   ]
  },
  {
   "attachments": {},
   "cell_type": "markdown",
   "metadata": {},
   "source": [
    "### Part C Computing the continuous down and in put barrier option"
   ]
  },
  {
   "attachments": {},
   "cell_type": "markdown",
   "metadata": {},
   "source": [
    "The Black-Scholes-Merton PDE:\n",
    "$$\n",
    "\\frac{\\partial V}{\\partial t} + \\frac{1}{2} \\sigma^2 S^2 \\frac{\\partial^2 V}{\\partial S^2} + rS \\frac{\\partial V}{\\partial S} - rV = 0\n",
    "$$\n",
    "Approximation of derivative terms:\n",
    "\n",
    "$$\n",
    "\\frac{\\partial V}{\\partial t} \\approx \\frac{V_i^{n+1} - V_i^n}{\\Delta t}\n",
    "$$\n",
    "\n",
    "$$\n",
    "\\frac{\\partial V}{\\partial S} \\approx \\frac{V_{i+1}^n - V_{i-1}^n}{2\\Delta S}\n",
    "$$\n",
    "\n",
    "$$\n",
    "\\frac{\\partial^2 V}{\\partial S^2} \\approx \\frac{V_{i+1}^n - 2V_i^n + V_{i-1}^n}{\\Delta S^2}\n",
    "$$\n",
    "\n",
    "Crank-Nicolson method:\n",
    "$$\n",
    "V_i^{n+1} - V_i^n = \\frac{\\Delta t}{2} \\left[ \\left( \\frac{\\sigma^2 S_i^2 (V_{i+1}^n - 2V_i^n + V_{i-1}^n)}{\\Delta S^2} + rS_i \\frac{V_{i+1}^n - V_{i-1}^n}{2\\Delta S} - rV_i^n \\right) + \\left( \\frac{\\sigma^2 S_i^2 (V_{i+1}^{n+1} - 2V_i^{n+1} + V_{i-1}^{n+1})}{\\Delta S^2} + rS_i \\frac{V_{i+1}^{n+1} - V_{i-1}^{n+1}}{2\\Delta S} - rV_i^{n+1} \\right) \\right]\n",
    "$$\n",
    "\n",
    "Boundary conditions for an up-and-out call option:\n",
    "$$\n",
    "V = \n",
    "\\begin{cases}\n",
    "\\max(S - K, 0), & \\text{if } S < B \\\\\n",
    "0, & \\text{if } S \\geq B\n",
    "\\end{cases}\n",
    "$$\n"
   ]
  },
  {
   "cell_type": "code",
   "execution_count": 9,
   "metadata": {},
   "outputs": [
    {
     "name": "stdout",
     "output_type": "stream",
     "text": [
      "Barrier Option Price: 1.9964\n"
     ]
    }
   ],
   "source": [
    "\n",
    "\n",
    "H = 80      # Barrier level\n",
    "def cal_barrier_put(S, K, r, q, T, sigma, H):\n",
    "    m = 1000\n",
    "    dS = 200 / m\n",
    "    dT = T / m\n",
    "\n",
    "    # Initialize matrices and arrays\n",
    "    array = np.zeros((m - 1, m - 1))\n",
    "    matrix = mat(array)\n",
    "    price_a = np.zeros((m + 1, m + 1))\n",
    "    price_m = mat(price_a)\n",
    "\n",
    "    # Generate coefficients for matrix\n",
    "    for i in range(m - 1):\n",
    "        j = i + 1\n",
    "        sigma2 = (sigma * j) ** 2\n",
    "        x1 = 0.5 * dT * (r * j - sigma2)\n",
    "        x2 = 1 + dT * (sigma2 + r)\n",
    "        x3 = 0.5 * dT * (-r * j - sigma2)\n",
    "\n",
    "        if i == 0:\n",
    "            matrix[i, i] = x2\n",
    "            matrix[i, i + 1] = x3\n",
    "        elif i == m - 2:\n",
    "            matrix[i, i - 1] = x1\n",
    "            matrix[i, i] = x2\n",
    "        else:\n",
    "            matrix[i, i - 1] = x1\n",
    "            matrix[i, i] = x2\n",
    "            matrix[i, i + 1] = x3\n",
    "\n",
    "    # Initialize price_m\n",
    "    price_m[:, m] = 0\n",
    "    price_m[:, 0] = K\n",
    "    for i in range(m + 1):\n",
    "        price_m[m, i] = max((K - dS * i), 0)\n",
    "        for j in range(m + 1):\n",
    "            if (dS * j > H):\n",
    "                price_m[m, j] = 0\n",
    "\n",
    "    # Calculate Bput\n",
    "    inverse_m = matrix.I\n",
    "    for i in range(m, 0, -1):\n",
    "        price = price_m[i, 1:m]\n",
    "        z = np.zeros((m - 1))\n",
    "        z[0] = x1 * price_m[i - 1, 0]\n",
    "        z[m - 2] = x3 * price_m[i - 1, m]\n",
    "        price1 = inverse_m * (price - z).reshape((m - 1, 1))\n",
    "        price1 = price1.reshape(1, m - 1)\n",
    "        price_m[i - 1, 1:m] = price1\n",
    "\n",
    "    i = np.round(S / dS, 0)\n",
    "    return price_m[0, int(i)]\n",
    "\n",
    "\n",
    "# partc_answer = barrier_option_price(S, K, r, q, T, sigma, H)\n",
    "partc_answer=cal_barrier_put(S, K, r, q, T, sigma, H)\n",
    "print(\"Barrier Option Price:\", partc_answer.round(4))"
   ]
  },
  {
   "attachments": {},
   "cell_type": "markdown",
   "metadata": {},
   "source": [
    "### Part D.1 use Black Scholes price to reconcile your PDE price with prices from part a and part c.\n",
    "\n",
    "According to the **BS** formula, the analytical solution of the Euclidean option is\n",
    "\n",
    "\n",
    "$$\n",
    "V = e^{-rT} \\cdot E\\left[ \\left[ \\omega\\left(S_T-K\\right)\\right]^+\\right]\n",
    "= \\omega\\cdot\\left[e^{-qT}S_0\\Phi(\\omega\\cdot d_+) - e^{-rT}K\\Phi(\\omega\\cdot d_{-})\\right] \n",
    "$$\n",
    "\n",
    "    \n",
    "where\n",
    "\n",
    "\n",
    "$$\n",
    "d_{\\pm} = \\frac{1}{\\sigma\\sqrt{T}}\\ln\\left(\\frac{S_0e^{(r-q)T}}{K}\\right)\\pm\\frac{\\sigma\\sqrt{T}}{2}\n",
    "$$\n",
    "\n",
    "\n",
    "The call option corresponds to $\\omega = 1$ and the put option corresponds to $\\omega = -1$."
   ]
  },
  {
   "cell_type": "code",
   "execution_count": 10,
   "metadata": {},
   "outputs": [
    {
     "name": "stdout",
     "output_type": "stream",
     "text": [
      "Using the BS model the option price for european option is  5.5697\n",
      "the part a answer is 5.5574\n"
     ]
    }
   ],
   "source": [
    "def blackscholes( S0=100, K=100, r=0.025, q=0.00, T=231 / 360, sigma=0.2, omega=1 ):\n",
    "    discount = np.exp(-r*T)\n",
    "    forward = S0*np.exp((r-q)*T)\n",
    "    moneyness = np.log(forward/K)\n",
    "    vol_sqrt_T = sigma*np.sqrt(T)\n",
    "    \n",
    "    d1 = moneyness / vol_sqrt_T + 0.5*vol_sqrt_T\n",
    "    d2 = d1 - vol_sqrt_T\n",
    "    \n",
    "    V = omega * discount * (forward*norm.cdf(omega*d1) - K*norm.cdf(omega*d2))\n",
    "    return V\n",
    "\n",
    "partd_answer = blackscholes(S, K, r, q,T, sigma,-1)\n",
    "print(\"Using the BS model the option price for european option is \",partd_answer.round(4))\n",
    "print(\"the part a answer is\",parta_answer.round(4))"
   ]
  },
  {
   "attachments": {},
   "cell_type": "markdown",
   "metadata": {},
   "source": [
    "The Analytic formula to price a Continuous down and in put barrier option:\n",
    "$$\n",
    "P=-SN(-x1)+Ke^{-rT}N(-x1+\\sigma \\sqrt{T})+S{(\\frac{B}{S})}^{2\\mu}(N(y)-N(y1))-Ke^{-rT}{(\\frac{B}{S})}^{2\\mu-2}(N(y-\\sigma \\sqrt{T})-N(y1-\\sigma \\sqrt{T}))\n",
    "$$\n",
    "in this equation we got\n",
    "$$\\mu=\\frac{r+\\sigma^2/2}{\\sigma^2}, y=\\frac{ln\\frac{B^2}{KS}}{\\sigma\\sqrt{T}}+\\mu\\sigma\\sqrt{T},y1=\\frac{ln\\frac{B}{S}}{\\sigma\\sqrt{T}}+\\mu\\sigma\\sqrt{T},x1=\\frac{ln\\frac{S}{B}}{\\sigma\\sqrt{T}}+\\mu\\sigma\\sqrt{T}$$"
   ]
  },
  {
   "cell_type": "code",
   "execution_count": 14,
   "metadata": {},
   "outputs": [
    {
     "name": "stdout",
     "output_type": "stream",
     "text": [
      "Using the analytical formula to calculate the option price for barrier option is  3.071768855752139\n",
      "the part c answer is 1.9964\n"
     ]
    }
   ],
   "source": [
    "# Define the variables\n",
    "B=80\n",
    "# K=100\n",
    "# Calculate mu, x, y\n",
    "\n",
    "# Calculate mu, x1, y, y1\n",
    "mu = (r + sigma**2 / 2) / sigma**2\n",
    "x1 = (np.log(S / B) / (sigma * np.sqrt(T))) + mu * sigma * np.sqrt(T)\n",
    "y = (np.log(B**2 / (K*S)) / (sigma * np.sqrt(T))) + mu * sigma * np.sqrt(T)\n",
    "y1 = (np.log(B / S) / (sigma * np.sqrt(T))) + mu * sigma * np.sqrt(T)\n",
    "\n",
    "# Calculate the terms\n",
    "term1 = -S * norm.cdf(-x1)\n",
    "term2 = K * np.exp(-r*T) * norm.cdf(-x1 + sigma * np.sqrt(T))\n",
    "term3 = S * (B / S) ** (2 * mu) * (norm.cdf(y) - norm.cdf(y1))\n",
    "term4 = -K * np.exp(-r*T) * (B / S) ** (2 * mu - 2) * (norm.cdf(y - sigma * np.sqrt(T)) - norm.cdf(y1 - sigma * np.sqrt(T)))\n",
    "\n",
    "# Add all terms\n",
    "P = term1 + term2 + term3 + term4\n",
    "# print(P)\n",
    "\n",
    "print(\"Using the analytical formula to calculate the option price for barrier option is \",P)\n",
    "print(\"the part c answer is\", partc_answer.round(4))"
   ]
  },
  {
   "attachments": {},
   "cell_type": "markdown",
   "metadata": {},
   "source": [
    "### Part D.2 Use trinomial tree to reconcile the price from part b.\n",
    "\n",
    "To calculate the price movements, we use:\n",
    "\n",
    "- Up: $S_{u} = Su$\n",
    "- Down: $S_{d} = Sd$\n",
    "- Flat: $S_{m} = Sm$\n",
    "\n",
    "For a put option, the exercise value at each node is calculated as:\n",
    "\n",
    "$$\n",
    "\\text{Exercise Value} = \\max(K - S, 0)\n",
    "$$\n",
    "\n",
    "The discounted expected future value at each node (assuming risk-neutral probabilities $p$, $q$, and $1-p-q$ for up, down, and flat movements respectively) is given by:\n",
    "\n",
    "$$\n",
    "\\text{Expected Future Value} = e^{-r\\Delta t} \\left[ p V_{\\text{up}} + q V_{\\text{down}} + (1-p-q) V_{\\text{flat}} \\right]\n",
    "$$\n",
    "\n",
    "where $V_{\\text{up}}$, $V_{\\text{down}}$, and $V_{\\text{flat}}$ are the option values at the next time step for up, down, and flat movements respectively.\n",
    "\n",
    "The value of the put option at each node is then the maximum of the exercise value and the discounted expected future value:\n",
    "\n",
    "$$\n",
    "V = \\max \\left( K - S, e^{-r\\Delta t} \\left[ p V_{\\text{up}} + q V_{\\text{down}} + (1-p-q) V_{\\text{flat}} \\right] \\right)\n",
    "$$\n",
    "\n",
    "In the trinomial model, the probabilities $p$, $q$, and $1-p-q$ and the factors $u$, $d$, and $m$ are determined using the risk-free rate, the volatility of the stock, and the time step size.\n"
   ]
  },
  {
   "cell_type": "code",
   "execution_count": 12,
   "metadata": {},
   "outputs": [
    {
     "name": "stdout",
     "output_type": "stream",
     "text": [
      "Using the trinominal model the price is 5.7037\n",
      "The part b price is  5.6921\n"
     ]
    }
   ],
   "source": [
    "def american_trinominal_model(S, T, K, r, q, sigma, call):\n",
    "    dt = 1. / 360\n",
    "    N = int(T / dt)\n",
    "    mu = r - q - (sigma ** 2) / 2.0\n",
    "    smax = 2 * abs(mu) * dt ** .5\n",
    "    smax = max(smax, sigma * (2 ** .5))\n",
    "    if smax == 0:\n",
    "        return -9999\n",
    "    M = int(5 * (N ** .5))\n",
    "    C_ = np.empty(2 * M + 1, dtype=np.float64)\n",
    "    pC_ = np.empty(2 * M + 1, dtype=np.float64)\n",
    "    S_ = np.empty(2 * M + 1, dtype=np.float64, )\n",
    "    p = float(0.5 * (sigma ** 2)) / (smax ** 2)\n",
    "    p_u = p + 0.5 * mu * dt ** .5 / float(smax)\n",
    "    p_m = 1 - 2 * p\n",
    "    p_d = p - 0.5 * mu * dt ** .5 / float(smax)\n",
    "    D = 1.0 / (1 + r * dt)\n",
    "    E = math.exp(smax * dt ** .5)\n",
    "\n",
    "    for j in range(0, len(S_)):\n",
    "        if j == 0:\n",
    "            S_[j] = S * math.exp(-M * smax * dt ** .5)\n",
    "        else:\n",
    "            S_[j] = S_[j - 1] * E\n",
    "        if call == True:\n",
    "            C_[j] = max(S_[j] - K, 0)\n",
    "        else:\n",
    "            C_[j] = max(K - S_[j], 0)\n",
    "\n",
    "    for k in range(0, N):\n",
    "        for j in range(1, 2 * M):\n",
    "            pC_[j] = (p_u * C_[j + 1] + p_m * C_[j] + p_d * C_[j - 1]) * D\n",
    "        pC_[0] = 2 * pC_[1] - pC_[2]\n",
    "        pC_[2 * M] = 2 * pC_[2 * M - 1] - pC_[2 * M - 2]\n",
    "\n",
    "        for n in range(0, 2 * M + 1):\n",
    "            if call == True:\n",
    "                C_[n] = max(pC_[n], max(S_[n] - K, 0))\n",
    "            else:\n",
    "                C_[n] = max(pC_[n], max(K - S_[n], 0))\n",
    "    ret = C_[M]\n",
    "    return ret\n",
    "\n",
    "partd_answer2=american_trinominal_model(S=S, K=K, r=r, q=q, T=T, sigma=sigma, call=False)\n",
    "print(\"Using the trinominal model the price is\",partd_answer2.round(4))\n",
    "print(\"The part b price is \", partb_answer.round(4))"
   ]
  },
  {
   "attachments": {},
   "cell_type": "markdown",
   "metadata": {},
   "source": [
    "### Part E Use a Monte Carlo pricer to reconcile with price from part a."
   ]
  },
  {
   "attachments": {},
   "cell_type": "markdown",
   "metadata": {},
   "source": [
    "We still use the BS equations to calculate, ans we have $$S_T=\\ S_0e^{\\left(r-\\frac{\\sigma^2}{2}\\right)T}+\\sigma\\sqrt{T} W,\\mu=r$$\n",
    "where W is a Brownian Motion."
   ]
  },
  {
   "cell_type": "code",
   "execution_count": 13,
   "metadata": {},
   "outputs": [
    {
     "name": "stdout",
     "output_type": "stream",
     "text": [
      "Monte Carlo European Put price: 5.6675\n"
     ]
    }
   ],
   "source": [
    "\n",
    "\n",
    "def monte_carlo_european_put(S0, K, r, sigma, T, num_simulations):\n",
    "    np.random.seed(42)  # For reproducibility\n",
    "    num_timesteps = 10\n",
    "    dt = T / num_timesteps\n",
    "\n",
    "    total_payoff = 0\n",
    "    for i in range(num_simulations):\n",
    "        S = S0\n",
    "        for j in range(num_timesteps):\n",
    "            z = np.random.standard_normal()\n",
    "            S *= np.exp((r - 0.5 * sigma**2) * dt + sigma * np.sqrt(dt) * z)\n",
    "\n",
    "        total_payoff += max(K - S, 0)\n",
    "\n",
    "    price = np.exp(-r * T) * total_payoff / num_simulations\n",
    "    return price\n",
    "\n",
    "# Parameters from part (a)\n",
    "\n",
    "num_simulations = 10000\n",
    "monte_carlo_price = monte_carlo_european_put(S, K, r, sigma, T, num_simulations)\n",
    "\n",
    "print(\"Monte Carlo European Put price:\", monte_carlo_price.round(4))"
   ]
  }
 ],
 "metadata": {
  "kernelspec": {
   "display_name": "Python 3",
   "language": "python",
   "name": "python3"
  },
  "language_info": {
   "codemirror_mode": {
    "name": "ipython",
    "version": 3
   },
   "file_extension": ".py",
   "mimetype": "text/x-python",
   "name": "python",
   "nbconvert_exporter": "python",
   "pygments_lexer": "ipython3",
   "version": "3.7.9"
  }
 },
 "nbformat": 4,
 "nbformat_minor": 2
}
