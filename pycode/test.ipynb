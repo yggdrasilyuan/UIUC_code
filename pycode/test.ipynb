{
 "cells": [
  {
   "cell_type": "code",
   "execution_count": 2,
   "metadata": {},
   "outputs": [
    {
     "name": "stderr",
     "output_type": "stream",
     "text": [
      "[25016:MainThread](2023-04-22 20:33:21,184) INFO - qlib.Initialization - [config.py:416] - default_conf: client.\n",
      "[25016:MainThread](2023-04-22 20:33:21,185) WARNING - qlib.Initialization - [__init__.py:64] - auto_path is False, please make sure None is mounted\n",
      "[25016:MainThread](2023-04-22 20:33:21,190) INFO - qlib.Initialization - [__init__.py:74] - qlib successfully initialized based on client settings.\n",
      "[25016:MainThread](2023-04-22 20:33:21,191) INFO - qlib.Initialization - [__init__.py:76] - data_path={'__DEFAULT_FREQ': WindowsPath('qlib_etf_data')}\n"
     ]
    }
   ],
   "source": [
    "## creat board\n",
    "import numpy as np\n",
    "\n",
    "sample=[[0, 0, 0, 0, 0,]\n",
    " [0, 0, 0, 0, 0,]\n",
    " [0, 0, 0, 0, 0,]\n",
    " [0, 0, 0, 0, 0,]\n",
    " [0, 0, 0, 0, 0,]]\n",
    "board=np,zeros((5,5))\n",
    "\n",
    "print(sample)"
   ]
  }
 ],
 "metadata": {
  "kernelspec": {
   "display_name": "str",
   "language": "python",
   "name": "python3"
  },
  "language_info": {
   "codemirror_mode": {
    "name": "ipython",
    "version": 3
   },
   "file_extension": ".py",
   "mimetype": "text/x-python",
   "name": "python",
   "nbconvert_exporter": "python",
   "pygments_lexer": "ipython3",
   "version": "3.7.9"
  },
  "orig_nbformat": 4
 },
 "nbformat": 4,
 "nbformat_minor": 2
}
