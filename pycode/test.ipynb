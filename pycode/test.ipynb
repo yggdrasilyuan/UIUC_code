{
 "cells": [
  {
   "cell_type": "code",
   "execution_count": 2,
   "metadata": {},
   "outputs": [
    {
     "name": "stderr",
     "output_type": "stream",
     "text": [
      "[25016:MainThread](2023-04-22 20:33:21,184) INFO - qlib.Initialization - [config.py:416] - default_conf: client.\n",
      "[25016:MainThread](2023-04-22 20:33:21,185) WARNING - qlib.Initialization - [__init__.py:64] - auto_path is False, please make sure None is mounted\n",
      "[25016:MainThread](2023-04-22 20:33:21,190) INFO - qlib.Initialization - [__init__.py:74] - qlib successfully initialized based on client settings.\n",
      "[25016:MainThread](2023-04-22 20:33:21,191) INFO - qlib.Initialization - [__init__.py:76] - data_path={'__DEFAULT_FREQ': WindowsPath('qlib_etf_data')}\n"
     ]
    }
   ],
   "source": [
    "## creat board\n",
    "import numpy as np\n",
    "\n",
    "sample=[[0, 0, 0, 0, 0,]\n",
    " [0, 0, 0, 0, 0,]\n",
    " [0, 0, 0, 0, 0,]\n",
    " [0, 0, 0, 0, 0,]\n",
    " [0, 0, 0, 0, 0,]]\n",
    "board=np,zeros((5,5))\n",
    "\n",
    "print(sample)"
   ]
  },
  {
   "cell_type": "code",
   "execution_count": 6,
   "metadata": {},
   "outputs": [
    {
     "name": "stdout",
     "output_type": "stream",
     "text": [
      "Probability of winning: 0.38742\n"
     ]
    }
   ],
   "source": [
    "import random\n",
    "\n",
    "def play_game():\n",
    "    count_5 = 0\n",
    "    observed_4 = False\n",
    "    observed_6 = False\n",
    "    while True:\n",
    "        spin = random.randint(1, 7)\n",
    "        if spin == 5:\n",
    "            count_5 += 1\n",
    "            if count_5 == 2:\n",
    "                return True  # Win\n",
    "        elif spin == 4:\n",
    "            observed_4 = True\n",
    "        elif spin == 6:\n",
    "            observed_6 = True\n",
    "        \n",
    "        if observed_4 and observed_6:\n",
    "            return False  # Lose\n",
    "\n",
    "# Simulate the game\n",
    "num_simulations = 100000\n",
    "wins = sum(play_game() for _ in range(num_simulations))\n",
    "\n",
    "print(f\"Probability of winning: {wins / num_simulations}\")\n",
    "\n"
   ]
  },
  {
   "cell_type": "markdown",
   "metadata": {},
   "source": [
    "\n",
    "Proposed a strategy that the lower the sentiment content of a company’s annual report, the higher the stock return, build a global market portfolio, and backtest the strategy using an in-house built backtesting platform to verify its validity. And this hypothesis came from one paper called ”Lazy Price” which proposed the importance of sentiment indicators in determining stock market returns is explored by analyzing the word count and sentiment level of the paper"
   ]
  },
  {
   "cell_type": "markdown",
   "metadata": {},
   "source": [
    "From my perspective, I think I can talk about Network Embedding related directions for more than thirty minutes without preparation. First of all, I have more in-depth research in the field of Network Embedding, and I have participated as a second author and published papers related to this direction, details of which can be found in my CV experience. Secondly, I think the research in this area is very relevant and interesting, and life is full of applications and research on network data."
   ]
  },
  {
   "cell_type": "code",
   "execution_count": 13,
   "metadata": {},
   "outputs": [
    {
     "name": "stdout",
     "output_type": "stream",
     "text": [
      "Gurobi Optimizer version 9.5.0 build v9.5.0rc5 (win64)\n",
      "Thread count: 8 physical cores, 16 logical processors, using up to 16 threads\n",
      "Optimize a model with 5 rows, 12 columns and 24 nonzeros\n",
      "Model fingerprint: 0x85838dc4\n",
      "Coefficient statistics:\n",
      "  Matrix range     [1e+00, 1e+01]\n",
      "  Objective range  [2e+01, 2e+01]\n",
      "  Bounds range     [0e+00, 0e+00]\n",
      "  RHS range        [0e+00, 0e+00]\n",
      "Presolve removed 5 rows and 12 columns\n",
      "Presolve time: 0.00s\n",
      "Presolve: All rows and columns removed\n",
      "Iteration    Objective       Primal Inf.    Dual Inf.      Time\n",
      "       0    0.0000000e+00   0.000000e+00   0.000000e+00      0s\n",
      "\n",
      "Solved in 0 iterations and 0.01 seconds (0.00 work units)\n",
      "Optimal objective  0.000000000e+00\n",
      "C0 = 0.0\n",
      "C1 = 0.0\n",
      "C2 = 0.0\n",
      "C3 = 0.0\n",
      "C4 = 0.0\n",
      "C5 = 0.0\n",
      "C6 = 0.0\n",
      "C7 = 0.0\n",
      "C8 = 0.0\n",
      "C9 = 0.0\n",
      "C10 = 0.0\n",
      "C11 = 0.0\n",
      "Objective Value: 0.0\n"
     ]
    }
   ],
   "source": [
    "from gurobipy import *\n",
    "import pandas as pd\n",
    "\n",
    "\n",
    "def sudoku():\n",
    "    model = Model('solve_sudoku')\n",
    "    #  add variable\n",
    "    x = model.addVars(6, 2, vtype=GRB.CONTINUOUS)\n",
    "    model.update()\n",
    "    #  create object\n",
    "    model.setObjective(23.4*x[0,0]-23*x[0,1]+20.6*x[1,0]-20.3*x[1,1]+18*x[2,0]-17.7*x[2,1]+19*x[3,0]-18.7*x[3,1]+21.3*x[4,0]-20.9*x[4,1]+23.8*x[5,0]-23.3*x[5,1], GRB.MINIMIZE)\n",
    "    #  add constraint\n",
    "    model.addConstr(x[3,0]-x[3,1]+x[4,0]-x[4,1]+x[5,0]-x[5,1]>=0)\n",
    "    model.addConstr(5*(x[4,0]-x[4,1])+10*(x[5,0]-x[5,1])>=0)\n",
    "    model.addConstr(5*(x[0,0]-x[0,1])+5*(x[5,0]-x[5,1])>=0)\n",
    "    model.addConstr(10*(x[0,0]-x[0,1])+5*(x[1,0]-x[1,1])>=0)\n",
    "    model.addConstr(x[0,0]-x[0,1]+x[1,0]-x[1,1]+x[2,0]-x[2,1] >=0)\n",
    "\n",
    "    model.optimize()\n",
    "    # output\n",
    "    for v in model.getVars():\n",
    "        print(f\"{v.varName} = {v.x}\")\n",
    "\n",
    "    print(f\"Objective Value: {model.objVal}\")\n",
    "\n",
    "\n",
    "if __name__=='__main__':\n",
    "    # matrix = pd.read_excel('.\\sudoku_test.xlsx', index_col=False, header=None, na_filter=False)\n",
    "    sudoku()\n",
    "    "
   ]
  },
  {
   "cell_type": "code",
   "execution_count": 1,
   "metadata": {},
   "outputs": [
    {
     "name": "stdout",
     "output_type": "stream",
     "text": [
      "3\n",
      "4\n",
      "5\n"
     ]
    }
   ],
   "source": [
    "for i in [3,4,5]:\n",
    "    print(i)"
   ]
  }
 ],
 "metadata": {
  "kernelspec": {
   "display_name": "str",
   "language": "python",
   "name": "python3"
  },
  "language_info": {
   "codemirror_mode": {
    "name": "ipython",
    "version": 3
   },
   "file_extension": ".py",
   "mimetype": "text/x-python",
   "name": "python",
   "nbconvert_exporter": "python",
   "pygments_lexer": "ipython3",
   "version": "3.7.9"
  },
  "orig_nbformat": 4
 },
 "nbformat": 4,
 "nbformat_minor": 2
}
