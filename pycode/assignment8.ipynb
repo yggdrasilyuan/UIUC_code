{
 "cells": [
  {
   "cell_type": "code",
   "execution_count": 9,
   "metadata": {},
   "outputs": [
    {
     "data": {
      "text/html": [
       "<div>\n",
       "<style scoped>\n",
       "    .dataframe tbody tr th:only-of-type {\n",
       "        vertical-align: middle;\n",
       "    }\n",
       "\n",
       "    .dataframe tbody tr th {\n",
       "        vertical-align: top;\n",
       "    }\n",
       "\n",
       "    .dataframe thead th {\n",
       "        text-align: right;\n",
       "    }\n",
       "</style>\n",
       "<table border=\"1\" class=\"dataframe\">\n",
       "  <thead>\n",
       "    <tr style=\"text-align: right;\">\n",
       "      <th></th>\n",
       "      <th>n</th>\n",
       "      <th>Theory_Cauchy</th>\n",
       "      <th>Experiment_Cauchy</th>\n",
       "      <th>Theory_Gaussian</th>\n",
       "    </tr>\n",
       "  </thead>\n",
       "  <tbody>\n",
       "    <tr>\n",
       "      <th>0</th>\n",
       "      <td>-5.0</td>\n",
       "      <td>0.001224</td>\n",
       "      <td>0.00138</td>\n",
       "      <td>1.486720e-07</td>\n",
       "    </tr>\n",
       "    <tr>\n",
       "      <th>1</th>\n",
       "      <td>-4.9</td>\n",
       "      <td>0.001273</td>\n",
       "      <td>0.00134</td>\n",
       "      <td>2.438960e-07</td>\n",
       "    </tr>\n",
       "    <tr>\n",
       "      <th>2</th>\n",
       "      <td>-4.8</td>\n",
       "      <td>0.001324</td>\n",
       "      <td>0.00119</td>\n",
       "      <td>3.961300e-07</td>\n",
       "    </tr>\n",
       "    <tr>\n",
       "      <th>3</th>\n",
       "      <td>-4.7</td>\n",
       "      <td>0.001379</td>\n",
       "      <td>0.00144</td>\n",
       "      <td>6.369830e-07</td>\n",
       "    </tr>\n",
       "    <tr>\n",
       "      <th>4</th>\n",
       "      <td>-4.6</td>\n",
       "      <td>0.001436</td>\n",
       "      <td>0.00147</td>\n",
       "      <td>1.014090e-06</td>\n",
       "    </tr>\n",
       "    <tr>\n",
       "      <th>...</th>\n",
       "      <td>...</td>\n",
       "      <td>...</td>\n",
       "      <td>...</td>\n",
       "      <td>...</td>\n",
       "    </tr>\n",
       "    <tr>\n",
       "      <th>96</th>\n",
       "      <td>4.6</td>\n",
       "      <td>0.001436</td>\n",
       "      <td>0.00144</td>\n",
       "      <td>1.014090e-06</td>\n",
       "    </tr>\n",
       "    <tr>\n",
       "      <th>97</th>\n",
       "      <td>4.7</td>\n",
       "      <td>0.001379</td>\n",
       "      <td>0.00148</td>\n",
       "      <td>6.369830e-07</td>\n",
       "    </tr>\n",
       "    <tr>\n",
       "      <th>98</th>\n",
       "      <td>4.8</td>\n",
       "      <td>0.001324</td>\n",
       "      <td>0.00127</td>\n",
       "      <td>3.961300e-07</td>\n",
       "    </tr>\n",
       "    <tr>\n",
       "      <th>99</th>\n",
       "      <td>4.9</td>\n",
       "      <td>0.001273</td>\n",
       "      <td>0.00137</td>\n",
       "      <td>2.438960e-07</td>\n",
       "    </tr>\n",
       "    <tr>\n",
       "      <th>100</th>\n",
       "      <td>5.0</td>\n",
       "      <td>0.001224</td>\n",
       "      <td>0.00117</td>\n",
       "      <td>1.486720e-07</td>\n",
       "    </tr>\n",
       "  </tbody>\n",
       "</table>\n",
       "<p>101 rows × 4 columns</p>\n",
       "</div>"
      ],
      "text/plain": [
       "       n  Theory_Cauchy  Experiment_Cauchy  Theory_Gaussian\n",
       "0   -5.0       0.001224            0.00138     1.486720e-07\n",
       "1   -4.9       0.001273            0.00134     2.438960e-07\n",
       "2   -4.8       0.001324            0.00119     3.961300e-07\n",
       "3   -4.7       0.001379            0.00144     6.369830e-07\n",
       "4   -4.6       0.001436            0.00147     1.014090e-06\n",
       "..   ...            ...                ...              ...\n",
       "96   4.6       0.001436            0.00144     1.014090e-06\n",
       "97   4.7       0.001379            0.00148     6.369830e-07\n",
       "98   4.8       0.001324            0.00127     3.961300e-07\n",
       "99   4.9       0.001273            0.00137     2.438960e-07\n",
       "100  5.0       0.001224            0.00117     1.486720e-07\n",
       "\n",
       "[101 rows x 4 columns]"
      ]
     },
     "execution_count": 9,
     "metadata": {},
     "output_type": "execute_result"
    }
   ],
   "source": [
    "import pandas as pd\n",
    "import matplotlib.pyplot as plt\n",
    "df=pd.read_csv(\"res.csv\")\n",
    "df"
   ]
  },
  {
   "cell_type": "code",
   "execution_count": 10,
   "metadata": {},
   "outputs": [
    {
     "data": {
      "text/plain": [
       "<function matplotlib.pyplot.show(close=None, block=None)>"
      ]
     },
     "execution_count": 10,
     "metadata": {},
     "output_type": "execute_result"
    },
    {
     "data": {
      "image/png": "[encoded data removed]",
      "text/plain": [
       "<Figure size 432x288 with 1 Axes>"
      ]
     },
     "metadata": {
      "needs_background": "light"
     },
     "output_type": "display_data"
    }
   ],
   "source": [
    "plt.plot(df[\"n\"],df[\"Theory_Cauchy\"],label=\"Theory_Cauchy\")\n",
    "plt.plot(df[\"n\"],df[\"Experiment_Cauchy\"],color=\"Red\",label=\"Experiment_Cauchy\")\n",
    "plt.plot(df[\"n\"],df[\"Theory_Gaussian\"],color=\"Green\",label=\"Theory_Gaussian\")\n",
    "# plt.xlabel(\"Number of coin Tosses in Each Game\")\n",
    "# plt.ylabel(\"Alice's Probability of winning\")\n",
    "plt.legend(bbox_to_anchor=(1.0, 1), loc=2, borderaxespad=0.)\n",
    "\n",
    "plt.show"
   ]
  }
 ],
 "metadata": {
  "kernelspec": {
   "display_name": "Python 3 (ipykernel)",
   "language": "python",
   "name": "python3"
  },
  "language_info": {
   "codemirror_mode": {
    "name": "ipython",
    "version": 3
   },
   "file_extension": ".py",
   "mimetype": "text/x-python",
   "name": "python",
   "nbconvert_exporter": "python",
   "pygments_lexer": "ipython3",
   "version": "3.7.4"
  },
  "vscode": {
   "interpreter": {
    "hash": "d7288e82646d3164eca24130947288f8779d11454649f2c02a5dfc42af7f324c"
   }
  }
 },
 "nbformat": 4,
 "nbformat_minor": 2
}
