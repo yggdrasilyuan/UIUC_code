{
 "cells": [
  {
   "cell_type": "code",
   "execution_count": 113,
   "metadata": {},
   "outputs": [
    {
     "data": {
      "text/plain": [
       "256"
      ]
     },
     "execution_count": 113,
     "metadata": {},
     "output_type": "execute_result"
    }
   ],
   "source": [
    "import numpy as np\n",
    "import itertools as it\n",
    "s = list(it.product(range(2), repeat=8))\n",
    "# print(s)\n",
    "len(s)\n",
    "# type(s[1])\n",
    "# list(s[1])\n",
    "origin_list=[]\n",
    "for i in s:\n",
    "    origin_list.append(list(i))\n",
    "\n",
    "len(origin_list)"
   ]
  },
  {
   "cell_type": "code",
   "execution_count": 114,
   "metadata": {},
   "outputs": [
    {
     "data": {
      "text/plain": [
       "array([[0, 0, 0, ..., 0, 0, 0],\n",
       "       [0, 0, 0, ..., 0, 0, 1],\n",
       "       [0, 0, 0, ..., 0, 1, 0],\n",
       "       ...,\n",
       "       [1, 1, 1, ..., 1, 0, 1],\n",
       "       [1, 1, 1, ..., 1, 1, 0],\n",
       "       [1, 1, 1, ..., 1, 1, 1]])"
      ]
     },
     "execution_count": 114,
     "metadata": {},
     "output_type": "execute_result"
    }
   ],
   "source": [
    "ar=np.array(origin_list)\n",
    "ar"
   ]
  },
  {
   "cell_type": "code",
   "execution_count": 115,
   "metadata": {},
   "outputs": [
    {
     "data": {
      "text/plain": [
       "array([[1., 1., 1., ..., 1., 1., 1.],\n",
       "       [1., 1., 1., ..., 1., 1., 1.],\n",
       "       [1., 1., 1., ..., 1., 1., 1.],\n",
       "       ...,\n",
       "       [1., 1., 1., ..., 1., 1., 1.],\n",
       "       [1., 1., 1., ..., 1., 1., 1.],\n",
       "       [1., 1., 1., ..., 1., 1., 1.]])"
      ]
     },
     "execution_count": 115,
     "metadata": {},
     "output_type": "execute_result"
    }
   ],
   "source": [
    "d1=np.ones(ar.shape)\n",
    "# d1[:][]=100\n",
    "# d1[0][:]\n",
    "# for i in range(256):\n",
    "#     d1[i][0]=100\n",
    "\n",
    "d1"
   ]
  },
  {
   "cell_type": "code",
   "execution_count": 116,
   "metadata": {},
   "outputs": [
    {
     "name": "stdout",
     "output_type": "stream",
     "text": [
      "0\n",
      "0\n",
      "0\n",
      "0\n",
      "0\n",
      "0\n",
      "0\n",
      "0\n"
     ]
    }
   ],
   "source": [
    "for i in ar[0]:\n",
    "    print(i)"
   ]
  },
  {
   "cell_type": "code",
   "execution_count": 117,
   "metadata": {},
   "outputs": [
    {
     "data": {
      "text/plain": [
       "array([[0.90909091, 0.82644628, 0.7513148 , ..., 0.56447393, 0.51315812,\n",
       "        0.46650738],\n",
       "       [0.90909091, 0.82644628, 0.7513148 , ..., 0.56447393, 0.51315812,\n",
       "        0.56447393],\n",
       "       [0.90909091, 0.82644628, 0.7513148 , ..., 0.56447393, 0.62092132,\n",
       "        0.56447393],\n",
       "       ...,\n",
       "       [1.1       , 1.21      , 1.331     , ..., 1.771561  , 1.61051   ,\n",
       "        1.771561  ],\n",
       "       [1.1       , 1.21      , 1.331     , ..., 1.771561  , 1.9487171 ,\n",
       "        1.771561  ],\n",
       "       [1.1       , 1.21      , 1.331     , ..., 1.771561  , 1.9487171 ,\n",
       "        2.14358881]])"
      ]
     },
     "execution_count": 117,
     "metadata": {},
     "output_type": "execute_result"
    }
   ],
   "source": [
    "up=1.1\n",
    "down=1/1.1\n",
    "for i in range(256):\n",
    "    for j in range(8):\n",
    "        if(ar[i][j]==0):\n",
    "            d1[i][j]=d1[i][j-1]*down\n",
    "        elif(ar[i][j]==1):\n",
    "            d1[i][j]=d1[i][j-1]*up\n",
    "\n",
    "d1"
   ]
  },
  {
   "cell_type": "code",
   "execution_count": 126,
   "metadata": {},
   "outputs": [
    {
     "data": {
      "text/plain": [
       "array([[ 90.90909091,  82.6446281 ,  75.13148009, ...,  56.44739301,\n",
       "         51.31581182,  46.65073802],\n",
       "       [ 90.90909091,  82.6446281 ,  75.13148009, ...,  56.44739301,\n",
       "         51.31581182,  56.44739301],\n",
       "       [ 90.90909091,  82.6446281 ,  75.13148009, ...,  56.44739301,\n",
       "         62.09213231,  56.44739301],\n",
       "       ...,\n",
       "       [110.        , 121.        , 133.1       , ..., 177.1561    ,\n",
       "        161.051     , 177.1561    ],\n",
       "       [110.        , 121.        , 133.1       , ..., 177.1561    ,\n",
       "        194.87171   , 177.1561    ],\n",
       "       [110.        , 121.        , 133.1       , ..., 177.1561    ,\n",
       "        194.87171   , 214.358881  ]])"
      ]
     },
     "execution_count": 126,
     "metadata": {},
     "output_type": "execute_result"
    }
   ],
   "source": [
    "d2=d1*100\n",
    "# d2=d1\n",
    "d2\n",
    "d3=d2\n",
    "d3"
   ]
  },
  {
   "cell_type": "code",
   "execution_count": 127,
   "metadata": {},
   "outputs": [
    {
     "data": {
      "text/plain": [
       "array([[  0.        ,  45.45454545,  57.85123967, ...,  63.17977949,\n",
       "         62.21800999,  46.65073802],\n",
       "       [  0.        ,  45.45454545,  57.85123967, ...,  63.17977949,\n",
       "         62.21800999,  56.44739301],\n",
       "       [  0.        ,  45.45454545,  57.85123967, ...,  63.17977949,\n",
       "         62.21800999,  56.44739301],\n",
       "       ...,\n",
       "       [  0.        ,  55.        ,  77.        , ..., 111.92683333,\n",
       "        121.2453    , 177.1561    ],\n",
       "       [  0.        ,  55.        ,  77.        , ..., 111.92683333,\n",
       "        121.2453    , 177.1561    ],\n",
       "       [  0.        ,  55.        ,  77.        , ..., 111.92683333,\n",
       "        121.2453    , 214.358881  ]])"
      ]
     },
     "execution_count": 127,
     "metadata": {},
     "output_type": "execute_result"
    }
   ],
   "source": [
    "for j in range(256):\n",
    "    for i in [6,5,4,3,2,1,0]:\n",
    "        temp=0\n",
    "        for t in range(i):\n",
    "            temp+=d2[j][t]\n",
    "        d3[j][i]=temp/(i+1)\n",
    "\n",
    "d3\n",
    "# d4=d3-d2   \n",
    "# d4   "
   ]
  }
 ],
 "metadata": {
  "kernelspec": {
   "display_name": "practicum",
   "language": "python",
   "name": "python3"
  },
  "language_info": {
   "codemirror_mode": {
    "name": "ipython",
    "version": 3
   },
   "file_extension": ".py",
   "mimetype": "text/x-python",
   "name": "python",
   "nbconvert_exporter": "python",
   "pygments_lexer": "ipython3",
   "version": "3.7.9"
  },
  "orig_nbformat": 4,
  "vscode": {
   "interpreter": {
    "hash": "f3e1d988fd02f3af9046135819fd37ed5d41f46c7de55723b70daeaf254c35f3"
   }
  }
 },
 "nbformat": 4,
 "nbformat_minor": 2
}
